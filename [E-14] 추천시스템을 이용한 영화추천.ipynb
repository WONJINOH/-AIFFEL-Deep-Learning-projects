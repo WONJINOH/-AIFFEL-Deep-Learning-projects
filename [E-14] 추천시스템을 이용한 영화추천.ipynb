{
 "cells": [
  {
   "cell_type": "markdown",
   "id": "10d1c3f9",
   "metadata": {},
   "source": [
    "# Latent factor based collaborative filtering을 이용한 영화추천"
   ]
  },
  {
   "cell_type": "markdown",
   "id": "7c4be1fd",
   "metadata": {},
   "source": [
    "### 추천시스템 종류\n",
    "\n",
    "1. 콘텐츠 기반 필터링 : 순수하게 콘텐츠의 내용만을 비교해서 추천하는 방식 ex) 아이언맨1을 봤으면 아이언맨 2, 아이언맨3을 추천해주고 마블 영화를 추천해 주는 것 (아이템의 고유의 정보를 바탕으로 아이템 간 유사성을 파악)\n",
    "\n",
    "\n",
    "2. 협업 필터링 : 과거의 사용자 행동 양식(User Behavior) 데이터를 기반으로 추천하는 방식 (다수의 사용자의 아이템 구매 이력 정보만으로 사용자간 유사성 및 아이템 간 유사성을 파악 즉, 아이템 자체의 속성에 주목하지 않음)\n",
    "\n",
    "    (1) 사용자기반 & 아이템 기반 : \"평점\"행렬을 이용하여 유사도를 계산하는 방식\n",
    "\n",
    "    (2) 잠재요인 : 클릭수, 시청횟수 등 잠재적(암묵적) 요인을 이용하여 행렬 인수분해(matrix factorization)하여 각 벡터와의 연관성을 분석. \n",
    "\n",
    "* 암묵적 데이터 :  플레이 횟수, 플레이 시간 이외에도 클릭 수, 구매 여부, 플레이 스킵 여부, 검색 기록, 방문 페이지 이력, 구매 내역, 심지어 마우스 움직임 기록\n",
    "\n",
    "* 명시적 데이터 : 좋아요, 별점 등"
   ]
  },
  {
   "cell_type": "markdown",
   "id": "d5193513",
   "metadata": {},
   "source": [
    "## 루브릭\n",
    "\n",
    "| 평가문항 | 상세기준 |\n",
    "| :---: | :---: |\n",
    "| 1. CSR matrix가 정상적으로 만들어졌다. | 사용자와 아이템 개수를 바탕으로 정확한 사이즈로 만들었다. |\n",
    "| 2. MF 모델이 정상적으로 훈련되어 그럴듯한 추천이 이루어졌다. | 사용자와 아이템 벡터 내적수치가 의미있게 형성되었다. |\n",
    "| 3. 비슷한 영화 찾기와 유저에게 추천하기의 과정이 정상적으로 진행되었다. | MF모델이 예측한 유저 선호도 및 아이템간 유사도, 기여도가 의미있게 측정되었다. |"
   ]
  },
  {
   "cell_type": "markdown",
   "id": "3163b1fc",
   "metadata": {},
   "source": [
    "### 데이터 설명\n",
    "\n",
    "- user_id는 사람을 의미하며 각 사람이 movie_id라는 특정 영화를 보고 ratings로 별점을 준 명시적(explicit) 평가임을 알수 있음. \n",
    "\n",
    "- 본 프로젝트는 암묵적(implicit) 데이터로 간주하고 테스트를 할려고 하며 별점을 시청 횟수로 간주 할려고함.\n",
    "\n",
    "- 또한 유저가 3점 미만으로 준 데이터는 선호하지 않는다고 가정하고 제외함."
   ]
  },
  {
   "cell_type": "markdown",
   "id": "c446060a",
   "metadata": {},
   "source": [
    "## 데이터 준비"
   ]
  },
  {
   "cell_type": "code",
   "execution_count": 1,
   "id": "ee82257e",
   "metadata": {
    "scrolled": true
   },
   "outputs": [
    {
     "data": {
      "text/html": [
       "<div>\n",
       "<style scoped>\n",
       "    .dataframe tbody tr th:only-of-type {\n",
       "        vertical-align: middle;\n",
       "    }\n",
       "\n",
       "    .dataframe tbody tr th {\n",
       "        vertical-align: top;\n",
       "    }\n",
       "\n",
       "    .dataframe thead th {\n",
       "        text-align: right;\n",
       "    }\n",
       "</style>\n",
       "<table border=\"1\" class=\"dataframe\">\n",
       "  <thead>\n",
       "    <tr style=\"text-align: right;\">\n",
       "      <th></th>\n",
       "      <th>user_id</th>\n",
       "      <th>movie_id</th>\n",
       "      <th>ratings</th>\n",
       "      <th>timestamp</th>\n",
       "    </tr>\n",
       "  </thead>\n",
       "  <tbody>\n",
       "    <tr>\n",
       "      <th>0</th>\n",
       "      <td>1</td>\n",
       "      <td>1193</td>\n",
       "      <td>5</td>\n",
       "      <td>978300760</td>\n",
       "    </tr>\n",
       "    <tr>\n",
       "      <th>1</th>\n",
       "      <td>1</td>\n",
       "      <td>661</td>\n",
       "      <td>3</td>\n",
       "      <td>978302109</td>\n",
       "    </tr>\n",
       "    <tr>\n",
       "      <th>2</th>\n",
       "      <td>1</td>\n",
       "      <td>914</td>\n",
       "      <td>3</td>\n",
       "      <td>978301968</td>\n",
       "    </tr>\n",
       "    <tr>\n",
       "      <th>3</th>\n",
       "      <td>1</td>\n",
       "      <td>3408</td>\n",
       "      <td>4</td>\n",
       "      <td>978300275</td>\n",
       "    </tr>\n",
       "    <tr>\n",
       "      <th>4</th>\n",
       "      <td>1</td>\n",
       "      <td>2355</td>\n",
       "      <td>5</td>\n",
       "      <td>978824291</td>\n",
       "    </tr>\n",
       "  </tbody>\n",
       "</table>\n",
       "</div>"
      ],
      "text/plain": [
       "   user_id  movie_id  ratings  timestamp\n",
       "0        1      1193        5  978300760\n",
       "1        1       661        3  978302109\n",
       "2        1       914        3  978301968\n",
       "3        1      3408        4  978300275\n",
       "4        1      2355        5  978824291"
      ]
     },
     "execution_count": 1,
     "metadata": {},
     "output_type": "execute_result"
    }
   ],
   "source": [
    "import os\n",
    "import pandas as pd\n",
    "\n",
    "rating_file_path=os.getenv('HOME') + '/aiffel/recommendata_iu/data/ml-1m/ratings.dat'\n",
    "ratings_cols = ['user_id', 'movie_id', 'ratings', 'timestamp']\n",
    "ratings = pd.read_csv(rating_file_path, sep='::', names=ratings_cols, engine='python', encoding = \"ISO-8859-1\")\n",
    "orginal_data_size = len(ratings)\n",
    "ratings.head()"
   ]
  },
  {
   "cell_type": "code",
   "execution_count": 2,
   "id": "1d90373e",
   "metadata": {},
   "outputs": [
    {
     "name": "stdout",
     "output_type": "stream",
     "text": [
      "orginal_data_size: 1000209, filtered_data_size: 836478\n",
      "Ratio of Remaining Data is 83.63%\n"
     ]
    }
   ],
   "source": [
    "# 3점 이상만 남깁니다.\n",
    "ratings = ratings[ratings['ratings']>=3]\n",
    "filtered_data_size = len(ratings)\n",
    "\n",
    "print(f'orginal_data_size: {orginal_data_size}, filtered_data_size: {filtered_data_size}')\n",
    "print(f'Ratio of Remaining Data is {filtered_data_size / orginal_data_size:.2%}')"
   ]
  },
  {
   "cell_type": "code",
   "execution_count": 3,
   "id": "33753aa7",
   "metadata": {},
   "outputs": [],
   "source": [
    "# ratings 컬럼의 이름을 count로 바꿉니다.\n",
    "ratings.rename(columns={'ratings':'count'}, inplace=True)"
   ]
  },
  {
   "cell_type": "code",
   "execution_count": 4,
   "id": "287e2941",
   "metadata": {},
   "outputs": [],
   "source": [
    "ratings = ratings[['user_id', 'movie_id', 'count']]"
   ]
  },
  {
   "cell_type": "code",
   "execution_count": 5,
   "id": "095e3327",
   "metadata": {},
   "outputs": [
    {
     "data": {
      "text/html": [
       "<div>\n",
       "<style scoped>\n",
       "    .dataframe tbody tr th:only-of-type {\n",
       "        vertical-align: middle;\n",
       "    }\n",
       "\n",
       "    .dataframe tbody tr th {\n",
       "        vertical-align: top;\n",
       "    }\n",
       "\n",
       "    .dataframe thead th {\n",
       "        text-align: right;\n",
       "    }\n",
       "</style>\n",
       "<table border=\"1\" class=\"dataframe\">\n",
       "  <thead>\n",
       "    <tr style=\"text-align: right;\">\n",
       "      <th></th>\n",
       "      <th>user_id</th>\n",
       "      <th>movie_id</th>\n",
       "      <th>count</th>\n",
       "    </tr>\n",
       "  </thead>\n",
       "  <tbody>\n",
       "    <tr>\n",
       "      <th>0</th>\n",
       "      <td>1</td>\n",
       "      <td>1193</td>\n",
       "      <td>5</td>\n",
       "    </tr>\n",
       "    <tr>\n",
       "      <th>1</th>\n",
       "      <td>1</td>\n",
       "      <td>661</td>\n",
       "      <td>3</td>\n",
       "    </tr>\n",
       "    <tr>\n",
       "      <th>2</th>\n",
       "      <td>1</td>\n",
       "      <td>914</td>\n",
       "      <td>3</td>\n",
       "    </tr>\n",
       "    <tr>\n",
       "      <th>3</th>\n",
       "      <td>1</td>\n",
       "      <td>3408</td>\n",
       "      <td>4</td>\n",
       "    </tr>\n",
       "    <tr>\n",
       "      <th>4</th>\n",
       "      <td>1</td>\n",
       "      <td>2355</td>\n",
       "      <td>5</td>\n",
       "    </tr>\n",
       "    <tr>\n",
       "      <th>...</th>\n",
       "      <td>...</td>\n",
       "      <td>...</td>\n",
       "      <td>...</td>\n",
       "    </tr>\n",
       "    <tr>\n",
       "      <th>1000203</th>\n",
       "      <td>6040</td>\n",
       "      <td>1090</td>\n",
       "      <td>3</td>\n",
       "    </tr>\n",
       "    <tr>\n",
       "      <th>1000205</th>\n",
       "      <td>6040</td>\n",
       "      <td>1094</td>\n",
       "      <td>5</td>\n",
       "    </tr>\n",
       "    <tr>\n",
       "      <th>1000206</th>\n",
       "      <td>6040</td>\n",
       "      <td>562</td>\n",
       "      <td>5</td>\n",
       "    </tr>\n",
       "    <tr>\n",
       "      <th>1000207</th>\n",
       "      <td>6040</td>\n",
       "      <td>1096</td>\n",
       "      <td>4</td>\n",
       "    </tr>\n",
       "    <tr>\n",
       "      <th>1000208</th>\n",
       "      <td>6040</td>\n",
       "      <td>1097</td>\n",
       "      <td>4</td>\n",
       "    </tr>\n",
       "  </tbody>\n",
       "</table>\n",
       "<p>836478 rows × 3 columns</p>\n",
       "</div>"
      ],
      "text/plain": [
       "         user_id  movie_id  count\n",
       "0              1      1193      5\n",
       "1              1       661      3\n",
       "2              1       914      3\n",
       "3              1      3408      4\n",
       "4              1      2355      5\n",
       "...          ...       ...    ...\n",
       "1000203     6040      1090      3\n",
       "1000205     6040      1094      5\n",
       "1000206     6040       562      5\n",
       "1000207     6040      1096      4\n",
       "1000208     6040      1097      4\n",
       "\n",
       "[836478 rows x 3 columns]"
      ]
     },
     "execution_count": 5,
     "metadata": {},
     "output_type": "execute_result"
    }
   ],
   "source": [
    "ratings"
   ]
  },
  {
   "cell_type": "code",
   "execution_count": 6,
   "id": "53e09938",
   "metadata": {},
   "outputs": [
    {
     "data": {
      "text/html": [
       "<div>\n",
       "<style scoped>\n",
       "    .dataframe tbody tr th:only-of-type {\n",
       "        vertical-align: middle;\n",
       "    }\n",
       "\n",
       "    .dataframe tbody tr th {\n",
       "        vertical-align: top;\n",
       "    }\n",
       "\n",
       "    .dataframe thead th {\n",
       "        text-align: right;\n",
       "    }\n",
       "</style>\n",
       "<table border=\"1\" class=\"dataframe\">\n",
       "  <thead>\n",
       "    <tr style=\"text-align: right;\">\n",
       "      <th></th>\n",
       "      <th>movie_id</th>\n",
       "      <th>title</th>\n",
       "      <th>genre</th>\n",
       "    </tr>\n",
       "  </thead>\n",
       "  <tbody>\n",
       "    <tr>\n",
       "      <th>0</th>\n",
       "      <td>1</td>\n",
       "      <td>Toy Story (1995)</td>\n",
       "      <td>Animation|Children's|Comedy</td>\n",
       "    </tr>\n",
       "    <tr>\n",
       "      <th>1</th>\n",
       "      <td>2</td>\n",
       "      <td>Jumanji (1995)</td>\n",
       "      <td>Adventure|Children's|Fantasy</td>\n",
       "    </tr>\n",
       "    <tr>\n",
       "      <th>2</th>\n",
       "      <td>3</td>\n",
       "      <td>Grumpier Old Men (1995)</td>\n",
       "      <td>Comedy|Romance</td>\n",
       "    </tr>\n",
       "    <tr>\n",
       "      <th>3</th>\n",
       "      <td>4</td>\n",
       "      <td>Waiting to Exhale (1995)</td>\n",
       "      <td>Comedy|Drama</td>\n",
       "    </tr>\n",
       "    <tr>\n",
       "      <th>4</th>\n",
       "      <td>5</td>\n",
       "      <td>Father of the Bride Part II (1995)</td>\n",
       "      <td>Comedy</td>\n",
       "    </tr>\n",
       "  </tbody>\n",
       "</table>\n",
       "</div>"
      ],
      "text/plain": [
       "   movie_id                               title                         genre\n",
       "0         1                    Toy Story (1995)   Animation|Children's|Comedy\n",
       "1         2                      Jumanji (1995)  Adventure|Children's|Fantasy\n",
       "2         3             Grumpier Old Men (1995)                Comedy|Romance\n",
       "3         4            Waiting to Exhale (1995)                  Comedy|Drama\n",
       "4         5  Father of the Bride Part II (1995)                        Comedy"
      ]
     },
     "execution_count": 6,
     "metadata": {},
     "output_type": "execute_result"
    }
   ],
   "source": [
    "# 영화 제목을 보기 위해 메타 데이터를 읽어옵니다.\n",
    "movie_file_path=os.getenv('HOME') + '/aiffel/recommendata_iu/data/ml-1m/movies.dat'\n",
    "cols = ['movie_id', 'title', 'genre'] \n",
    "movies = pd.read_csv(movie_file_path, sep='::', names=cols, engine='python', encoding='ISO-8859-1')\n",
    "movies.head()"
   ]
  },
  {
   "cell_type": "markdown",
   "id": "0f2b8f80",
   "metadata": {},
   "source": [
    "## 데이터 분석"
   ]
  },
  {
   "cell_type": "code",
   "execution_count": 7,
   "id": "38dd3d46",
   "metadata": {},
   "outputs": [
    {
     "data": {
      "text/plain": [
       "3628"
      ]
     },
     "execution_count": 7,
     "metadata": {},
     "output_type": "execute_result"
    }
   ],
   "source": [
    "# ratings에 있는 유니크한 영화 개수\n",
    "ratings['movie_id'].nunique()"
   ]
  },
  {
   "cell_type": "code",
   "execution_count": 8,
   "id": "4ebee3d4",
   "metadata": {},
   "outputs": [
    {
     "data": {
      "text/plain": [
       "6039"
      ]
     },
     "execution_count": 8,
     "metadata": {},
     "output_type": "execute_result"
    }
   ],
   "source": [
    "# rating에 있는 유니크한 사용자 수\n",
    "ratings['user_id'].nunique()"
   ]
  },
  {
   "cell_type": "code",
   "execution_count": 9,
   "id": "0f647e6e",
   "metadata": {},
   "outputs": [
    {
     "data": {
      "text/plain": [
       "title\n",
       "American Beauty (1999)                                   3211\n",
       "Star Wars: Episode IV - A New Hope (1977)                2910\n",
       "Star Wars: Episode V - The Empire Strikes Back (1980)    2885\n",
       "Star Wars: Episode VI - Return of the Jedi (1983)        2716\n",
       "Saving Private Ryan (1998)                               2561\n",
       "Terminator 2: Judgment Day (1991)                        2509\n",
       "Silence of the Lambs, The (1991)                         2498\n",
       "Raiders of the Lost Ark (1981)                           2473\n",
       "Back to the Future (1985)                                2460\n",
       "Matrix, The (1999)                                       2434\n",
       "Jurassic Park (1993)                                     2413\n",
       "Sixth Sense, The (1999)                                  2385\n",
       "Fargo (1996)                                             2371\n",
       "Braveheart (1995)                                        2314\n",
       "Men in Black (1997)                                      2297\n",
       "Schindler's List (1993)                                  2257\n",
       "Princess Bride, The (1987)                               2252\n",
       "Shakespeare in Love (1998)                               2213\n",
       "L.A. Confidential (1997)                                 2210\n",
       "Shawshank Redemption, The (1994)                         2194\n",
       "Godfather, The (1972)                                    2167\n",
       "Groundhog Day (1993)                                     2121\n",
       "E.T. the Extra-Terrestrial (1982)                        2102\n",
       "Being John Malkovich (1999)                              2066\n",
       "Ghostbusters (1984)                                      2051\n",
       "Pulp Fiction (1994)                                      2030\n",
       "Forrest Gump (1994)                                      2022\n",
       "Terminator, The (1984)                                   2019\n",
       "Toy Story (1995)                                         2000\n",
       "Fugitive, The (1993)                                     1941\n",
       "Name: count, dtype: int64"
      ]
     },
     "execution_count": 9,
     "metadata": {},
     "output_type": "execute_result"
    }
   ],
   "source": [
    "# 가장 인기있는 영화 30개(인기순)\n",
    "movie_data = pd.merge(ratings, movies)\n",
    "movie_count = movie_data.groupby('title')['count'].count()\n",
    "movie_count.sort_values(ascending=False).head(30)"
   ]
  },
  {
   "cell_type": "markdown",
   "id": "9b3445ba",
   "metadata": {},
   "source": [
    "## 내가 선호하는 영화를 5가지 골라서 목록에 추가"
   ]
  },
  {
   "cell_type": "code",
   "execution_count": 10,
   "id": "a7210a5d",
   "metadata": {
    "scrolled": true
   },
   "outputs": [
    {
     "data": {
      "text/html": [
       "<div>\n",
       "<style scoped>\n",
       "    .dataframe tbody tr th:only-of-type {\n",
       "        vertical-align: middle;\n",
       "    }\n",
       "\n",
       "    .dataframe tbody tr th {\n",
       "        vertical-align: top;\n",
       "    }\n",
       "\n",
       "    .dataframe thead th {\n",
       "        text-align: right;\n",
       "    }\n",
       "</style>\n",
       "<table border=\"1\" class=\"dataframe\">\n",
       "  <thead>\n",
       "    <tr style=\"text-align: right;\">\n",
       "      <th></th>\n",
       "      <th>user_id</th>\n",
       "      <th>movie_id</th>\n",
       "      <th>count</th>\n",
       "    </tr>\n",
       "  </thead>\n",
       "  <tbody>\n",
       "    <tr>\n",
       "      <th>1000203</th>\n",
       "      <td>6040</td>\n",
       "      <td>1090</td>\n",
       "      <td>3</td>\n",
       "    </tr>\n",
       "    <tr>\n",
       "      <th>1000205</th>\n",
       "      <td>6040</td>\n",
       "      <td>1094</td>\n",
       "      <td>5</td>\n",
       "    </tr>\n",
       "    <tr>\n",
       "      <th>1000206</th>\n",
       "      <td>6040</td>\n",
       "      <td>562</td>\n",
       "      <td>5</td>\n",
       "    </tr>\n",
       "    <tr>\n",
       "      <th>1000207</th>\n",
       "      <td>6040</td>\n",
       "      <td>1096</td>\n",
       "      <td>4</td>\n",
       "    </tr>\n",
       "    <tr>\n",
       "      <th>1000208</th>\n",
       "      <td>6040</td>\n",
       "      <td>1097</td>\n",
       "      <td>4</td>\n",
       "    </tr>\n",
       "    <tr>\n",
       "      <th>476</th>\n",
       "      <td>6041</td>\n",
       "      <td>480</td>\n",
       "      <td>5</td>\n",
       "    </tr>\n",
       "    <tr>\n",
       "      <th>847</th>\n",
       "      <td>6041</td>\n",
       "      <td>858</td>\n",
       "      <td>5</td>\n",
       "    </tr>\n",
       "    <tr>\n",
       "      <th>1250</th>\n",
       "      <td>6041</td>\n",
       "      <td>1270</td>\n",
       "      <td>5</td>\n",
       "    </tr>\n",
       "    <tr>\n",
       "      <th>1539</th>\n",
       "      <td>6041</td>\n",
       "      <td>1580</td>\n",
       "      <td>5</td>\n",
       "    </tr>\n",
       "    <tr>\n",
       "      <th>2502</th>\n",
       "      <td>6041</td>\n",
       "      <td>2571</td>\n",
       "      <td>5</td>\n",
       "    </tr>\n",
       "  </tbody>\n",
       "</table>\n",
       "</div>"
      ],
      "text/plain": [
       "         user_id  movie_id  count\n",
       "1000203     6040      1090      3\n",
       "1000205     6040      1094      5\n",
       "1000206     6040       562      5\n",
       "1000207     6040      1096      4\n",
       "1000208     6040      1097      4\n",
       "476         6041       480      5\n",
       "847         6041       858      5\n",
       "1250        6041      1270      5\n",
       "1539        6041      1580      5\n",
       "2502        6041      2571      5"
      ]
     },
     "execution_count": 10,
     "metadata": {},
     "output_type": "execute_result"
    }
   ],
   "source": [
    "my_favorite = ['Godfather, The (1972)' , 'Back to the Future (1985)' ,'Matrix, The (1999)' ,'Men in Black (1997)' ,'Jurassic Park (1993)']\n",
    "\n",
    "favorite_movie_id = movies[movies['title'].isin(my_favorite)]\n",
    "\n",
    "# user_id 가 6041인 사람이 위 좋아하는 영화를 5번씩 봣다고 가정함.\n",
    "my_movie = pd.DataFrame({'user_id': [6041]*5, 'movie_id': favorite_movie_id['movie_id'], 'count':[5]*5})\n",
    "\n",
    "if not ratings.isin({'user_id':[6041]})['user_id'].any():\n",
    "    ratings = ratings.append(my_movie)\n",
    "\n",
    "# user_id에 6041이라는 데이터가 없다면 위에 임으로 만든 my_favorite데이터를 추가함. \n",
    "    \n",
    "ratings.tail(10)"
   ]
  },
  {
   "cell_type": "code",
   "execution_count": 13,
   "id": "a73b4d6f",
   "metadata": {},
   "outputs": [
    {
     "data": {
      "text/html": [
       "<div>\n",
       "<style scoped>\n",
       "    .dataframe tbody tr th:only-of-type {\n",
       "        vertical-align: middle;\n",
       "    }\n",
       "\n",
       "    .dataframe tbody tr th {\n",
       "        vertical-align: top;\n",
       "    }\n",
       "\n",
       "    .dataframe thead th {\n",
       "        text-align: right;\n",
       "    }\n",
       "</style>\n",
       "<table border=\"1\" class=\"dataframe\">\n",
       "  <thead>\n",
       "    <tr style=\"text-align: right;\">\n",
       "      <th></th>\n",
       "      <th>movie_id</th>\n",
       "      <th>title</th>\n",
       "      <th>genre</th>\n",
       "    </tr>\n",
       "  </thead>\n",
       "  <tbody>\n",
       "    <tr>\n",
       "      <th>476</th>\n",
       "      <td>480</td>\n",
       "      <td>Jurassic Park (1993)</td>\n",
       "      <td>Action|Adventure|Sci-Fi</td>\n",
       "    </tr>\n",
       "    <tr>\n",
       "      <th>847</th>\n",
       "      <td>858</td>\n",
       "      <td>Godfather, The (1972)</td>\n",
       "      <td>Action|Crime|Drama</td>\n",
       "    </tr>\n",
       "    <tr>\n",
       "      <th>1250</th>\n",
       "      <td>1270</td>\n",
       "      <td>Back to the Future (1985)</td>\n",
       "      <td>Comedy|Sci-Fi</td>\n",
       "    </tr>\n",
       "    <tr>\n",
       "      <th>1539</th>\n",
       "      <td>1580</td>\n",
       "      <td>Men in Black (1997)</td>\n",
       "      <td>Action|Adventure|Comedy|Sci-Fi</td>\n",
       "    </tr>\n",
       "    <tr>\n",
       "      <th>2502</th>\n",
       "      <td>2571</td>\n",
       "      <td>Matrix, The (1999)</td>\n",
       "      <td>Action|Sci-Fi|Thriller</td>\n",
       "    </tr>\n",
       "  </tbody>\n",
       "</table>\n",
       "</div>"
      ],
      "text/plain": [
       "      movie_id                      title                           genre\n",
       "476        480       Jurassic Park (1993)         Action|Adventure|Sci-Fi\n",
       "847        858      Godfather, The (1972)              Action|Crime|Drama\n",
       "1250      1270  Back to the Future (1985)                   Comedy|Sci-Fi\n",
       "1539      1580        Men in Black (1997)  Action|Adventure|Comedy|Sci-Fi\n",
       "2502      2571         Matrix, The (1999)          Action|Sci-Fi|Thriller"
      ]
     },
     "execution_count": 13,
     "metadata": {},
     "output_type": "execute_result"
    }
   ],
   "source": [
    "favorite_movie_id"
   ]
  },
  {
   "cell_type": "code",
   "execution_count": 14,
   "id": "69806cce",
   "metadata": {},
   "outputs": [
    {
     "data": {
      "text/html": [
       "<div>\n",
       "<style scoped>\n",
       "    .dataframe tbody tr th:only-of-type {\n",
       "        vertical-align: middle;\n",
       "    }\n",
       "\n",
       "    .dataframe tbody tr th {\n",
       "        vertical-align: top;\n",
       "    }\n",
       "\n",
       "    .dataframe thead th {\n",
       "        text-align: right;\n",
       "    }\n",
       "</style>\n",
       "<table border=\"1\" class=\"dataframe\">\n",
       "  <thead>\n",
       "    <tr style=\"text-align: right;\">\n",
       "      <th></th>\n",
       "      <th>user_id</th>\n",
       "      <th>movie_id</th>\n",
       "      <th>count</th>\n",
       "      <th>title</th>\n",
       "      <th>genre</th>\n",
       "    </tr>\n",
       "  </thead>\n",
       "  <tbody>\n",
       "    <tr>\n",
       "      <th>0</th>\n",
       "      <td>1</td>\n",
       "      <td>1193</td>\n",
       "      <td>5</td>\n",
       "      <td>One Flew Over the Cuckoo's Nest (1975)</td>\n",
       "      <td>Drama</td>\n",
       "    </tr>\n",
       "    <tr>\n",
       "      <th>1</th>\n",
       "      <td>2</td>\n",
       "      <td>1193</td>\n",
       "      <td>5</td>\n",
       "      <td>One Flew Over the Cuckoo's Nest (1975)</td>\n",
       "      <td>Drama</td>\n",
       "    </tr>\n",
       "    <tr>\n",
       "      <th>2</th>\n",
       "      <td>12</td>\n",
       "      <td>1193</td>\n",
       "      <td>4</td>\n",
       "      <td>One Flew Over the Cuckoo's Nest (1975)</td>\n",
       "      <td>Drama</td>\n",
       "    </tr>\n",
       "    <tr>\n",
       "      <th>3</th>\n",
       "      <td>15</td>\n",
       "      <td>1193</td>\n",
       "      <td>4</td>\n",
       "      <td>One Flew Over the Cuckoo's Nest (1975)</td>\n",
       "      <td>Drama</td>\n",
       "    </tr>\n",
       "    <tr>\n",
       "      <th>4</th>\n",
       "      <td>17</td>\n",
       "      <td>1193</td>\n",
       "      <td>5</td>\n",
       "      <td>One Flew Over the Cuckoo's Nest (1975)</td>\n",
       "      <td>Drama</td>\n",
       "    </tr>\n",
       "    <tr>\n",
       "      <th>...</th>\n",
       "      <td>...</td>\n",
       "      <td>...</td>\n",
       "      <td>...</td>\n",
       "      <td>...</td>\n",
       "      <td>...</td>\n",
       "    </tr>\n",
       "    <tr>\n",
       "      <th>836478</th>\n",
       "      <td>5851</td>\n",
       "      <td>3607</td>\n",
       "      <td>5</td>\n",
       "      <td>One Little Indian (1973)</td>\n",
       "      <td>Comedy|Drama|Western</td>\n",
       "    </tr>\n",
       "    <tr>\n",
       "      <th>836479</th>\n",
       "      <td>5854</td>\n",
       "      <td>3026</td>\n",
       "      <td>4</td>\n",
       "      <td>Slaughterhouse (1987)</td>\n",
       "      <td>Horror</td>\n",
       "    </tr>\n",
       "    <tr>\n",
       "      <th>836480</th>\n",
       "      <td>5854</td>\n",
       "      <td>690</td>\n",
       "      <td>3</td>\n",
       "      <td>Promise, The (Versprechen, Das) (1994)</td>\n",
       "      <td>Romance</td>\n",
       "    </tr>\n",
       "    <tr>\n",
       "      <th>836481</th>\n",
       "      <td>5938</td>\n",
       "      <td>2909</td>\n",
       "      <td>4</td>\n",
       "      <td>Five Wives, Three Secretaries and Me (1998)</td>\n",
       "      <td>Documentary</td>\n",
       "    </tr>\n",
       "    <tr>\n",
       "      <th>836482</th>\n",
       "      <td>5948</td>\n",
       "      <td>1360</td>\n",
       "      <td>5</td>\n",
       "      <td>Identification of a Woman (Identificazione di ...</td>\n",
       "      <td>Drama</td>\n",
       "    </tr>\n",
       "  </tbody>\n",
       "</table>\n",
       "<p>836483 rows × 5 columns</p>\n",
       "</div>"
      ],
      "text/plain": [
       "        user_id  movie_id  count  \\\n",
       "0             1      1193      5   \n",
       "1             2      1193      5   \n",
       "2            12      1193      4   \n",
       "3            15      1193      4   \n",
       "4            17      1193      5   \n",
       "...         ...       ...    ...   \n",
       "836478     5851      3607      5   \n",
       "836479     5854      3026      4   \n",
       "836480     5854       690      3   \n",
       "836481     5938      2909      4   \n",
       "836482     5948      1360      5   \n",
       "\n",
       "                                                    title  \\\n",
       "0                  One Flew Over the Cuckoo's Nest (1975)   \n",
       "1                  One Flew Over the Cuckoo's Nest (1975)   \n",
       "2                  One Flew Over the Cuckoo's Nest (1975)   \n",
       "3                  One Flew Over the Cuckoo's Nest (1975)   \n",
       "4                  One Flew Over the Cuckoo's Nest (1975)   \n",
       "...                                                   ...   \n",
       "836478                           One Little Indian (1973)   \n",
       "836479                              Slaughterhouse (1987)   \n",
       "836480             Promise, The (Versprechen, Das) (1994)   \n",
       "836481        Five Wives, Three Secretaries and Me (1998)   \n",
       "836482  Identification of a Woman (Identificazione di ...   \n",
       "\n",
       "                       genre  \n",
       "0                      Drama  \n",
       "1                      Drama  \n",
       "2                      Drama  \n",
       "3                      Drama  \n",
       "4                      Drama  \n",
       "...                      ...  \n",
       "836478  Comedy|Drama|Western  \n",
       "836479                Horror  \n",
       "836480               Romance  \n",
       "836481           Documentary  \n",
       "836482                 Drama  \n",
       "\n",
       "[836483 rows x 5 columns]"
      ]
     },
     "execution_count": 14,
     "metadata": {},
     "output_type": "execute_result"
    }
   ],
   "source": [
    "movie_data = pd.merge(ratings, movies, on='movie_id')\n",
    "movie_data"
   ]
  },
  {
   "cell_type": "markdown",
   "id": "94c9a8b8",
   "metadata": {},
   "source": [
    "## 데이터 전처리 (Indexing)\n",
    "\n",
    "- Movielens 데이터는 rating.dat 안에 이미 데이터를 인덱싱처리하였기 때문에 본 프로젝트에서는 생략함"
   ]
  },
  {
   "cell_type": "code",
   "execution_count": 44,
   "id": "676329a6",
   "metadata": {},
   "outputs": [],
   "source": [
    "# 고유한 유저를 찾아내는 코드\n",
    "num_user = ratings['user_id'].nunique()\n",
    "num_movie = ratings['movie_id'].nunique()"
   ]
  },
  {
   "cell_type": "markdown",
   "id": "0e3e120b",
   "metadata": {},
   "source": [
    "- uinque() : 데이터에 교유값들이 어떠한 종류들이 있는지 알고 싶을 때 사용하는 함수\n",
    "\n",
    "- nunique() : 데이터에 고유값들의 수를 출력해주는 함수"
   ]
  },
  {
   "cell_type": "code",
   "execution_count": 52,
   "id": "9c08f62e",
   "metadata": {},
   "outputs": [],
   "source": [
    "# # 유저를 indexing 하는 코드 idx는 index의 약자임\n",
    "# num_user_idx = {v:k for k,v in enumerate(num_user)}\n",
    "# num_movie_idx = {v:k for k,v in enumerate(num_movie)}"
   ]
  },
  {
   "cell_type": "code",
   "execution_count": 50,
   "id": "93c4ff38",
   "metadata": {},
   "outputs": [],
   "source": [
    "# # 인덱싱이 잘 되었는지 확인\n",
    "# print(num_user_idx['6041'])    # 358869명의 유저 중 마지막으로 추가된 유저이니 358868이 나와야 합니다. \n",
    "# print(num_movie_idx['Godfather, The (1972)'])"
   ]
  },
  {
   "cell_type": "code",
   "execution_count": 51,
   "id": "24a29ef4",
   "metadata": {},
   "outputs": [],
   "source": [
    "# # indexing을 통해 데이터 컬럼 내 값을 바꾸는 코드\n",
    "# # dictionary 자료형의 get 함수는 https://wikidocs.net/16 을 참고.\n",
    "\n",
    "# # user_to_idx.get을 통해 user_id 컬럼의 모든 값을 인덱싱한 Series를 구해 봅시다. \n",
    "# # 혹시 정상적으로 인덱싱되지 않은 row가 있다면 인덱스가 NaN이 될 테니 dropna()로 제거합니다. \n",
    "\n",
    "# temp_user_data = data['user_id'].map(user_to_idx.get).dropna()\n",
    "# if len(temp_user_data) == len(data):   # 모든 row가 정상적으로 인덱싱되었다면\n",
    "#     print('user_id column indexing OK!!')\n",
    "#     data['user_id'] = temp_user_data   # data['user_id']을 인덱싱된 Series로 교체해 줍니다. \n",
    "# else:\n",
    "#     print('user_id column indexing Fail!!')\n",
    "\n",
    "# # artist_to_idx을 통해 artist 컬럼도 동일한 방식으로 인덱싱해 줍니다. \n",
    "# temp_artist_data = data['artist'].map(artist_to_idx.get).dropna()\n",
    "# if len(temp_artist_data) == len(data):\n",
    "#     print('artist column indexing OK!!')\n",
    "#     data['artist'] = temp_artist_data\n",
    "# else:\n",
    "#     print('artist column indexing Fail!!')\n",
    "\n",
    "# data"
   ]
  },
  {
   "attachments": {
    "ss.png": {
     "image/png": "[encoded data removed]"
    }
   },
   "cell_type": "markdown",
   "id": "8663269f",
   "metadata": {},
   "source": [
    "## Matrix Factorization(MF) 의 개념\n",
    "\n",
    "행렬 인수분해(matrix factorization) \n",
    ":인수분해와 비슷하다고 볼 수 있음. 30을 인수분해하면 30 = 6X5 = 3X10 = 1X30 이런 식으로 곱하기로 나타낼 수 있음. 행렬도 이렇게 곱으로 분해 할 수 있으며, 분해 행렬을 사용하면 원하는 답을 더 쉽게 찾을 수 있음\n",
    "\n",
    "![ss.png](attachment:ss.png)\n",
    "\n",
    "(m,n) 사이즈의 행렬 R을 (m,k) 사이즈의 행렬 P와 (k,n) 사이즈의 행렬 Q로 분해한다면 R이란 그저 P와 Q의 행렬곱으로 표현 가능할 수 있다는 간단한 예시임."
   ]
  },
  {
   "attachments": {
    "sss.png": {
     "image/png": "[encoded data removed]"
    }
   },
   "cell_type": "markdown",
   "id": "93c28a52",
   "metadata": {},
   "source": [
    "![sss.png](attachment:sss.png)\n",
    "\n",
    "위 그림은 m=4, n=5, k=2인 MF 모델 예시임.\n",
    "\n",
    "- (m, k) 사이즈의 Feature Matrix P는 k 차원의 벡터를 사용자 수만큼 모아놓은 행렬이며. 그렇다면 아래 그림에서 첫 번째 벡터 Po =(1, 0.1)은 바로 빨간 모자를 쓴 첫 번째 사용자의 특성(Feature) 벡터가 됨\n",
    "\n",
    "\n",
    "- 같은 방식으로 Q해열의 첫 번째 벡터 Qo=(0.9,-0.2)는 해리포터의 영화의 특성 벡터가 됨. \n",
    "\n",
    "\n",
    "-  MF 모델은 이 두 벡터를 내적해서 얻어지는 0.88이 바로 Ro,o  으로 정의되는 사용자의 영화 선호도로 보는 모델이 됨.\n",
    "\n",
    "###### 따라서, 모델의 목표는 모든 유저와 아이템에 대해 k-dimension의 벡터를 잘 만드는 것임.\n",
    "\n",
    "- 벡터를 잘 만드는 기준은 유저 i의 벡터(Ui) 와 아이템 j의 벡터(Ij)를 내적했을 때 유저 i가 아이템 j에 대해 평가한 수치(M_ij)와 비슷한지가 됨."
   ]
  },
  {
   "cell_type": "markdown",
   "id": "02043373",
   "metadata": {},
   "source": [
    "## Compressed Sparse Row Matrix\n",
    "\n",
    "CSR Matrix는 Sparse한 matrix에서 0이 아닌 유효한 데이터로 채워지는 데이터의 값과 좌표 정보만으로 구성하여 메모리 사용량을 최소화하면서도 Sparse한 matrix와 동일한 행렬을 표현할 수 있도록 하는 데이터 구조임\n",
    "\n",
    "CSR Matrix는 data, indices, indptr 로 행렬을 압축하여 표현함.\n"
   ]
  },
  {
   "cell_type": "code",
   "execution_count": 26,
   "id": "604728d9",
   "metadata": {},
   "outputs": [
    {
     "data": {
      "text/plain": [
       "<6042x3953 sparse matrix of type '<class 'numpy.int64'>'\n",
       "\twith 836483 stored elements in Compressed Sparse Row format>"
      ]
     },
     "execution_count": 26,
     "metadata": {},
     "output_type": "execute_result"
    }
   ],
   "source": [
    "csr_data = csr_matrix((ratings['count'], (ratings.user_id, ratings.movie_id)))\n",
    "csr_data"
   ]
  },
  {
   "cell_type": "code",
   "execution_count": 43,
   "id": "dca14826",
   "metadata": {},
   "outputs": [],
   "source": [
    "from implicit.als import AlternatingLeastSquares\n",
    "import os\n",
    "import numpy as np\n",
    "\n",
    "# implicit 라이브러리에서 권장하고 있는 부분입니다. 학습 내용과는 무관함..\n",
    "os.environ['OPENBLAS_NUM_THREADS']='1'\n",
    "os.environ['KMP_DUPLICATE_LIB_OK']='True'\n",
    "os.environ['MKL_NUM_THREADS']='1'"
   ]
  },
  {
   "cell_type": "markdown",
   "id": "16935253",
   "metadata": {},
   "source": [
    "- implicit 패키지는 이전 스텝에서 설명한 암묵적(implicit) dataset을 사용하는 다양한 모델을 굉장히 빠르게 학습할 수 있는 패키지임.\n",
    "\n",
    "\n",
    "- 이 패키지에 구현된 ALS(AlternatingLeastSquares) 모델을 사용\n",
    "\n",
    "\n",
    "- Matrix Factorization에서 쪼개진 두 Feature Matrix를 한꺼번에 훈련하는 것은 잘 수렴하지 않기 때문에, 한쪽을 고정시키고 다른 쪽을 학습하는 방식을 번갈아 수행하는 AlternatingLeastSquares 방식이 효과적임"
   ]
  },
  {
   "cell_type": "markdown",
   "id": "99224aaf",
   "metadata": {},
   "source": [
    "AlternatingLeastSquares 클래스의 __init__ 파라미터\n",
    "\n",
    "- factors : 유저와 아이템의 벡터를 몇 차원으로 할 것인지\n",
    "- regularization : 과적합을 방지하기 위해 정규화 값을 얼마나 사용할 것인지\n",
    "- use_gpu : GPU를 사용할 것인지\n",
    "- iterations : epochs와 같은 의미. 데이터를 몇 번 반복해서 학습할 것인지\n",
    "- 1과 4를 늘릴수록 학습 데이터를 잘 학습하게 되지만 과적합의 우려가 있으니 좋은 값을 찾아야 함."
   ]
  },
  {
   "cell_type": "code",
   "execution_count": 28,
   "id": "10498480",
   "metadata": {},
   "outputs": [],
   "source": [
    "# Implicit AlternatingLeastSquares 모델의 선언\n",
    "als_model = AlternatingLeastSquares(factors=100, regularization=0.01, use_gpu=False, iterations=15, dtype=np.float32)"
   ]
  },
  {
   "cell_type": "code",
   "execution_count": 30,
   "id": "cb1a36ab",
   "metadata": {},
   "outputs": [
    {
     "data": {
      "text/plain": [
       "<3953x6042 sparse matrix of type '<class 'numpy.int64'>'\n",
       "\twith 836483 stored elements in Compressed Sparse Column format>"
      ]
     },
     "execution_count": 30,
     "metadata": {},
     "output_type": "execute_result"
    }
   ],
   "source": [
    "# als 모델은 input으로 (item X user 꼴의 matrix를 받기 때문에 Transpose해줌.)\n",
    "csr_data_transpose = csr_data.T\n",
    "csr_data_transpose"
   ]
  },
  {
   "cell_type": "markdown",
   "id": "581f7a99",
   "metadata": {},
   "source": [
    "# 모델 학습"
   ]
  },
  {
   "cell_type": "code",
   "execution_count": 31,
   "id": "3d9430e6",
   "metadata": {},
   "outputs": [
    {
     "data": {
      "application/vnd.jupyter.widget-view+json": {
       "model_id": "003900f7f2f54488830650b4299e5868",
       "version_major": 2,
       "version_minor": 0
      },
      "text/plain": [
       "  0%|          | 0/15 [00:00<?, ?it/s]"
      ]
     },
     "metadata": {},
     "output_type": "display_data"
    }
   ],
   "source": [
    "als_model.fit(csr_data_transpose)"
   ]
  },
  {
   "cell_type": "markdown",
   "id": "51c083e3",
   "metadata": {},
   "source": [
    "# 모델 평가"
   ]
  },
  {
   "cell_type": "markdown",
   "id": "b6c4b465",
   "metadata": {},
   "source": [
    "학습 종료 후 밑에 두가지 사항을 살펴봐야됨.\n",
    "\n",
    "- 벡터와 벡터를 어떻게 연결하고 만들고 있는지\n",
    "- 두 벡터를 곱하면 어떤 값이 나오는지"
   ]
  },
  {
   "cell_type": "code",
   "execution_count": 34,
   "id": "d5ef6a33",
   "metadata": {},
   "outputs": [],
   "source": [
    "my_vector, godfather_vector = als_model.user_factors[6041], als_model.item_factors[858]"
   ]
  },
  {
   "cell_type": "code",
   "execution_count": 35,
   "id": "7f5eec92",
   "metadata": {},
   "outputs": [
    {
     "data": {
      "text/plain": [
       "array([-1.1380961 , -0.08401596, -0.2526253 ,  0.03344624, -0.17521828,\n",
       "        0.24294089, -0.13257936, -1.2515655 , -0.12405051,  1.8799237 ,\n",
       "       -0.21173294, -0.24080366,  0.26335016,  0.56029713, -0.08341967,\n",
       "        0.91661316,  0.10182402,  0.07228909,  0.7348142 , -1.1583918 ,\n",
       "       -0.54976034, -0.5966688 , -0.01989051,  0.4566426 , -0.7789717 ,\n",
       "       -0.28969643,  0.27198654,  0.19102247,  0.5501631 , -0.06320523,\n",
       "        0.0414704 ,  0.22727233,  0.232746  ,  0.6060491 , -0.6120209 ,\n",
       "       -0.58360595,  0.15840836, -1.2784988 ,  0.46778116, -0.01094715,\n",
       "       -0.75131965, -0.0627657 , -0.5806418 , -0.28428364,  0.17710759,\n",
       "        0.47907555, -0.95878196,  0.5704409 ,  0.4026434 ,  0.41040102,\n",
       "       -0.84226114, -0.4376042 ,  0.14359148,  0.44332826,  0.25383148,\n",
       "       -0.08421011,  0.4321031 ,  0.36277336,  0.39159447,  0.37424672,\n",
       "        0.6690559 ,  0.62735665,  0.28489274,  0.297499  ,  0.41841853,\n",
       "       -0.17258415,  0.23965417, -0.29527077,  0.27387863,  0.5732119 ,\n",
       "        0.13957512,  0.3225448 ,  1.3037158 ,  0.93595445,  0.66437423,\n",
       "       -0.5229728 ,  0.07583707,  0.01577657, -0.32650062, -0.70464617,\n",
       "        0.4269617 , -0.28955325, -0.89287055,  0.04495214, -0.34827104,\n",
       "       -0.04742567, -0.33050466, -0.2089842 ,  0.72290534,  0.6069613 ,\n",
       "       -0.8763374 , -0.81702924,  0.445904  , -0.76813185,  0.31968558,\n",
       "        0.02495591,  0.12900561,  0.16452855, -0.63107246,  0.15556161],\n",
       "      dtype=float32)"
      ]
     },
     "execution_count": 35,
     "metadata": {},
     "output_type": "execute_result"
    }
   ],
   "source": [
    "my_vector"
   ]
  },
  {
   "cell_type": "code",
   "execution_count": 36,
   "id": "c7685ea7",
   "metadata": {},
   "outputs": [
    {
     "data": {
      "text/plain": [
       "array([ 0.0064025 , -0.01427185, -0.01260002,  0.04808629, -0.01962117,\n",
       "        0.01332023, -0.01221004, -0.01721214,  0.00685121,  0.03996641,\n",
       "        0.02863934,  0.00507676,  0.02342962,  0.01855711, -0.01115042,\n",
       "        0.02574529, -0.01390998,  0.06551163, -0.00636542, -0.01452477,\n",
       "       -0.04207899,  0.01849   ,  0.03001753,  0.04097673, -0.03574093,\n",
       "       -0.00123086,  0.02377551, -0.03306563,  0.04013443, -0.00655483,\n",
       "        0.00265506,  0.00318816,  0.01661018,  0.02851485, -0.03063551,\n",
       "       -0.01174517,  0.00736051, -0.04148335, -0.01121381, -0.01421042,\n",
       "       -0.0117127 ,  0.0270109 ,  0.01653394,  0.00715434,  0.00984336,\n",
       "        0.03131477, -0.01240849,  0.0268324 ,  0.02177345,  0.00412722,\n",
       "       -0.0137929 , -0.00455817, -0.05591973,  0.01659842, -0.00133362,\n",
       "       -0.01223587,  0.00855583,  0.03641456, -0.02785697,  0.03024542,\n",
       "       -0.00178703,  0.0323625 , -0.04067596,  0.02212025,  0.02458659,\n",
       "        0.00250596,  0.04277348,  0.0267633 ,  0.02516322,  0.04339462,\n",
       "        0.00677876,  0.02052548, -0.00852435,  0.00910929, -0.00140322,\n",
       "       -0.01589449, -0.0301207 , -0.01219912,  0.02467882, -0.0281947 ,\n",
       "        0.01040638,  0.00994616, -0.0254677 ,  0.03118181, -0.01413685,\n",
       "        0.01302108,  0.00712555,  0.01333606,  0.03609759,  0.04320563,\n",
       "       -0.00195461,  0.00097145, -0.0075987 , -0.01697418,  0.01705038,\n",
       "       -0.01194353,  0.03497845,  0.01513204, -0.01121483,  0.04459954],\n",
       "      dtype=float32)"
      ]
     },
     "execution_count": 36,
     "metadata": {},
     "output_type": "execute_result"
    }
   ],
   "source": [
    "godfather_vector"
   ]
  },
  {
   "cell_type": "code",
   "execution_count": 37,
   "id": "4777e1da",
   "metadata": {},
   "outputs": [
    {
     "data": {
      "text/plain": [
       "0.60437554"
      ]
     },
     "execution_count": 37,
     "metadata": {},
     "output_type": "execute_result"
    }
   ],
   "source": [
    "np.dot(my_vector, godfather_vector)"
   ]
  },
  {
   "cell_type": "code",
   "execution_count": 38,
   "id": "43fc8846",
   "metadata": {},
   "outputs": [
    {
     "data": {
      "text/plain": [
       "0.106151104"
      ]
     },
     "execution_count": 38,
     "metadata": {},
     "output_type": "execute_result"
    }
   ],
   "source": [
    "toystory_vector = als_model.item_factors[1]\n",
    "np.dot(my_vector, toystory_vector)"
   ]
  },
  {
   "cell_type": "markdown",
   "id": "0ae86b8e",
   "metadata": {},
   "source": [
    "## 내가 좋아하는 영화와 비슷한 영화 추천 받기"
   ]
  },
  {
   "cell_type": "code",
   "execution_count": 39,
   "id": "49ca8101",
   "metadata": {},
   "outputs": [
    {
     "data": {
      "text/plain": [
       "[(858, 1.0),\n",
       " (1221, 0.9659428),\n",
       " (2023, 0.5382678),\n",
       " (1953, 0.47077432),\n",
       " (624, 0.36178377),\n",
       " (2695, 0.3592963),\n",
       " (923, 0.35537115),\n",
       " (1787, 0.342897),\n",
       " (3595, 0.32988063),\n",
       " (2887, 0.32511464),\n",
       " (1213, 0.31958544),\n",
       " (872, 0.3163107),\n",
       " (2194, 0.29634884),\n",
       " (111, 0.29585117),\n",
       " (2101, 0.29392362)]"
      ]
     },
     "execution_count": 39,
     "metadata": {},
     "output_type": "execute_result"
    }
   ],
   "source": [
    "favorite_movie = 'Godfather, The (1972)'\n",
    "movie_id = movies[movies['title']=='Godfather, The (1972)']['movie_id']\n",
    "similar_movie = als_model.similar_items(movie_id.values[0], N=15)\n",
    "similar_movie"
   ]
  },
  {
   "cell_type": "code",
   "execution_count": 40,
   "id": "a57586d9",
   "metadata": {},
   "outputs": [
    {
     "data": {
      "text/html": [
       "<div>\n",
       "<style scoped>\n",
       "    .dataframe tbody tr th:only-of-type {\n",
       "        vertical-align: middle;\n",
       "    }\n",
       "\n",
       "    .dataframe tbody tr th {\n",
       "        vertical-align: top;\n",
       "    }\n",
       "\n",
       "    .dataframe thead th {\n",
       "        text-align: right;\n",
       "    }\n",
       "</style>\n",
       "<table border=\"1\" class=\"dataframe\">\n",
       "  <thead>\n",
       "    <tr style=\"text-align: right;\">\n",
       "      <th></th>\n",
       "      <th>movie_id</th>\n",
       "      <th>title</th>\n",
       "      <th>genre</th>\n",
       "    </tr>\n",
       "  </thead>\n",
       "  <tbody>\n",
       "    <tr>\n",
       "      <th>109</th>\n",
       "      <td>111</td>\n",
       "      <td>Taxi Driver (1976)</td>\n",
       "      <td>Drama|Thriller</td>\n",
       "    </tr>\n",
       "    <tr>\n",
       "      <th>619</th>\n",
       "      <td>624</td>\n",
       "      <td>Condition Red (1995)</td>\n",
       "      <td>Action|Drama|Thriller</td>\n",
       "    </tr>\n",
       "    <tr>\n",
       "      <th>847</th>\n",
       "      <td>858</td>\n",
       "      <td>Godfather, The (1972)</td>\n",
       "      <td>Action|Crime|Drama</td>\n",
       "    </tr>\n",
       "    <tr>\n",
       "      <th>861</th>\n",
       "      <td>872</td>\n",
       "      <td>Aiqing wansui (1994)</td>\n",
       "      <td>Drama</td>\n",
       "    </tr>\n",
       "    <tr>\n",
       "      <th>911</th>\n",
       "      <td>923</td>\n",
       "      <td>Citizen Kane (1941)</td>\n",
       "      <td>Drama</td>\n",
       "    </tr>\n",
       "    <tr>\n",
       "      <th>1195</th>\n",
       "      <td>1213</td>\n",
       "      <td>GoodFellas (1990)</td>\n",
       "      <td>Crime|Drama</td>\n",
       "    </tr>\n",
       "    <tr>\n",
       "      <th>1203</th>\n",
       "      <td>1221</td>\n",
       "      <td>Godfather: Part II, The (1974)</td>\n",
       "      <td>Action|Crime|Drama</td>\n",
       "    </tr>\n",
       "    <tr>\n",
       "      <th>1728</th>\n",
       "      <td>1787</td>\n",
       "      <td>Paralyzing Fear: The Story of Polio in America...</td>\n",
       "      <td>Documentary</td>\n",
       "    </tr>\n",
       "    <tr>\n",
       "      <th>1884</th>\n",
       "      <td>1953</td>\n",
       "      <td>French Connection, The (1971)</td>\n",
       "      <td>Action|Crime|Drama|Thriller</td>\n",
       "    </tr>\n",
       "    <tr>\n",
       "      <th>1954</th>\n",
       "      <td>2023</td>\n",
       "      <td>Godfather: Part III, The (1990)</td>\n",
       "      <td>Action|Crime|Drama</td>\n",
       "    </tr>\n",
       "    <tr>\n",
       "      <th>2032</th>\n",
       "      <td>2101</td>\n",
       "      <td>Squanto: A Warrior's Tale (1994)</td>\n",
       "      <td>Adventure|Drama</td>\n",
       "    </tr>\n",
       "    <tr>\n",
       "      <th>2125</th>\n",
       "      <td>2194</td>\n",
       "      <td>Untouchables, The (1987)</td>\n",
       "      <td>Action|Crime|Drama</td>\n",
       "    </tr>\n",
       "    <tr>\n",
       "      <th>2626</th>\n",
       "      <td>2695</td>\n",
       "      <td>Boys, The (1997)</td>\n",
       "      <td>Drama</td>\n",
       "    </tr>\n",
       "    <tr>\n",
       "      <th>2818</th>\n",
       "      <td>2887</td>\n",
       "      <td>Simon Sez (1999)</td>\n",
       "      <td>Drama</td>\n",
       "    </tr>\n",
       "    <tr>\n",
       "      <th>3526</th>\n",
       "      <td>3595</td>\n",
       "      <td>Held Up (2000)</td>\n",
       "      <td>Comedy</td>\n",
       "    </tr>\n",
       "  </tbody>\n",
       "</table>\n",
       "</div>"
      ],
      "text/plain": [
       "      movie_id                                              title  \\\n",
       "109        111                                 Taxi Driver (1976)   \n",
       "619        624                               Condition Red (1995)   \n",
       "847        858                              Godfather, The (1972)   \n",
       "861        872                               Aiqing wansui (1994)   \n",
       "911        923                                Citizen Kane (1941)   \n",
       "1195      1213                                  GoodFellas (1990)   \n",
       "1203      1221                     Godfather: Part II, The (1974)   \n",
       "1728      1787  Paralyzing Fear: The Story of Polio in America...   \n",
       "1884      1953                      French Connection, The (1971)   \n",
       "1954      2023                    Godfather: Part III, The (1990)   \n",
       "2032      2101                   Squanto: A Warrior's Tale (1994)   \n",
       "2125      2194                           Untouchables, The (1987)   \n",
       "2626      2695                                   Boys, The (1997)   \n",
       "2818      2887                                   Simon Sez (1999)   \n",
       "3526      3595                                     Held Up (2000)   \n",
       "\n",
       "                            genre  \n",
       "109                Drama|Thriller  \n",
       "619         Action|Drama|Thriller  \n",
       "847            Action|Crime|Drama  \n",
       "861                         Drama  \n",
       "911                         Drama  \n",
       "1195                  Crime|Drama  \n",
       "1203           Action|Crime|Drama  \n",
       "1728                  Documentary  \n",
       "1884  Action|Crime|Drama|Thriller  \n",
       "1954           Action|Crime|Drama  \n",
       "2032              Adventure|Drama  \n",
       "2125           Action|Crime|Drama  \n",
       "2626                        Drama  \n",
       "2818                        Drama  \n",
       "3526                       Comedy  "
      ]
     },
     "execution_count": 40,
     "metadata": {},
     "output_type": "execute_result"
    }
   ],
   "source": [
    "movies[movies['movie_id'].isin([s[0] for s in similar_movie])]"
   ]
  },
  {
   "cell_type": "markdown",
   "id": "0f6dd065",
   "metadata": {},
   "source": [
    "## 내가 좋아할만한 영화 추천받기"
   ]
  },
  {
   "cell_type": "code",
   "execution_count": 41,
   "id": "57e92095",
   "metadata": {},
   "outputs": [
    {
     "data": {
      "text/plain": [
       "[(589, 0.6404527),\n",
       " (1221, 0.52842623),\n",
       " (2916, 0.4389851),\n",
       " (1210, 0.3550697),\n",
       " (1196, 0.35287076),\n",
       " (260, 0.3520635),\n",
       " (1573, 0.3205241),\n",
       " (110, 0.31481212),\n",
       " (1240, 0.28999066),\n",
       " (1527, 0.26928657),\n",
       " (780, 0.25390488),\n",
       " (3793, 0.24261561),\n",
       " (1544, 0.22030604),\n",
       " (2023, 0.21708938),\n",
       " (1193, 0.21314166),\n",
       " (3175, 0.21149874),\n",
       " (1584, 0.20927137),\n",
       " (457, 0.2019396),\n",
       " (1198, 0.20074975),\n",
       " (2028, 0.20045468)]"
      ]
     },
     "execution_count": 41,
     "metadata": {},
     "output_type": "execute_result"
    }
   ],
   "source": [
    "user = 6041\n",
    "movie_recommended = als_model.recommend(user, csr_data, N=20, filter_already_liked_items=True)\n",
    "movie_recommended"
   ]
  },
  {
   "cell_type": "code",
   "execution_count": 42,
   "id": "1b3dd758",
   "metadata": {},
   "outputs": [
    {
     "data": {
      "text/html": [
       "<div>\n",
       "<style scoped>\n",
       "    .dataframe tbody tr th:only-of-type {\n",
       "        vertical-align: middle;\n",
       "    }\n",
       "\n",
       "    .dataframe tbody tr th {\n",
       "        vertical-align: top;\n",
       "    }\n",
       "\n",
       "    .dataframe thead th {\n",
       "        text-align: right;\n",
       "    }\n",
       "</style>\n",
       "<table border=\"1\" class=\"dataframe\">\n",
       "  <thead>\n",
       "    <tr style=\"text-align: right;\">\n",
       "      <th></th>\n",
       "      <th>movie_id</th>\n",
       "      <th>title</th>\n",
       "      <th>genre</th>\n",
       "    </tr>\n",
       "  </thead>\n",
       "  <tbody>\n",
       "    <tr>\n",
       "      <th>108</th>\n",
       "      <td>110</td>\n",
       "      <td>Braveheart (1995)</td>\n",
       "      <td>Action|Drama|War</td>\n",
       "    </tr>\n",
       "    <tr>\n",
       "      <th>257</th>\n",
       "      <td>260</td>\n",
       "      <td>Star Wars: Episode IV - A New Hope (1977)</td>\n",
       "      <td>Action|Adventure|Fantasy|Sci-Fi</td>\n",
       "    </tr>\n",
       "    <tr>\n",
       "      <th>453</th>\n",
       "      <td>457</td>\n",
       "      <td>Fugitive, The (1993)</td>\n",
       "      <td>Action|Thriller</td>\n",
       "    </tr>\n",
       "    <tr>\n",
       "      <th>585</th>\n",
       "      <td>589</td>\n",
       "      <td>Terminator 2: Judgment Day (1991)</td>\n",
       "      <td>Action|Sci-Fi|Thriller</td>\n",
       "    </tr>\n",
       "    <tr>\n",
       "      <th>770</th>\n",
       "      <td>780</td>\n",
       "      <td>Independence Day (ID4) (1996)</td>\n",
       "      <td>Action|Sci-Fi|War</td>\n",
       "    </tr>\n",
       "    <tr>\n",
       "      <th>1176</th>\n",
       "      <td>1193</td>\n",
       "      <td>One Flew Over the Cuckoo's Nest (1975)</td>\n",
       "      <td>Drama</td>\n",
       "    </tr>\n",
       "    <tr>\n",
       "      <th>1178</th>\n",
       "      <td>1196</td>\n",
       "      <td>Star Wars: Episode V - The Empire Strikes Back...</td>\n",
       "      <td>Action|Adventure|Drama|Sci-Fi|War</td>\n",
       "    </tr>\n",
       "    <tr>\n",
       "      <th>1180</th>\n",
       "      <td>1198</td>\n",
       "      <td>Raiders of the Lost Ark (1981)</td>\n",
       "      <td>Action|Adventure</td>\n",
       "    </tr>\n",
       "    <tr>\n",
       "      <th>1192</th>\n",
       "      <td>1210</td>\n",
       "      <td>Star Wars: Episode VI - Return of the Jedi (1983)</td>\n",
       "      <td>Action|Adventure|Romance|Sci-Fi|War</td>\n",
       "    </tr>\n",
       "    <tr>\n",
       "      <th>1203</th>\n",
       "      <td>1221</td>\n",
       "      <td>Godfather: Part II, The (1974)</td>\n",
       "      <td>Action|Crime|Drama</td>\n",
       "    </tr>\n",
       "    <tr>\n",
       "      <th>1220</th>\n",
       "      <td>1240</td>\n",
       "      <td>Terminator, The (1984)</td>\n",
       "      <td>Action|Sci-Fi|Thriller</td>\n",
       "    </tr>\n",
       "    <tr>\n",
       "      <th>1491</th>\n",
       "      <td>1527</td>\n",
       "      <td>Fifth Element, The (1997)</td>\n",
       "      <td>Action|Sci-Fi</td>\n",
       "    </tr>\n",
       "    <tr>\n",
       "      <th>1505</th>\n",
       "      <td>1544</td>\n",
       "      <td>Lost World: Jurassic Park, The (1997)</td>\n",
       "      <td>Action|Adventure|Sci-Fi|Thriller</td>\n",
       "    </tr>\n",
       "    <tr>\n",
       "      <th>1533</th>\n",
       "      <td>1573</td>\n",
       "      <td>Face/Off (1997)</td>\n",
       "      <td>Action|Sci-Fi|Thriller</td>\n",
       "    </tr>\n",
       "    <tr>\n",
       "      <th>1543</th>\n",
       "      <td>1584</td>\n",
       "      <td>Contact (1997)</td>\n",
       "      <td>Drama|Sci-Fi</td>\n",
       "    </tr>\n",
       "    <tr>\n",
       "      <th>1954</th>\n",
       "      <td>2023</td>\n",
       "      <td>Godfather: Part III, The (1990)</td>\n",
       "      <td>Action|Crime|Drama</td>\n",
       "    </tr>\n",
       "    <tr>\n",
       "      <th>1959</th>\n",
       "      <td>2028</td>\n",
       "      <td>Saving Private Ryan (1998)</td>\n",
       "      <td>Action|Drama|War</td>\n",
       "    </tr>\n",
       "    <tr>\n",
       "      <th>2847</th>\n",
       "      <td>2916</td>\n",
       "      <td>Total Recall (1990)</td>\n",
       "      <td>Action|Adventure|Sci-Fi|Thriller</td>\n",
       "    </tr>\n",
       "    <tr>\n",
       "      <th>3106</th>\n",
       "      <td>3175</td>\n",
       "      <td>Galaxy Quest (1999)</td>\n",
       "      <td>Adventure|Comedy|Sci-Fi</td>\n",
       "    </tr>\n",
       "    <tr>\n",
       "      <th>3724</th>\n",
       "      <td>3793</td>\n",
       "      <td>X-Men (2000)</td>\n",
       "      <td>Action|Sci-Fi</td>\n",
       "    </tr>\n",
       "  </tbody>\n",
       "</table>\n",
       "</div>"
      ],
      "text/plain": [
       "      movie_id                                              title  \\\n",
       "108        110                                  Braveheart (1995)   \n",
       "257        260          Star Wars: Episode IV - A New Hope (1977)   \n",
       "453        457                               Fugitive, The (1993)   \n",
       "585        589                  Terminator 2: Judgment Day (1991)   \n",
       "770        780                      Independence Day (ID4) (1996)   \n",
       "1176      1193             One Flew Over the Cuckoo's Nest (1975)   \n",
       "1178      1196  Star Wars: Episode V - The Empire Strikes Back...   \n",
       "1180      1198                     Raiders of the Lost Ark (1981)   \n",
       "1192      1210  Star Wars: Episode VI - Return of the Jedi (1983)   \n",
       "1203      1221                     Godfather: Part II, The (1974)   \n",
       "1220      1240                             Terminator, The (1984)   \n",
       "1491      1527                          Fifth Element, The (1997)   \n",
       "1505      1544              Lost World: Jurassic Park, The (1997)   \n",
       "1533      1573                                    Face/Off (1997)   \n",
       "1543      1584                                     Contact (1997)   \n",
       "1954      2023                    Godfather: Part III, The (1990)   \n",
       "1959      2028                         Saving Private Ryan (1998)   \n",
       "2847      2916                                Total Recall (1990)   \n",
       "3106      3175                                Galaxy Quest (1999)   \n",
       "3724      3793                                       X-Men (2000)   \n",
       "\n",
       "                                    genre  \n",
       "108                      Action|Drama|War  \n",
       "257       Action|Adventure|Fantasy|Sci-Fi  \n",
       "453                       Action|Thriller  \n",
       "585                Action|Sci-Fi|Thriller  \n",
       "770                     Action|Sci-Fi|War  \n",
       "1176                                Drama  \n",
       "1178    Action|Adventure|Drama|Sci-Fi|War  \n",
       "1180                     Action|Adventure  \n",
       "1192  Action|Adventure|Romance|Sci-Fi|War  \n",
       "1203                   Action|Crime|Drama  \n",
       "1220               Action|Sci-Fi|Thriller  \n",
       "1491                        Action|Sci-Fi  \n",
       "1505     Action|Adventure|Sci-Fi|Thriller  \n",
       "1533               Action|Sci-Fi|Thriller  \n",
       "1543                         Drama|Sci-Fi  \n",
       "1954                   Action|Crime|Drama  \n",
       "1959                     Action|Drama|War  \n",
       "2847     Action|Adventure|Sci-Fi|Thriller  \n",
       "3106              Adventure|Comedy|Sci-Fi  \n",
       "3724                        Action|Sci-Fi  "
      ]
     },
     "execution_count": 42,
     "metadata": {},
     "output_type": "execute_result"
    }
   ],
   "source": [
    "movies[movies['movie_id'].isin([m[0] for m in movie_recommended])]"
   ]
  },
  {
   "cell_type": "markdown",
   "id": "fae52336",
   "metadata": {},
   "source": [
    "# Report\n",
    "\n",
    "- latent factor 중 시청 횟수를 이용한 collaborative filtering을 적용하였음.\n",
    "\n",
    "\n",
    "- Matrix Factorization에서 쪼개진 두 Feature Matrix를 한꺼번에 훈련하는 것은 잘 수렴하지 않기 때문에, 한쪽을 고정시키고 다른 쪽을 학습하는 방식을 번갈아 수행하는 AlternatingLeastSquares 방식을 적용하였음.\n",
    "\n",
    "\n",
    "- 결과적으로 20개의 영화를 추천받았음."
   ]
  }
 ],
 "metadata": {
  "kernelspec": {
   "display_name": "Python 3 (ipykernel)",
   "language": "python",
   "name": "python3"
  },
  "language_info": {
   "codemirror_mode": {
    "name": "ipython",
    "version": 3
   },
   "file_extension": ".py",
   "mimetype": "text/x-python",
   "name": "python",
   "nbconvert_exporter": "python",
   "pygments_lexer": "ipython3",
   "version": "3.9.7"
  }
 },
 "nbformat": 4,
 "nbformat_minor": 5
}

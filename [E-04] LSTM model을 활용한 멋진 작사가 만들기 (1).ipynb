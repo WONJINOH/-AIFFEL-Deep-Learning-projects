{
 "cells": [
  {
   "cell_type": "markdown",
   "id": "fcf4faf9",
   "metadata": {},
   "source": [
    "# LSTM model을 활용한 작사가 만들기"
   ]
  },
  {
   "cell_type": "markdown",
   "id": "09417a7e",
   "metadata": {},
   "source": [
    "## 라이브러리 Import 및 데이터 불러오기"
   ]
  },
  {
   "cell_type": "code",
   "execution_count": 1,
   "id": "38ffe059",
   "metadata": {},
   "outputs": [
    {
     "name": "stdout",
     "output_type": "stream",
     "text": [
      "데이터 크기: 187088\n",
      "Examples:\n",
      " [\"Now I've heard there was a secret chord\", 'That David played, and it pleased the Lord', \"But you don't really care for music, do you?\"]\n"
     ]
    }
   ],
   "source": [
    "import glob\n",
    "import os, re \n",
    "import numpy as np\n",
    "import tensorflow as tf\n",
    "\n",
    "txt_file_path = os.getenv('HOME')+'/aiffel/lyricist/data/lyrics/*'\n",
    "\n",
    "txt_list = glob.glob(txt_file_path)\n",
    "\n",
    "raw_corpus = []\n",
    "\n",
    "for txt_file in txt_list:\n",
    "    with open(txt_file, \"r\") as f:\n",
    "        raw = f.read().splitlines()\n",
    "        raw_corpus.extend(raw)\n",
    "\n",
    "print(\"데이터 크기:\", len(raw_corpus))\n",
    "print(\"Examples:\\n\", raw_corpus[:3])"
   ]
  },
  {
   "cell_type": "markdown",
   "id": "4fff2edc",
   "metadata": {},
   "source": [
    "- glob을 활용해서 모든 txt파일을 읽어온 후, raw_corpus 리스트에 문장 단위로 저장"
   ]
  },
  {
   "cell_type": "code",
   "execution_count": 2,
   "id": "6c43bb7f",
   "metadata": {},
   "outputs": [
    {
     "name": "stdout",
     "output_type": "stream",
     "text": [
      "sentence 0 : Now I've heard there was a secret chord\n",
      "sentence 1 : That David played, and it pleased the Lord\n",
      "sentence 2 : But you don't really care for music, do you?\n",
      "sentence 3 : It goes like this\n",
      "sentence 4 : The fourth, the fifth\n",
      "sentence 5 : The minor fall, the major lift\n",
      "sentence 6 : The baffled king composing Hallelujah Hallelujah\n",
      "sentence 7 : Hallelujah\n",
      "sentence 8 : Hallelujah\n",
      "sentence 9 : Hallelujah Your faith was strong but you needed proof\n"
     ]
    }
   ],
   "source": [
    "# 앞에서부터 10문장만 출력\n",
    "for i in range(0, 9+1):\n",
    "    print('sentence',i,':', raw_corpus[i])"
   ]
  },
  {
   "cell_type": "markdown",
   "id": "bcc26b70",
   "metadata": {},
   "source": [
    "## 데이터 전처리\n",
    "\n",
    "preprocess_sentence() 사용"
   ]
  },
  {
   "cell_type": "code",
   "execution_count": 3,
   "id": "f91ee32d",
   "metadata": {},
   "outputs": [
    {
     "data": {
      "text/plain": [
       "['<start> now i ve heard there was a secret chord <end>',\n",
       " '<start> that david played , and it pleased the lord <end>',\n",
       " '<start> but you don t really care for music , do you ? <end>',\n",
       " '<start> it goes like this <end>',\n",
       " '<start> the fourth , the fifth <end>',\n",
       " '<start> the minor fall , the major lift <end>',\n",
       " '<start> the baffled king composing hallelujah hallelujah <end>',\n",
       " '<start> hallelujah <end>',\n",
       " '<start> hallelujah <end>',\n",
       " '<start> hallelujah your faith was strong but you needed proof <end>']"
      ]
     },
     "execution_count": 3,
     "metadata": {},
     "output_type": "execute_result"
    }
   ],
   "source": [
    "# 입력된 문장을\n",
    "#     1. 소문자로 바꾸고, 양쪽 공백을 지운다\n",
    "#     2. 특수문자 양쪽에 공백을 넣고\n",
    "#     3. 여러개의 공백은 하나의 공백으로 바꾼다\n",
    "#     4. a-zA-Z?.!,¿가 아닌 모든 문자를 하나의 공백으로 바꾼다\n",
    "#     5. 다시 양쪽 공백을 지운다\n",
    "#     6. 문장 시작에는 <start>, 끝에는 <end>를 추가한다\n",
    "\n",
    "def preprocess_sentence(sentence):\n",
    "    sentence = sentence.lower().strip() # 1\n",
    "    sentence = re.sub(r\"([?.!,¿])\", r\" \\1 \", sentence) # 2\n",
    "    sentence = re.sub(r'[\" \"]+', \" \", sentence) # 3\n",
    "    sentence = re.sub(r\"[^a-zA-Z?.!,¿]+\", \" \", sentence) # 4\n",
    "    sentence = sentence.strip() # 5\n",
    "    sentence = '<start> ' + sentence + ' <end>' # 6\n",
    "    return sentence\n",
    "\n",
    "# 정제된 문장 모으기\n",
    "corpus = []\n",
    "\n",
    "for sentence in raw_corpus:\n",
    "    # 우리가 원하지 않는 문장은 건너뛰기\n",
    "    if len(sentence) == 0 : continue\n",
    "                    \n",
    "    # 정제를 하고 담기\n",
    "    preprocessed_sentence = preprocess_sentence(sentence)\n",
    "    # 토큰수 15를 맞추기 위해 조건문 넣기\n",
    "    if len(preprocessed_sentence.split()) > 15 : continue\n",
    "    corpus.append(preprocessed_sentence)   \n",
    "    \n",
    "\n",
    "# 정제된 결과를 10개정도 확인해보기\n",
    "corpus[:10]"
   ]
  },
  {
   "cell_type": "code",
   "execution_count": 4,
   "id": "3d251dca",
   "metadata": {
    "scrolled": true
   },
   "outputs": [
    {
     "name": "stdout",
     "output_type": "stream",
     "text": [
      "[[   2   50    4 ...    0    0    0]\n",
      " [   2   15 2971 ...    0    0    0]\n",
      " [   2   33    7 ...   46    3    0]\n",
      " ...\n",
      " [   2    4  117 ...    0    0    0]\n",
      " [   2  258  195 ...   12    3    0]\n",
      " [   2    7   34 ...    0    0    0]] <keras_preprocessing.text.Tokenizer object at 0x7f5cacdad3a0>\n",
      "15\n"
     ]
    }
   ],
   "source": [
    "def tokenize(corpus):\n",
    "    # 12000단어를 기억할 수 있는 tokenizer를 만들기\n",
    "    # 우리는 이미 문장을 정제했으니 filters가 필요없다\n",
    "    # 12000단어에 포함되지 못한 단어는 '<unk>'로 바꾸기\n",
    "    tokenizer = tf.keras.preprocessing.text.Tokenizer(\n",
    "        num_words=12000, \n",
    "        filters=' ',\n",
    "        oov_token=\"<unk>\"\n",
    "    )\n",
    "    # corpus를 이용해 tokenizer 내부의 단어장을 완성하기\n",
    "    tokenizer.fit_on_texts(corpus)\n",
    "    # 준비한 tokenizer를 이용해 corpus를 Tensor로 변환하기\n",
    "    tensor = tokenizer.texts_to_sequences(corpus)   \n",
    "    # 입력 데이터의 시퀀스 길이를 일정하게 맞춰준다\n",
    "    # 만약 시퀀스가 짧다면 문장 뒤에 패딩을 붙여 길이를 맞춰준다\n",
    "    tensor = tf.keras.preprocessing.sequence.pad_sequences(tensor, padding='post')  \n",
    "    \n",
    "    print(tensor,tokenizer)\n",
    "    return tensor, tokenizer\n",
    "\n",
    "tensor, tokenizer = tokenize(corpus)\n",
    "\n",
    "print(len(tensor[0]))"
   ]
  },
  {
   "cell_type": "markdown",
   "id": "bf367ab1",
   "metadata": {},
   "source": [
    "- 토큰화된 토큰의 개수(len(tensor[0]))가 15개로 맞춰진 것을 확인할 수 있음"
   ]
  },
  {
   "cell_type": "code",
   "execution_count": 5,
   "id": "491eec7f",
   "metadata": {},
   "outputs": [
    {
     "name": "stdout",
     "output_type": "stream",
     "text": [
      "[[   2   50    4   95  303   62   53    9  946 6269]\n",
      " [   2   15 2971  872    5    8   11 5747    6  374]\n",
      " [   2   33    7   40   16  164  288   28  333    5]]\n"
     ]
    }
   ],
   "source": [
    "print(tensor[:3, :10])\n",
    "\n",
    "# 생성된 텐서 데이터를 3번째 행, 10번째 열까지만 출력."
   ]
  },
  {
   "cell_type": "code",
   "execution_count": 6,
   "id": "2f84391d",
   "metadata": {},
   "outputs": [
    {
     "name": "stdout",
     "output_type": "stream",
     "text": [
      "1 : <unk>\n",
      "2 : <start>\n",
      "3 : <end>\n",
      "4 : i\n",
      "5 : ,\n",
      "6 : the\n",
      "7 : you\n",
      "8 : and\n",
      "9 : a\n",
      "10 : to\n"
     ]
    }
   ],
   "source": [
    "# tokenizer에 구축된 단어 사전의 인덱스\n",
    "for idx in tokenizer.index_word:\n",
    "    print(idx, \":\", tokenizer.index_word[idx])\n",
    "\n",
    "    if idx >= 10: break"
   ]
  },
  {
   "cell_type": "code",
   "execution_count": 7,
   "id": "9abf3e10",
   "metadata": {},
   "outputs": [
    {
     "name": "stdout",
     "output_type": "stream",
     "text": [
      "[   2   50    4   95  303   62   53    9  946 6269    3    0    0    0]\n",
      "[  50    4   95  303   62   53    9  946 6269    3    0    0    0    0]\n"
     ]
    }
   ],
   "source": [
    "# tensor에서 마지막 토큰을 잘라내서 소스 문장을 생성한다\n",
    "# 마지막 토큰은 <end>가 아니라 <pad>일 가능성이 높다\n",
    "src_input = tensor[:, :-1]  \n",
    "# tensor에서 <start>를 잘라내서 타겟 문장을 생성한다\n",
    "tgt_input = tensor[:, 1:]    \n",
    "\n",
    "print(src_input[0])\n",
    "print(tgt_input[0])"
   ]
  },
  {
   "cell_type": "markdown",
   "id": "f382e2f8",
   "metadata": {},
   "source": [
    "## 모델 구성 및 학습"
   ]
  },
  {
   "cell_type": "code",
   "execution_count": 8,
   "id": "3849b779",
   "metadata": {},
   "outputs": [],
   "source": [
    "#평가 데이터셋 분리\n",
    "from sklearn.model_selection import train_test_split\n",
    "enc_train, enc_val, dec_train, dec_val = train_test_split(src_input, \n",
    "                                                          tgt_input,\n",
    "                                                          test_size=0.2,       # 데이트셋 비율\n",
    "                                                          shuffle=True, \n",
    "                                                          random_state=34)     # 결과를 일정하게 보여주기위해 지정"
   ]
  },
  {
   "cell_type": "code",
   "execution_count": 9,
   "id": "0ea55892",
   "metadata": {},
   "outputs": [
    {
     "name": "stdout",
     "output_type": "stream",
     "text": [
      "Source Train: (124981, 14)\n",
      "Target Train: (124981, 14)\n"
     ]
    }
   ],
   "source": [
    "print(\"Source Train:\", enc_train.shape)\n",
    "print(\"Target Train:\", dec_train.shape)"
   ]
  },
  {
   "cell_type": "code",
   "execution_count": 10,
   "id": "aaff265e",
   "metadata": {},
   "outputs": [],
   "source": [
    "from tensorflow.keras.layers import Embedding, LSTM, Dense\n",
    "\n",
    "\n",
    "class TextGenerator(tf.keras.Model):\n",
    "    def __init__(self, vocab_size, embedding_size, hidden_size):\n",
    "        super(TextGenerator, self).__init__()\n",
    "        \n",
    "        self.embedding = Embedding(vocab_size, embedding_size)\n",
    "        self.rnn_1 = LSTM(hidden_size, return_sequences=True)\n",
    "        self.rnn_2 = LSTM(hidden_size, return_sequences=True)\n",
    "        self.linear = Dense(vocab_size)\n",
    "        \n",
    "    def call(self, x):\n",
    "        out = self.embedding(x)\n",
    "        out = self.rnn_1(out)\n",
    "        out = self.rnn_2(out)\n",
    "        out = self.linear(out)\n",
    "        \n",
    "        return out\n",
    "    \n",
    "embedding_size = 256\n",
    "hidden_size = 2048\n",
    "model = TextGenerator(tokenizer.num_words + 1, embedding_size , hidden_size)"
   ]
  },
  {
   "cell_type": "code",
   "execution_count": 11,
   "id": "38034954",
   "metadata": {},
   "outputs": [
    {
     "data": {
      "text/plain": [
       "<tf.Tensor: shape=(256, 14, 12001), dtype=float32, numpy=\n",
       "array([[[ 1.68697225e-04,  4.28713029e-05,  1.60546930e-04, ...,\n",
       "          1.52542270e-05, -5.05385760e-05,  1.83339012e-04],\n",
       "        [ 2.43428090e-04, -8.45388058e-06,  1.61475677e-04, ...,\n",
       "          2.66750048e-05, -9.50143876e-05,  2.27184224e-04],\n",
       "        [ 2.29691665e-04, -3.46562243e-04,  2.55844410e-04, ...,\n",
       "         -1.20071709e-04, -2.44516414e-04,  3.23712098e-04],\n",
       "        ...,\n",
       "        [-8.49107339e-04,  5.44982206e-04,  4.11134853e-04, ...,\n",
       "          1.51517056e-03, -4.48030245e-04, -1.63203178e-04],\n",
       "        [-1.11551443e-03,  8.32872116e-04,  5.63787413e-04, ...,\n",
       "          1.54312898e-03, -6.78866403e-04, -2.96359474e-04],\n",
       "        [-1.29885890e-03,  1.07933942e-03,  7.26016355e-04, ...,\n",
       "          1.52162765e-03, -8.45325354e-04, -4.45611833e-04]],\n",
       "\n",
       "       [[ 1.68697225e-04,  4.28713029e-05,  1.60546930e-04, ...,\n",
       "          1.52542270e-05, -5.05385760e-05,  1.83339012e-04],\n",
       "        [ 2.69114273e-04,  1.05391795e-04,  2.77721789e-04, ...,\n",
       "          1.04111736e-04, -1.32763307e-04,  1.70549087e-04],\n",
       "        [ 2.76955223e-04,  9.44651038e-05,  2.58671411e-04, ...,\n",
       "          2.59501277e-04, -2.56864208e-04,  1.20213859e-04],\n",
       "        ...,\n",
       "        [ 1.51947708e-04,  1.68911603e-04, -6.27795875e-04, ...,\n",
       "          1.21893478e-03,  3.12386750e-04,  7.73091335e-04],\n",
       "        [-2.46437732e-04,  4.14941052e-04, -4.92894265e-04, ...,\n",
       "          1.22813461e-03, -9.67491142e-05,  7.39691488e-04],\n",
       "        [-6.24041248e-04,  6.95415831e-04, -2.67524010e-04, ...,\n",
       "          1.20314572e-03, -4.90239938e-04,  6.12951408e-04]],\n",
       "\n",
       "       [[ 1.68697225e-04,  4.28713029e-05,  1.60546930e-04, ...,\n",
       "          1.52542270e-05, -5.05385760e-05,  1.83339012e-04],\n",
       "        [ 6.09069655e-04,  1.10887202e-04,  2.23928204e-04, ...,\n",
       "         -2.13627263e-05, -8.36885956e-05,  2.20650109e-04],\n",
       "        [ 8.45353934e-04,  2.12304323e-04,  3.76697251e-04, ...,\n",
       "          4.12176923e-05, -2.49390752e-04,  2.32112230e-04],\n",
       "        ...,\n",
       "        [-9.71336383e-04,  6.18669321e-04,  2.79000436e-04, ...,\n",
       "          1.05150347e-03, -2.12963577e-03,  2.60940375e-04],\n",
       "        [-1.28606125e-03,  8.57859734e-04,  5.25886600e-04, ...,\n",
       "          1.21975516e-03, -2.26786430e-03,  1.70781204e-04],\n",
       "        [-1.49701093e-03,  1.06201111e-03,  7.64632015e-04, ...,\n",
       "          1.31742295e-03, -2.30745063e-03,  3.45519293e-05]],\n",
       "\n",
       "       ...,\n",
       "\n",
       "       [[ 1.68697225e-04,  4.28713029e-05,  1.60546930e-04, ...,\n",
       "          1.52542270e-05, -5.05385760e-05,  1.83339012e-04],\n",
       "        [ 4.15505783e-04, -6.38042475e-05,  1.82925614e-05, ...,\n",
       "          6.19313214e-05, -2.19231879e-05,  2.88281415e-04],\n",
       "        [ 4.36979200e-04, -1.68734579e-04,  1.61769876e-05, ...,\n",
       "         -1.28629472e-04,  1.06192572e-04,  2.01586037e-04],\n",
       "        ...,\n",
       "        [-1.56696013e-03,  6.71769783e-04,  5.56181709e-04, ...,\n",
       "          1.20471802e-03, -1.02123688e-03, -1.16450479e-04],\n",
       "        [-1.63003954e-03,  8.59218067e-04,  7.34883826e-04, ...,\n",
       "          1.16963603e-03, -1.09920581e-03, -2.90791446e-04],\n",
       "        [-1.63175503e-03,  1.01063668e-03,  8.79974337e-04, ...,\n",
       "          1.11583050e-03, -1.12076243e-03, -4.66539524e-04]],\n",
       "\n",
       "       [[ 1.68697225e-04,  4.28713029e-05,  1.60546930e-04, ...,\n",
       "          1.52542270e-05, -5.05385760e-05,  1.83339012e-04],\n",
       "        [ 1.71367370e-04, -1.10941597e-04,  2.08040568e-04, ...,\n",
       "          1.88049860e-04, -1.20023891e-04,  2.66022078e-04],\n",
       "        [ 2.06107448e-04, -2.37840533e-04,  2.22702467e-04, ...,\n",
       "          1.18296761e-04, -4.97544243e-04,  1.03940278e-04],\n",
       "        ...,\n",
       "        [-2.13797134e-03, -3.49269067e-05,  5.73003665e-04, ...,\n",
       "          5.50613971e-04, -1.32879964e-03,  1.28541957e-04],\n",
       "        [-2.20432482e-03,  3.32965603e-04,  8.11130274e-04, ...,\n",
       "          7.19542732e-04, -1.45014364e-03, -5.86468332e-06],\n",
       "        [-2.18589674e-03,  6.43868349e-04,  1.01239374e-03, ...,\n",
       "          8.36268708e-04, -1.50181702e-03, -1.62229917e-04]],\n",
       "\n",
       "       [[ 1.68697225e-04,  4.28713029e-05,  1.60546930e-04, ...,\n",
       "          1.52542270e-05, -5.05385760e-05,  1.83339012e-04],\n",
       "        [ 3.36451922e-04, -4.21275909e-05,  1.76155459e-04, ...,\n",
       "          1.55400594e-05, -7.82523130e-05,  5.17404929e-04],\n",
       "        [ 3.71697475e-04, -3.15971178e-04,  2.58839020e-04, ...,\n",
       "          2.62646179e-04, -5.63564012e-04,  7.68754631e-04],\n",
       "        ...,\n",
       "        [-4.27424820e-04,  6.39123842e-04, -4.16957831e-04, ...,\n",
       "          1.01496221e-03, -1.48727617e-03, -5.92333032e-04],\n",
       "        [-7.95713975e-04,  8.43582093e-04, -2.34845997e-04, ...,\n",
       "          1.16511330e-03, -1.71874743e-03, -6.36786688e-04],\n",
       "        [-1.08957407e-03,  1.04854652e-03, -1.90629580e-05, ...,\n",
       "          1.25626731e-03, -1.87066267e-03, -7.11506233e-04]]],\n",
       "      dtype=float32)>"
      ]
     },
     "execution_count": 11,
     "metadata": {},
     "output_type": "execute_result"
    }
   ],
   "source": [
    "# corpus 텐서를 tf.data.Dataset객체로 변환\n",
    "dataset = tf.data.Dataset.from_tensor_slices((src_input, tgt_input))\n",
    "dataset = dataset.shuffle(len(src_input))\n",
    "dataset = dataset.batch(256, drop_remainder=True)\n",
    "\n",
    "# model에 작은 데이터셋으로 input shape를 결정\n",
    "for src_sample, tgt_sample in dataset.take(1): break\n",
    "\n",
    "# 한 배치만 불러온 데이터를 모델에 넣어봅니다\n",
    "model(src_sample)"
   ]
  },
  {
   "cell_type": "code",
   "execution_count": 12,
   "id": "2a3cd121",
   "metadata": {},
   "outputs": [
    {
     "name": "stdout",
     "output_type": "stream",
     "text": [
      "Model: \"text_generator\"\n",
      "_________________________________________________________________\n",
      "Layer (type)                 Output Shape              Param #   \n",
      "=================================================================\n",
      "embedding (Embedding)        multiple                  3072256   \n",
      "_________________________________________________________________\n",
      "lstm (LSTM)                  multiple                  18882560  \n",
      "_________________________________________________________________\n",
      "lstm_1 (LSTM)                multiple                  33562624  \n",
      "_________________________________________________________________\n",
      "dense (Dense)                multiple                  24590049  \n",
      "=================================================================\n",
      "Total params: 80,107,489\n",
      "Trainable params: 80,107,489\n",
      "Non-trainable params: 0\n",
      "_________________________________________________________________\n"
     ]
    }
   ],
   "source": [
    "model.summary()"
   ]
  },
  {
   "cell_type": "code",
   "execution_count": 13,
   "id": "fb17a7d4",
   "metadata": {},
   "outputs": [
    {
     "name": "stdout",
     "output_type": "stream",
     "text": [
      "Epoch 1/10\n",
      "489/489 [==============================] - 231s 464ms/step - loss: 3.4585 - val_loss: 3.0083\n",
      "Epoch 2/10\n",
      "489/489 [==============================] - 241s 493ms/step - loss: 2.8388 - val_loss: 2.7348\n",
      "Epoch 3/10\n",
      "489/489 [==============================] - 245s 500ms/step - loss: 2.5388 - val_loss: 2.5557\n",
      "Epoch 4/10\n",
      "489/489 [==============================] - 245s 501ms/step - loss: 2.2487 - val_loss: 2.4172\n",
      "Epoch 5/10\n",
      "489/489 [==============================] - 246s 502ms/step - loss: 1.9727 - val_loss: 2.3182\n",
      "Epoch 6/10\n",
      "489/489 [==============================] - 245s 500ms/step - loss: 1.7195 - val_loss: 2.2393\n",
      "Epoch 7/10\n",
      "489/489 [==============================] - 245s 501ms/step - loss: 1.4992 - val_loss: 2.1903\n",
      "Epoch 8/10\n",
      "489/489 [==============================] - 246s 502ms/step - loss: 1.3173 - val_loss: 2.1691\n",
      "Epoch 9/10\n",
      "489/489 [==============================] - 246s 504ms/step - loss: 1.1785 - val_loss: 2.1677\n",
      "Epoch 10/10\n",
      "489/489 [==============================] - 246s 503ms/step - loss: 1.0843 - val_loss: 2.1837\n"
     ]
    }
   ],
   "source": [
    "optimizer = tf.keras.optimizers.Adam()\n",
    "loss = tf.keras.losses.SparseCategoricalCrossentropy(\n",
    "    from_logits=True,\n",
    "    reduction='none'\n",
    ")\n",
    "\n",
    "model.compile(loss=loss, optimizer=optimizer)\n",
    "early_stopping_cb = tf.keras.callbacks.EarlyStopping(patience=2, restore_best_weights=True)\n",
    "\n",
    "history = model.fit(enc_train, dec_train, epochs=10, batch_size=256, \n",
    "                    validation_data=(enc_val, dec_val), callbacks=[early_stopping_cb])  "
   ]
  },
  {
   "cell_type": "markdown",
   "id": "6265d073",
   "metadata": {},
   "source": [
    "## 모델 평가"
   ]
  },
  {
   "cell_type": "code",
   "execution_count": 17,
   "id": "837399b1",
   "metadata": {},
   "outputs": [
    {
     "data": {
      "text/plain": [
       "<function matplotlib.pyplot.show(close=None, block=None)>"
      ]
     },
     "execution_count": 17,
     "metadata": {},
     "output_type": "execute_result"
    },
    {
     "data": {
      "image/png": "[encoded data removed]",
      "text/plain": [
       "<Figure size 432x288 with 1 Axes>"
      ]
     },
     "metadata": {
      "needs_background": "light"
     },
     "output_type": "display_data"
    }
   ],
   "source": [
    "import matplotlib.pyplot as plt\n",
    "\n",
    "plt.plot(history.history['loss'])\n",
    "plt.plot(history.history['val_loss'])\n",
    "plt.title('train loss and validation loss')\n",
    "plt.ylabel('loss')\n",
    "plt.xlabel('epoch')\n",
    "plt.legend(['train','validation'], loc='upper right')\n",
    "plt.show"
   ]
  },
  {
   "cell_type": "markdown",
   "id": "11c4a9dd",
   "metadata": {},
   "source": [
    "epoch가 증가함에 따라 train loss값은 1점대로 현저하게 떨어지나 검증셋은 2.5 수준으로 떨어짐을 확인함."
   ]
  },
  {
   "cell_type": "code",
   "execution_count": 19,
   "id": "4fde03b9",
   "metadata": {},
   "outputs": [],
   "source": [
    "# 문장 생성 함수\n",
    "def generate_text(model, tokenizer, init_sentence=\"<start>\", max_len=20):\n",
    "    # 테스트를 위해서 입력받은 init_sentence도 일단 텐서로 변환함.\n",
    "    test_input = tokenizer.texts_to_sequences([init_sentence])\n",
    "    test_tensor = tf.convert_to_tensor(test_input, dtype=tf.int64)\n",
    "    end_token = tokenizer.word_index[\"<end>\"]\n",
    "\n",
    "    # 텍스트를 실제로 생성할때는 루프를 돌면서 단어 하나씩 생성해야 함. \n",
    "    while True:\n",
    "        predict = model(test_tensor)  \n",
    "        predict_word = tf.argmax(tf.nn.softmax(predict, axis=-1), axis=-1)[:, -1]   \n",
    "    \n",
    "        test_tensor = tf.concat([test_tensor, tf.expand_dims(predict_word, axis=0)], axis=-1)\n",
    "\n",
    "        if predict_word.numpy()[0] == end_token: break\n",
    "        if test_tensor.shape[1] >= max_len: break\n",
    "\n",
    "    generated = \"\"\n",
    "  \n",
    "    for word_index in test_tensor[0].numpy():\n",
    "        generated += tokenizer.index_word[word_index] + \" \"\n",
    "\n",
    "    return generated  "
   ]
  },
  {
   "cell_type": "code",
   "execution_count": 20,
   "id": "77ca70fe",
   "metadata": {},
   "outputs": [
    {
     "data": {
      "text/plain": [
       "'<start> i love you <end> '"
      ]
     },
     "execution_count": 20,
     "metadata": {},
     "output_type": "execute_result"
    }
   ],
   "source": [
    "generate_text(model, tokenizer, init_sentence=\"<start> i love\", max_len=20)"
   ]
  },
  {
   "cell_type": "markdown",
   "id": "d6438b8f",
   "metadata": {},
   "source": [
    "## 모델 개선해보기\n",
    "\n",
    "하이퍼파라미터 변경"
   ]
  },
  {
   "cell_type": "code",
   "execution_count": 31,
   "id": "cee2a77b",
   "metadata": {},
   "outputs": [],
   "source": [
    "class TextGenerator(tf.keras.Model):\n",
    "    def __init__(self, vocab_size, embedding_size, hidden_size):\n",
    "        super().__init__()\n",
    "        \n",
    "        self.embedding = tf.keras.layers.Embedding(vocab_size, embedding_size)\n",
    "        self.rnn_1 = tf.keras.layers.LSTM(hidden_size, return_sequences=True)\n",
    "        self.rnn_2 = tf.keras.layers.LSTM(hidden_size, return_sequences=True)\n",
    "        self.linear = tf.keras.layers.Dense(vocab_size)\n",
    "        \n",
    "    def call(self, x):\n",
    "        out = self.embedding(x)\n",
    "        out = self.rnn_1(out)\n",
    "        out = self.rnn_2(out)\n",
    "        out = self.linear(out)\n",
    "        \n",
    "        return out\n",
    "    \n",
    "embedding_size = 256   # 단어가 추상적으로 표현되는 크기(고려하는 feature의 수)\n",
    "hidden_size = 1024     # 모델에 둘 일꾼의 수(많으면 배가 산으로)\n",
    "model = TextGenerator(tokenizer.num_words + 1, embedding_size , hidden_size)"
   ]
  },
  {
   "cell_type": "code",
   "execution_count": 32,
   "id": "25870ade",
   "metadata": {},
   "outputs": [],
   "source": [
    "embedding_size = 256\n",
    "hidden_size = 1024\n",
    "model2 = TextGenerator(tokenizer.num_words + 1, embedding_size , hidden_size)"
   ]
  },
  {
   "cell_type": "code",
   "execution_count": 33,
   "id": "477f3d25",
   "metadata": {},
   "outputs": [
    {
     "data": {
      "text/plain": [
       "<tf.Tensor: shape=(256, 14, 12001), dtype=float32, numpy=\n",
       "array([[[-6.60402293e-05,  8.57257182e-05,  6.99256725e-06, ...,\n",
       "         -6.31421426e-05, -1.74272544e-04, -8.34657549e-05],\n",
       "        [ 7.68151858e-06,  1.44254300e-04,  7.37792434e-05, ...,\n",
       "         -1.63041375e-04, -3.43670166e-04, -1.66213955e-04],\n",
       "        [ 6.89260269e-05,  3.25290762e-06,  2.71523721e-04, ...,\n",
       "         -1.81497075e-04, -5.18042187e-04, -4.46222752e-04],\n",
       "        ...,\n",
       "        [-1.77369243e-03, -7.01336423e-04, -6.33119489e-04, ...,\n",
       "         -4.21769131e-04,  3.89876514e-04, -7.06827443e-04],\n",
       "        [-2.40335171e-03, -8.68442585e-04, -8.16173211e-04, ...,\n",
       "         -8.48806289e-04,  7.81574403e-04, -8.15367617e-04],\n",
       "        [-3.02999443e-03, -1.03172683e-03, -9.66078544e-04, ...,\n",
       "         -1.28885161e-03,  1.18518167e-03, -9.59145487e-04]],\n",
       "\n",
       "       [[-6.60402293e-05,  8.57257182e-05,  6.99256725e-06, ...,\n",
       "         -6.31421426e-05, -1.74272544e-04, -8.34657549e-05],\n",
       "        [-1.27876294e-04,  3.28861352e-04,  8.24078597e-05, ...,\n",
       "         -1.11722275e-05, -3.27622081e-04, -1.36466406e-04],\n",
       "        [-4.20775352e-04,  2.62638438e-04, -1.11048925e-04, ...,\n",
       "         -2.49400618e-04, -2.59127642e-04, -8.40354842e-05],\n",
       "        ...,\n",
       "        [-4.28844988e-03, -1.17917580e-03, -2.29996815e-03, ...,\n",
       "         -2.23191059e-03,  2.01788940e-03, -7.75204098e-04],\n",
       "        [-4.78381012e-03, -1.23885251e-03, -2.35665590e-03, ...,\n",
       "         -2.54103029e-03,  2.30372883e-03, -9.85818333e-04],\n",
       "        [-5.21706976e-03, -1.31490803e-03, -2.39376980e-03, ...,\n",
       "         -2.82707415e-03,  2.56873970e-03, -1.21001562e-03]],\n",
       "\n",
       "       [[-6.60402293e-05,  8.57257182e-05,  6.99256725e-06, ...,\n",
       "         -6.31421426e-05, -1.74272544e-04, -8.34657549e-05],\n",
       "        [-3.34428361e-04, -1.41163022e-04, -1.84502118e-04, ...,\n",
       "         -1.30895394e-04, -2.07951496e-04, -1.35048133e-04],\n",
       "        [-3.20482563e-04, -2.11802762e-04, -2.32813632e-04, ...,\n",
       "         -2.42153372e-04, -3.00304033e-04, -1.81037365e-04],\n",
       "        ...,\n",
       "        [ 3.95358220e-04, -3.92470916e-04, -6.12734060e-04, ...,\n",
       "          6.99769225e-05, -2.73958023e-04, -3.16797727e-04],\n",
       "        [ 3.52400326e-04, -3.21950880e-04, -6.88006345e-04, ...,\n",
       "          2.96799204e-04, -1.31191977e-04, -1.92325722e-04],\n",
       "        [-8.68327406e-05, -3.43659631e-04, -9.37708712e-04, ...,\n",
       "          2.18430810e-04,  3.55357115e-05, -1.54187015e-04]],\n",
       "\n",
       "       ...,\n",
       "\n",
       "       [[-6.60402293e-05,  8.57257182e-05,  6.99256725e-06, ...,\n",
       "         -6.31421426e-05, -1.74272544e-04, -8.34657549e-05],\n",
       "        [-2.18825182e-04,  2.60510365e-04, -1.19138793e-04, ...,\n",
       "         -1.54193403e-04, -4.80795046e-04, -1.82180214e-04],\n",
       "        [-3.93361377e-04,  8.74830410e-04, -1.12913855e-04, ...,\n",
       "         -2.51361314e-04, -6.40474726e-04, -1.88571721e-04],\n",
       "        ...,\n",
       "        [-2.15123687e-03,  9.67454747e-04, -1.02928607e-03, ...,\n",
       "         -1.06687355e-03,  5.06426848e-04, -1.30635744e-03],\n",
       "        [-2.79156188e-03,  6.90601650e-04, -1.14456145e-03, ...,\n",
       "         -1.41370646e-03,  9.25123692e-04, -1.34175422e-03],\n",
       "        [-3.41658155e-03,  3.98074189e-04, -1.23990024e-03, ...,\n",
       "         -1.76982302e-03,  1.33625336e-03, -1.40890898e-03]],\n",
       "\n",
       "       [[-6.60402293e-05,  8.57257182e-05,  6.99256725e-06, ...,\n",
       "         -6.31421426e-05, -1.74272544e-04, -8.34657549e-05],\n",
       "        [-1.49452346e-04, -1.43118232e-04, -1.00748948e-05, ...,\n",
       "         -4.81908763e-04, -2.29524172e-04, -5.23423732e-05],\n",
       "        [-1.70694009e-04,  2.03876225e-05,  1.17865866e-05, ...,\n",
       "         -7.13342568e-04, -2.25641881e-04, -6.32995580e-05],\n",
       "        ...,\n",
       "        [-3.66316806e-03, -4.68159677e-04, -2.18201801e-03, ...,\n",
       "         -2.17770343e-03,  1.67881604e-03, -7.39888754e-04],\n",
       "        [-4.24024276e-03, -7.06962135e-04, -2.24341103e-03, ...,\n",
       "         -2.50032637e-03,  1.98619650e-03, -9.47013672e-04],\n",
       "        [-4.74959053e-03, -9.28589143e-04, -2.27949885e-03, ...,\n",
       "         -2.79369834e-03,  2.28472310e-03, -1.16685708e-03]],\n",
       "\n",
       "       [[-6.60402293e-05,  8.57257182e-05,  6.99256725e-06, ...,\n",
       "         -6.31421426e-05, -1.74272544e-04, -8.34657549e-05],\n",
       "        [ 7.68151858e-06,  1.44254300e-04,  7.37792434e-05, ...,\n",
       "         -1.63041375e-04, -3.43670166e-04, -1.66213955e-04],\n",
       "        [ 4.88404476e-04,  2.90697702e-04, -8.74281177e-05, ...,\n",
       "          2.14431682e-04, -3.44337604e-04, -3.22406908e-04],\n",
       "        ...,\n",
       "        [ 2.75396975e-04,  5.02215349e-04,  1.83778848e-05, ...,\n",
       "          1.51895441e-03,  9.44024767e-04, -1.94571679e-03],\n",
       "        [-3.11146054e-04,  3.35949677e-04, -3.04270594e-04, ...,\n",
       "          1.02743262e-03,  1.12209492e-03, -1.95690338e-03],\n",
       "        [-1.01145986e-03,  1.31752706e-04, -6.04955945e-04, ...,\n",
       "          4.45239275e-04,  1.33486395e-03, -1.95475086e-03]]],\n",
       "      dtype=float32)>"
      ]
     },
     "execution_count": 33,
     "metadata": {},
     "output_type": "execute_result"
    }
   ],
   "source": [
    "# corpus 텐서를 tf.data.Dataset객체로 변환\n",
    "dataset = tf.data.Dataset.from_tensor_slices((src_input, tgt_input))\n",
    "dataset = dataset.shuffle(len(src_input))\n",
    "dataset = dataset.batch(256, drop_remainder=True)\n",
    "\n",
    "# model에 작은 데이터셋으로 input shape를 결정\n",
    "for src_sample, tgt_sample in dataset.take(1): break\n",
    "\n",
    "# 한 배치만 불러온 데이터를 모델에 넣어봅니다\n",
    "model(src_sample)"
   ]
  },
  {
   "cell_type": "code",
   "execution_count": 34,
   "id": "3f0eeb17",
   "metadata": {},
   "outputs": [
    {
     "name": "stdout",
     "output_type": "stream",
     "text": [
      "Model: \"text_generator_4\"\n",
      "_________________________________________________________________\n",
      "Layer (type)                 Output Shape              Param #   \n",
      "=================================================================\n",
      "embedding_4 (Embedding)      multiple                  3072256   \n",
      "_________________________________________________________________\n",
      "lstm_6 (LSTM)                multiple                  5246976   \n",
      "_________________________________________________________________\n",
      "lstm_7 (LSTM)                multiple                  8392704   \n",
      "_________________________________________________________________\n",
      "dense_4 (Dense)              multiple                  12301025  \n",
      "=================================================================\n",
      "Total params: 29,012,961\n",
      "Trainable params: 29,012,961\n",
      "Non-trainable params: 0\n",
      "_________________________________________________________________\n"
     ]
    }
   ],
   "source": [
    "model.summary()"
   ]
  },
  {
   "cell_type": "code",
   "execution_count": 35,
   "id": "b4bad2c4",
   "metadata": {},
   "outputs": [
    {
     "name": "stdout",
     "output_type": "stream",
     "text": [
      "Epoch 1/10\n",
      "489/489 [==============================] - 92s 183ms/step - loss: 3.4824 - val_loss: 3.1406\n",
      "Epoch 2/10\n",
      "489/489 [==============================] - 91s 186ms/step - loss: 3.0379 - val_loss: 2.9698\n",
      "Epoch 3/10\n",
      "489/489 [==============================] - 92s 187ms/step - loss: 2.8720 - val_loss: 2.8502\n",
      "Epoch 4/10\n",
      "489/489 [==============================] - 91s 187ms/step - loss: 2.7435 - val_loss: 2.7689\n",
      "Epoch 5/10\n",
      "489/489 [==============================] - 92s 188ms/step - loss: 2.6365 - val_loss: 2.7057\n",
      "Epoch 6/10\n",
      "489/489 [==============================] - 92s 188ms/step - loss: 2.5408 - val_loss: 2.6523\n",
      "Epoch 7/10\n",
      "489/489 [==============================] - 91s 187ms/step - loss: 2.4526 - val_loss: 2.6081\n",
      "Epoch 8/10\n",
      "489/489 [==============================] - 92s 188ms/step - loss: 2.3709 - val_loss: 2.5702\n",
      "Epoch 9/10\n",
      "489/489 [==============================] - 91s 187ms/step - loss: 2.2942 - val_loss: 2.5428\n",
      "Epoch 10/10\n",
      "489/489 [==============================] - 92s 188ms/step - loss: 2.2219 - val_loss: 2.5145\n"
     ]
    }
   ],
   "source": [
    "optimizer = tf.keras.optimizers.Adam()\n",
    "loss = tf.keras.losses.SparseCategoricalCrossentropy(\n",
    "    from_logits=True,\n",
    "    reduction='none'\n",
    ")\n",
    "\n",
    "\n",
    "model.compile(loss=loss, optimizer=optimizer)\n",
    "early_stopping_cb = tf.keras.callbacks.EarlyStopping(patience=2, restore_best_weights=True)\n",
    "\n",
    "history = model.fit(enc_train, dec_train, epochs=10, batch_size=256, \n",
    "                    validation_data=(enc_val, dec_val), callbacks=[early_stopping_cb])  \n"
   ]
  },
  {
   "cell_type": "code",
   "execution_count": 36,
   "id": "5bd347bd",
   "metadata": {},
   "outputs": [
    {
     "data": {
      "text/plain": [
       "<function matplotlib.pyplot.show(close=None, block=None)>"
      ]
     },
     "execution_count": 36,
     "metadata": {},
     "output_type": "execute_result"
    },
    {
     "data": {
      "image/png": "[encoded data removed]",
      "text/plain": [
       "<Figure size 432x288 with 1 Axes>"
      ]
     },
     "metadata": {
      "needs_background": "light"
     },
     "output_type": "display_data"
    }
   ],
   "source": [
    "plt.plot(history.history['loss'])\n",
    "plt.plot(history.history['val_loss'])\n",
    "plt.title('train loss and validation loss')\n",
    "plt.ylabel('loss')\n",
    "plt.xlabel('epoch')\n",
    "plt.legend(['train','validation'], loc='upper right')\n",
    "plt.show"
   ]
  },
  {
   "cell_type": "markdown",
   "id": "d90a78d0",
   "metadata": {},
   "source": [
    "### Report\n",
    "\n",
    "- 중복되는 문장, 대괄호가 포함된 문장 삭제 등 데이터 정제 시행함.\n",
    "- 15000개의 단어를 기억할 수 있는 tokenzier를 생성함.\n",
    "\n",
    "- 에포크를 10보다 늘이거나,LSTM layer에 normalization을 적용하지 못했기에 다음 기회에 한번 시도해보려고함."
   ]
  },
  {
   "cell_type": "markdown",
   "id": "4180f8b5",
   "metadata": {},
   "source": [
    "### 참고 사이트\n",
    "\n",
    "Overfitting(과적합) 해결 \\ https://velog.io/@yookyungkho/%EB%94%A5%EB%9F%AC%EB%8B%9D%EC%9D%98-%EA%B3%A0%EC%A7%88%EB%B3%91-Overfitting%EA%B3%BC%EC%A0%81%ED%95%A9-%ED%95%B4%EA%B2%B0-%ED%8C%81\n",
    "\n",
    "RNN과 LSTM을 이해해보자! \\ https://ratsgo.github.io/natural%20language%20processing/2017/03/09/rnnlstm/\n",
    "\n",
    "LSTM layer \\ https://keras.io/api/layers/recurrent_layers/lstm/\n",
    "\n",
    "file data 중복 제거 구현 \\ https://velog.io/@cosmos/Python%EC%97%90%EC%84%9C-file-%EB%82%B4%EC%9A%A9-%EC%A4%91-%EC%A4%91%EB%B3%B5%EB%90%98%EB%8A%94-%EB%82%B4%EC%9A%A9-%EC%A0%9C%EA%B1%B0%ED%95%98%EA%B8%B0\n",
    "\n",
    "ordereddict함수 \\ https://hengbokhan.tistory.com/82\n",
    "\n",
    "A Performance Analysis by Adjusting Learning Methods in Stock Price Prediction Model Using LSTM \\ https://www.koreascience.or.kr/article/JAKO202034352379471.pdf"
   ]
  }
 ],
 "metadata": {
  "kernelspec": {
   "display_name": "Python 3 (ipykernel)",
   "language": "python",
   "name": "python3"
  },
  "language_info": {
   "codemirror_mode": {
    "name": "ipython",
    "version": 3
   },
   "file_extension": ".py",
   "mimetype": "text/x-python",
   "name": "python",
   "nbconvert_exporter": "python",
   "pygments_lexer": "ipython3",
   "version": "3.9.7"
  }
 },
 "nbformat": 4,
 "nbformat_minor": 5
}

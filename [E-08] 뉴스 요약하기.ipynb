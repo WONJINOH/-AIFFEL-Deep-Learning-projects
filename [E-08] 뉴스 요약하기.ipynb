{
 "cells": [
  {
   "cell_type": "markdown",
   "id": "e41ee8d7",
   "metadata": {},
   "source": [
    "# 뉴스 요약봇 만들기"
   ]
  },
  {
   "cell_type": "markdown",
   "id": "f371997b",
   "metadata": {},
   "source": [
    "# 개념 정리\n",
    "\n",
    "\n",
    "- seq2seq은 두 개의 RNN 아키텍처를 사용하여 입력 시퀀스로부터 출력 시퀀스를 생성해 내는 자연어 생성 모델\n",
    "\n",
    "- Extractive Summarization : 단어 그대로 원문에서 문장들을 추출해서 요약하는 방식 전통적인 머신 러닝 방식에 속하는 텍스트 랭크(TextRank)와 같은 알고리즘을 사용 - 네이버 뉴스- 요약봇 TextRank 알고리즘 사용,문장 분류(Text Classification)\n",
    "\n",
    "- Abstractive Summarization : 원문으로부터 내용이 요약된 새로운 문장을 생성(자연어 생성(Natural Language Generation, NLG)의 영역), RNN은 학습데이터의 길이가 길어질수록 먼 과거의 정보를 현재에 전달하기 어려움"
   ]
  },
  {
   "cell_type": "markdown",
   "id": "04dfe67b",
   "metadata": {},
   "source": [
    "# 루브릭\n",
    "\n",
    "1.분석단계, 정제단계, 정규화와 불용어 제거, 데이터셋 분리, 인코딩 과정이 빠짐없이 체계적으로 진행되었다.\n",
    "\n",
    "2.모델학습이 안정적으로 수렴되었음을 그래프를 통해 확인하였으며, 실제 요약문과 유사한 요약문장을 얻을 수 있었다.\n",
    "\n",
    "3.두 요약 결과를 문법완성도 측면과 핵심단어 포함 측면으로 나누어 비교분석 결과를 제시하였다.\n",
    "\n"
   ]
  },
  {
   "cell_type": "markdown",
   "id": "3b1ba491",
   "metadata": {},
   "source": [
    "# seq2seq model 사용방법\n",
    "\n",
    "1. RNN 계열 중 LSTM을 사용하므로 hidden state뿐만 아니라 cell state도 사용해야 함.\n",
    "2. 디코더의 예측 시퀀스에는 시작 토큰 SOS와 예측 토큰 EOS를 시퀀스의 앞, 뒤로 붙임.\n",
    "3. seq2seq를 구동시키면 디코더는 시작 토큰을 입력받아 예측을 시작하게 됨\n",
    "4. seq2seq 기본 모델과 달리, 어텐션 메커니즘을 이용해 인코더의 hidden state의 중요도를 취합한 컨텍스트 벡터를 디코더 스텝별로 계산함\n",
    "5. 계산된 컨텍스트 벡터를 이용해서 디코더는 다음 등장할 단어를 예측하게 됨."
   ]
  },
  {
   "cell_type": "markdown",
   "id": "970f06f3",
   "metadata": {},
   "source": [
    "# Step 1. 라이브러리 임포트 및 데이터 수집하기"
   ]
  },
  {
   "cell_type": "code",
   "execution_count": 1,
   "id": "e6f5c745",
   "metadata": {},
   "outputs": [
    {
     "name": "stderr",
     "output_type": "stream",
     "text": [
      "[nltk_data] Downloading package stopwords to /aiffel/nltk_data...\n",
      "[nltk_data]   Package stopwords is already up-to-date!\n"
     ]
    }
   ],
   "source": [
    "import nltk\n",
    "nltk.download('stopwords')\n",
    "\n",
    "import numpy as np\n",
    "import pandas as pd\n",
    "import os\n",
    "import re\n",
    "import matplotlib.pyplot as plt\n",
    "from nltk.corpus import stopwords\n",
    "from bs4 import BeautifulSoup \n",
    "from tensorflow.keras.preprocessing.text import Tokenizer \n",
    "from tensorflow.keras.preprocessing.sequence import pad_sequences\n",
    "import urllib.request\n",
    "import warnings\n",
    "warnings.filterwarnings(\"ignore\", category=UserWarning, module='bs4')"
   ]
  },
  {
   "cell_type": "code",
   "execution_count": 2,
   "id": "3289515b",
   "metadata": {},
   "outputs": [],
   "source": [
    "import urllib.request\n",
    "urllib.request.urlretrieve(\"https://raw.githubusercontent.com/sunnysai12345/News_Summary/master/news_summary_more.csv\", filename=\"news_summary_more.csv\")\n",
    "data = pd.read_csv('news_summary_more.csv', encoding='iso-8859-1')"
   ]
  },
  {
   "cell_type": "code",
   "execution_count": 3,
   "id": "d780a6e7",
   "metadata": {},
   "outputs": [
    {
     "data": {
      "text/html": [
       "<div>\n",
       "<style scoped>\n",
       "    .dataframe tbody tr th:only-of-type {\n",
       "        vertical-align: middle;\n",
       "    }\n",
       "\n",
       "    .dataframe tbody tr th {\n",
       "        vertical-align: top;\n",
       "    }\n",
       "\n",
       "    .dataframe thead th {\n",
       "        text-align: right;\n",
       "    }\n",
       "</style>\n",
       "<table border=\"1\" class=\"dataframe\">\n",
       "  <thead>\n",
       "    <tr style=\"text-align: right;\">\n",
       "      <th></th>\n",
       "      <th>headlines</th>\n",
       "      <th>text</th>\n",
       "    </tr>\n",
       "  </thead>\n",
       "  <tbody>\n",
       "    <tr>\n",
       "      <th>84764</th>\n",
       "      <td>Syama wins Kerala's 1st beauty pageant for tra...</td>\n",
       "      <td>Syama Sanju was declared the Queen of Dhwayah,...</td>\n",
       "    </tr>\n",
       "    <tr>\n",
       "      <th>47309</th>\n",
       "      <td>Man tries to build meth lab in hotel room, set...</td>\n",
       "      <td>A man was arrested in United States' Atlantic ...</td>\n",
       "    </tr>\n",
       "    <tr>\n",
       "      <th>11401</th>\n",
       "      <td>India will maintain security in the Indo-Pacif...</td>\n",
       "      <td>Army chief General Bipin Rawat on Thursday sai...</td>\n",
       "    </tr>\n",
       "    <tr>\n",
       "      <th>13810</th>\n",
       "      <td>Air India pilots didn't know plane hit wall, f...</td>\n",
       "      <td>Pilots of the Dubai-bound Air India Express fl...</td>\n",
       "    </tr>\n",
       "    <tr>\n",
       "      <th>86404</th>\n",
       "      <td>Sushma asks Pak man to get Aziz's letter for m...</td>\n",
       "      <td>External Affairs Minister Sushma Swaraj on Sun...</td>\n",
       "    </tr>\n",
       "    <tr>\n",
       "      <th>70804</th>\n",
       "      <td>Logistics startup Ecom Express raises $30 million</td>\n",
       "      <td>Delhi-based logistics solution provider Ecom E...</td>\n",
       "    </tr>\n",
       "    <tr>\n",
       "      <th>10087</th>\n",
       "      <td>AIADMK replaces Jayalalithaa's statue after cr...</td>\n",
       "      <td>The AIADMK on Wednesday unveiled a new life-si...</td>\n",
       "    </tr>\n",
       "    <tr>\n",
       "      <th>40255</th>\n",
       "      <td>Pictures of Arbaaz Khan with alleged bookies s...</td>\n",
       "      <td>Pictures of Bollywood actor and producer Arbaa...</td>\n",
       "    </tr>\n",
       "    <tr>\n",
       "      <th>84016</th>\n",
       "      <td>Govt paints 'I am poor, receive ration' on peo...</td>\n",
       "      <td>Officials in Rajasthan's Dausa have painted wa...</td>\n",
       "    </tr>\n",
       "    <tr>\n",
       "      <th>43145</th>\n",
       "      <td>Doctor performs surgery on woman in torchlight...</td>\n",
       "      <td>A doctor in Bihar's Saharsa on Sunday performe...</td>\n",
       "    </tr>\n",
       "  </tbody>\n",
       "</table>\n",
       "</div>"
      ],
      "text/plain": [
       "                                               headlines  \\\n",
       "84764  Syama wins Kerala's 1st beauty pageant for tra...   \n",
       "47309  Man tries to build meth lab in hotel room, set...   \n",
       "11401  India will maintain security in the Indo-Pacif...   \n",
       "13810  Air India pilots didn't know plane hit wall, f...   \n",
       "86404  Sushma asks Pak man to get Aziz's letter for m...   \n",
       "70804  Logistics startup Ecom Express raises $30 million   \n",
       "10087  AIADMK replaces Jayalalithaa's statue after cr...   \n",
       "40255  Pictures of Arbaaz Khan with alleged bookies s...   \n",
       "84016  Govt paints 'I am poor, receive ration' on peo...   \n",
       "43145  Doctor performs surgery on woman in torchlight...   \n",
       "\n",
       "                                                    text  \n",
       "84764  Syama Sanju was declared the Queen of Dhwayah,...  \n",
       "47309  A man was arrested in United States' Atlantic ...  \n",
       "11401  Army chief General Bipin Rawat on Thursday sai...  \n",
       "13810  Pilots of the Dubai-bound Air India Express fl...  \n",
       "86404  External Affairs Minister Sushma Swaraj on Sun...  \n",
       "70804  Delhi-based logistics solution provider Ecom E...  \n",
       "10087  The AIADMK on Wednesday unveiled a new life-si...  \n",
       "40255  Pictures of Bollywood actor and producer Arbaa...  \n",
       "84016  Officials in Rajasthan's Dausa have painted wa...  \n",
       "43145  A doctor in Bihar's Saharsa on Sunday performe...  "
      ]
     },
     "execution_count": 3,
     "metadata": {},
     "output_type": "execute_result"
    }
   ],
   "source": [
    "data.sample(10)"
   ]
  },
  {
   "cell_type": "markdown",
   "id": "0e3cfc6d",
   "metadata": {},
   "source": [
    "# Step 2. 데이터 전처리하기 (추출적 요약)"
   ]
  },
  {
   "cell_type": "markdown",
   "id": "b56743e4",
   "metadata": {},
   "source": [
    "추상적 요약을 하는 경우에는 text를 본문, headlines를 이미 요약된 데이터로 삼아서 모델을 학습할 수 있음,\n",
    "추출적 요약은 text열 만을 사용할 것임.\n",
    "\n",
    "#### 중복 샘플과 NULL 값이 존재하는 샘플 제거"
   ]
  },
  {
   "cell_type": "code",
   "execution_count": 4,
   "id": "798fd1c7",
   "metadata": {},
   "outputs": [
    {
     "name": "stdout",
     "output_type": "stream",
     "text": [
      "text 열에서 중복을 배제한 유일한 샘플의 수 : 98360\n",
      "headlines 열에서 중복을 배제한 유일한 샘플의 수 : 98280\n"
     ]
    }
   ],
   "source": [
    "print('text 열에서 중복을 배제한 유일한 샘플의 수 :', data['text'].nunique())\n",
    "print('headlines 열에서 중복을 배제한 유일한 샘플의 수 :', data['headlines'].nunique())"
   ]
  },
  {
   "cell_type": "code",
   "execution_count": 5,
   "id": "80af6041",
   "metadata": {},
   "outputs": [
    {
     "name": "stdout",
     "output_type": "stream",
     "text": [
      "전체 샘플수 : 98360\n"
     ]
    }
   ],
   "source": [
    "#drop_duplicates()가 중복된 Null들을 지워줌\n",
    "# inplace=True 를 설정하면 DataFrame 타입 값을 return 하지 않고 data 내부를 직접적으로 바꿈.\n",
    "data.drop_duplicates(subset = ['text'], inplace=True)\n",
    "print('전체 샘플수 :', (len(data)))"
   ]
  },
  {
   "cell_type": "code",
   "execution_count": 6,
   "id": "89a6ff75",
   "metadata": {},
   "outputs": [
    {
     "name": "stdout",
     "output_type": "stream",
     "text": [
      "headlines    0\n",
      "text         0\n",
      "dtype: int64\n"
     ]
    }
   ],
   "source": [
    "#데이터프레임에 Null 값이 있는지 확인\n",
    "print(data.isnull().sum())"
   ]
  },
  {
   "cell_type": "markdown",
   "id": "ad6850d9",
   "metadata": {},
   "source": [
    "### 텍스트 정규화(text normalization)"
   ]
  },
  {
   "cell_type": "code",
   "execution_count": 7,
   "id": "62940afa",
   "metadata": {},
   "outputs": [
    {
     "name": "stdout",
     "output_type": "stream",
     "text": [
      "정규화 사전의 수:  120\n"
     ]
    }
   ],
   "source": [
    "contractions = {\"ain't\": \"is not\", \"aren't\": \"are not\",\"can't\": \"cannot\", \"'cause\": \"because\", \"could've\": \"could have\", \"couldn't\": \"could not\",\n",
    "                           \"didn't\": \"did not\",  \"doesn't\": \"does not\", \"don't\": \"do not\", \"hadn't\": \"had not\", \"hasn't\": \"has not\", \"haven't\": \"have not\",\n",
    "                           \"he'd\": \"he would\",\"he'll\": \"he will\", \"he's\": \"he is\", \"how'd\": \"how did\", \"how'd'y\": \"how do you\", \"how'll\": \"how will\", \"how's\": \"how is\",\n",
    "                           \"I'd\": \"I would\", \"I'd've\": \"I would have\", \"I'll\": \"I will\", \"I'll've\": \"I will have\",\"I'm\": \"I am\", \"I've\": \"I have\", \"i'd\": \"i would\",\n",
    "                           \"i'd've\": \"i would have\", \"i'll\": \"i will\",  \"i'll've\": \"i will have\",\"i'm\": \"i am\", \"i've\": \"i have\", \"isn't\": \"is not\", \"it'd\": \"it would\",\n",
    "                           \"it'd've\": \"it would have\", \"it'll\": \"it will\", \"it'll've\": \"it will have\",\"it's\": \"it is\", \"let's\": \"let us\", \"ma'am\": \"madam\",\n",
    "                           \"mayn't\": \"may not\", \"might've\": \"might have\",\"mightn't\": \"might not\",\"mightn't've\": \"might not have\", \"must've\": \"must have\",\n",
    "                           \"mustn't\": \"must not\", \"mustn't've\": \"must not have\", \"needn't\": \"need not\", \"needn't've\": \"need not have\",\"o'clock\": \"of the clock\",\n",
    "                           \"oughtn't\": \"ought not\", \"oughtn't've\": \"ought not have\", \"shan't\": \"shall not\", \"sha'n't\": \"shall not\", \"shan't've\": \"shall not have\",\n",
    "                           \"she'd\": \"she would\", \"she'd've\": \"she would have\", \"she'll\": \"she will\", \"she'll've\": \"she will have\", \"she's\": \"she is\",\n",
    "                           \"should've\": \"should have\", \"shouldn't\": \"should not\", \"shouldn't've\": \"should not have\", \"so've\": \"so have\",\"so's\": \"so as\",\n",
    "                           \"this's\": \"this is\",\"that'd\": \"that would\", \"that'd've\": \"that would have\", \"that's\": \"that is\", \"there'd\": \"there would\",\n",
    "                           \"there'd've\": \"there would have\", \"there's\": \"there is\", \"here's\": \"here is\",\"they'd\": \"they would\", \"they'd've\": \"they would have\",\n",
    "                           \"they'll\": \"they will\", \"they'll've\": \"they will have\", \"they're\": \"they are\", \"they've\": \"they have\", \"to've\": \"to have\",\n",
    "                           \"wasn't\": \"was not\", \"we'd\": \"we would\", \"we'd've\": \"we would have\", \"we'll\": \"we will\", \"we'll've\": \"we will have\", \"we're\": \"we are\",\n",
    "                           \"we've\": \"we have\", \"weren't\": \"were not\", \"what'll\": \"what will\", \"what'll've\": \"what will have\", \"what're\": \"what are\",\n",
    "                           \"what's\": \"what is\", \"what've\": \"what have\", \"when's\": \"when is\", \"when've\": \"when have\", \"where'd\": \"where did\", \"where's\": \"where is\",\n",
    "                           \"where've\": \"where have\", \"who'll\": \"who will\", \"who'll've\": \"who will have\", \"who's\": \"who is\", \"who've\": \"who have\",\n",
    "                           \"why's\": \"why is\", \"why've\": \"why have\", \"will've\": \"will have\", \"won't\": \"will not\", \"won't've\": \"will not have\",\n",
    "                           \"would've\": \"would have\", \"wouldn't\": \"would not\", \"wouldn't've\": \"would not have\", \"y'all\": \"you all\",\n",
    "                           \"y'all'd\": \"you all would\",\"y'all'd've\": \"you all would have\",\"y'all're\": \"you all are\",\"y'all've\": \"you all have\",\n",
    "                           \"you'd\": \"you would\", \"you'd've\": \"you would have\", \"you'll\": \"you will\", \"you'll've\": \"you will have\",\n",
    "                           \"you're\": \"you are\", \"you've\": \"you have\"}\n",
    "\n",
    "print(\"정규화 사전의 수: \", len(contractions))"
   ]
  },
  {
   "cell_type": "markdown",
   "id": "8463d61a",
   "metadata": {},
   "source": [
    "#### 불용어(stopwords) 제거, 모든 영어문자 소문자 변환, html 및 특수 문자제거"
   ]
  },
  {
   "cell_type": "code",
   "execution_count": 8,
   "id": "1ae000a4",
   "metadata": {},
   "outputs": [
    {
     "name": "stdout",
     "output_type": "stream",
     "text": [
      "불용어 개수 : 179\n",
      "['i', 'me', 'my', 'myself', 'we', 'our', 'ours', 'ourselves', 'you', \"you're\", \"you've\", \"you'll\", \"you'd\", 'your', 'yours', 'yourself', 'yourselves', 'he', 'him', 'his', 'himself', 'she', \"she's\", 'her', 'hers', 'herself', 'it', \"it's\", 'its', 'itself', 'they', 'them', 'their', 'theirs', 'themselves', 'what', 'which', 'who', 'whom', 'this', 'that', \"that'll\", 'these', 'those', 'am', 'is', 'are', 'was', 'were', 'be', 'been', 'being', 'have', 'has', 'had', 'having', 'do', 'does', 'did', 'doing', 'a', 'an', 'the', 'and', 'but', 'if', 'or', 'because', 'as', 'until', 'while', 'of', 'at', 'by', 'for', 'with', 'about', 'against', 'between', 'into', 'through', 'during', 'before', 'after', 'above', 'below', 'to', 'from', 'up', 'down', 'in', 'out', 'on', 'off', 'over', 'under', 'again', 'further', 'then', 'once', 'here', 'there', 'when', 'where', 'why', 'how', 'all', 'any', 'both', 'each', 'few', 'more', 'most', 'other', 'some', 'such', 'no', 'nor', 'not', 'only', 'own', 'same', 'so', 'than', 'too', 'very', 's', 't', 'can', 'will', 'just', 'don', \"don't\", 'should', \"should've\", 'now', 'd', 'll', 'm', 'o', 're', 've', 'y', 'ain', 'aren', \"aren't\", 'couldn', \"couldn't\", 'didn', \"didn't\", 'doesn', \"doesn't\", 'hadn', \"hadn't\", 'hasn', \"hasn't\", 'haven', \"haven't\", 'isn', \"isn't\", 'ma', 'mightn', \"mightn't\", 'mustn', \"mustn't\", 'needn', \"needn't\", 'shan', \"shan't\", 'shouldn', \"shouldn't\", 'wasn', \"wasn't\", 'weren', \"weren't\", 'won', \"won't\", 'wouldn', \"wouldn't\"]\n"
     ]
    }
   ],
   "source": [
    "print('불용어 개수 :', len(stopwords.words('english') ))\n",
    "print(stopwords.words('english'))"
   ]
  },
  {
   "cell_type": "code",
   "execution_count": 9,
   "id": "b95c65d2",
   "metadata": {},
   "outputs": [],
   "source": [
    "# 데이터 전처리 함수\n",
    "def preprocess_sentence(sentence, remove_stopwords=True):\n",
    "    sentence = sentence.lower() # 텍스트 소문자화\n",
    "    sentence = BeautifulSoup(sentence, \"lxml\").text # <br />, <a href = ...> 등의 html 태그 제거\n",
    "    sentence = re.sub(r'\\([^)]*\\)', '', sentence) # 괄호로 닫힌 문자열 (...) 제거 Ex) my husband (and myself!) for => my husband for\n",
    "    sentence = re.sub('\"','', sentence) # 쌍따옴표 \" 제거\n",
    "    sentence = ' '.join([contractions[t] if t in contractions else t for t in sentence.split(\" \")]) # 약어 정규화\n",
    "    sentence = re.sub(r\"'s\\b\",\"\", sentence) # 소유격 제거. Ex) roland's -> roland\n",
    "    sentence = re.sub(\"[^a-zA-Z]\", \" \", sentence) # 영어 외 문자(숫자, 특수문자 등) 공백으로 변환\n",
    "    sentence = re.sub('[m]{2,}', 'mm', sentence) # m이 3개 이상이면 2개로 변경. Ex) ummmmmmm yeah -> umm yeah\n",
    "    \n",
    "    # 불용어 제거 (Text)\n",
    "    if remove_stopwords:\n",
    "        tokens = ' '.join(word for word in sentence.split() if not word in stopwords.words('english') if len(word) > 1)\n",
    "    # 불용어 미제거 (Summary)\n",
    "    else:\n",
    "        tokens = ' '.join(word for word in sentence.split() if len(word) > 1)\n",
    "    return tokens"
   ]
  },
  {
   "cell_type": "code",
   "execution_count": 10,
   "id": "5e1334c2",
   "metadata": {},
   "outputs": [
    {
     "name": "stdout",
     "output_type": "stream",
     "text": [
      "text:  scientists detected radio signals mother father\n",
      "headlines: designer reveals she was offered fake print of\n"
     ]
    }
   ],
   "source": [
    "#전처리 전, 후의 결과를 확인하기 위해서 임의의 text와 headlines를 만들어 함수를 호출\n",
    "temp_text = 'Scientists have detected radio signals from <br />for my mother and father.'\n",
    "temp_headlines = 'Designer reveals she was offered fake print of'\n",
    "print(\"text: \", preprocess_sentence(temp_text))\n",
    "print(\"headlines:\", preprocess_sentence(temp_headlines, False))  # 불용어를 제거하지 않음."
   ]
  },
  {
   "cell_type": "code",
   "execution_count": 11,
   "id": "e6c6a04b",
   "metadata": {},
   "outputs": [
    {
     "name": "stdout",
     "output_type": "stream",
     "text": [
      "Text 전처리 후 결과:  ['saurav kant alumnus upgrad iiit pg program machine learning artificial intelligence sr systems engineer infosys almost years work experience program upgrad degree career support helped transition data scientist tech mahindra salary hike upgrad online power learning powered lakh careers', 'kunal shah credit card bill payment platform cred gave users chance win free food swiggy one year pranav kaushik delhi techie bagged reward spending cred coins users get one cred coin per rupee bill paid used avail rewards brands like ixigo bookmyshow ubereats cult fit', 'new zealand defeated india wickets fourth odi hamilton thursday win first match five match odi series india lost international match rohit sharma captaincy consecutive victories dating back march match witnessed india getting seventh lowest total odi cricket history', 'aegon life iterm insurance plan customers enjoy tax benefits premiums paid save taxes plan provides life cover age years also customers options insure critical illnesses disability accidental death benefit rider life cover age years', 'speaking sexual harassment allegations rajkumar hirani sonam kapoor said known hirani many years true metoo movement get derailed metoo movement always believe woman case need reserve judgment added hirani accused assistant worked sanju']\n"
     ]
    }
   ],
   "source": [
    "clean_text = []\n",
    "# 전체 Text 데이터에 대한 전처리 : 10분 이상 시간이 걸릴 수 있음. \n",
    "for s in data['text']:\n",
    "    clean_text.append(preprocess_sentence(s))\n",
    "\n",
    "# 전처리 후 출력\n",
    "print(\"Text 전처리 후 결과: \", clean_text[:5])"
   ]
  },
  {
   "cell_type": "code",
   "execution_count": 12,
   "id": "9630666d",
   "metadata": {},
   "outputs": [
    {
     "name": "stdout",
     "output_type": "stream",
     "text": [
      "headlines 전처리 후 결과:  ['upgrad learner switches to career in ml al with salary hike', 'delhi techie wins free food from swiggy for one year on cred', 'new zealand end rohit sharma led india match winning streak', 'aegon life iterm insurance plan helps customers save tax', 'have known hirani for yrs what if metoo claims are not true sonam']\n"
     ]
    }
   ],
   "source": [
    "clean_headlines = []\n",
    "# 전체 헤드라인 데이터에 대한 전처리 : 5분 이상 시간이 걸릴 수 있음. \n",
    "for s in data['headlines']:\n",
    "    clean_headlines.append(preprocess_sentence(s, False))\n",
    "\n",
    "print(\"headlines 전처리 후 결과: \", clean_headlines[:5])"
   ]
  },
  {
   "cell_type": "code",
   "execution_count": 13,
   "id": "4b1ac419",
   "metadata": {},
   "outputs": [
    {
     "data": {
      "text/plain": [
       "headlines    0\n",
       "text         0\n",
       "dtype: int64"
      ]
     },
     "execution_count": 13,
     "metadata": {},
     "output_type": "execute_result"
    }
   ],
   "source": [
    "#텍스트 정제의 과정을 거친 후에는 다시 한번 빈(empty) 샘플이 생겼는지 확인\n",
    "#빈(empty) 값을 가진 샘플들이 있다면, 모두 Null 값을 가진 샘플로 대체\n",
    "data['text'] = clean_text\n",
    "data['headlines'] = clean_headlines\n",
    "\n",
    "# 빈 값을 Null 값으로 변환\n",
    "data.replace('', np.nan, inplace=True)\n",
    "\n",
    "# null 값이 생겻는지 확인\n",
    "data.isnull().sum()\n"
   ]
  },
  {
   "cell_type": "markdown",
   "id": "d78cc8d3",
   "metadata": {},
   "source": [
    "### 훈련데이터와 테스트데이터 나누기\n",
    "\n",
    "학습을 진행하기 위해서는 학습에 사용할 데이터의 크기를 결정하고, 문장의 시작과 끝을 표시해 줘야 함.\n",
    "\n",
    "#### 샘플의 최대 길이 정하기"
   ]
  },
  {
   "cell_type": "code",
   "execution_count": 14,
   "id": "630d8462",
   "metadata": {},
   "outputs": [
    {
     "name": "stdout",
     "output_type": "stream",
     "text": [
      "텍스트의 최소 길이 : 1\n",
      "텍스트의 최대 길이 : 60\n",
      "텍스트의 평균 길이 : 35.09968483123221\n",
      "헤드라인의 최소 길이 : 1\n",
      "헤드라인의 최대 길이 : 16\n",
      "헤드라인의 평균 길이 : 9.299532330215534\n"
     ]
    },
    {
     "data": {
      "image/png": "[encoded data removed]",
      "text/plain": [
       "<Figure size 432x288 with 2 Axes>"
      ]
     },
     "metadata": {
      "needs_background": "light"
     },
     "output_type": "display_data"
    },
    {
     "data": {
      "image/png": "[encoded data removed]",
      "text/plain": [
       "<Figure size 432x288 with 1 Axes>"
      ]
     },
     "metadata": {
      "needs_background": "light"
     },
     "output_type": "display_data"
    },
    {
     "data": {
      "image/png": "[encoded data removed]",
      "text/plain": [
       "<Figure size 432x288 with 1 Axes>"
      ]
     },
     "metadata": {
      "needs_background": "light"
     },
     "output_type": "display_data"
    }
   ],
   "source": [
    "# 길이 분포 출력\n",
    "import matplotlib.pyplot as plt\n",
    "\n",
    "text_len = [len(s.split()) for s in data['text']]\n",
    "headlines_len = [len(s.split()) for s in data['headlines']]\n",
    "\n",
    "print('텍스트의 최소 길이 : {}'.format(np.min(text_len)))\n",
    "print('텍스트의 최대 길이 : {}'.format(np.max(text_len)))\n",
    "print('텍스트의 평균 길이 : {}'.format(np.mean(text_len)))\n",
    "print('헤드라인의 최소 길이 : {}'.format(np.min(headlines_len)))\n",
    "print('헤드라인의 최대 길이 : {}'.format(np.max(headlines_len)))\n",
    "print('헤드라인의 평균 길이 : {}'.format(np.mean(headlines_len)))\n",
    "\n",
    "plt.subplot(1,2,1)\n",
    "plt.boxplot(text_len)\n",
    "plt.title('text')\n",
    "plt.subplot(1,2,2)\n",
    "plt.boxplot(headlines_len)\n",
    "plt.title('headlines')\n",
    "plt.tight_layout()\n",
    "plt.show()\n",
    "\n",
    "plt.title('text')\n",
    "plt.hist(text_len, bins = 40)\n",
    "plt.xlabel('length of samples')\n",
    "plt.ylabel('number of samples')\n",
    "plt.show()\n",
    "\n",
    "plt.title('headlines')\n",
    "plt.hist(headlines_len, bins = 40)\n",
    "plt.xlabel('length of samples')\n",
    "plt.ylabel('number of samples')\n",
    "plt.show()"
   ]
  },
  {
   "cell_type": "markdown",
   "id": "430b5045",
   "metadata": {},
   "source": [
    "그래프는 각각 실제 텍스트와 요약의 길이 분포, 실제 텍스트 샘플 길이별 개수, 요약본 샘플 길이별 개수를 나타내고 있음\n",
    "\n",
    "Text의 경우 최소 길이가 1, 최대 길이가 91로 그 차이가 크진 않음. 하지만 평균 길이는 58로 시각화된 그래프로 봤을 때는 대체적으로는 50 내외의 길이를 가지고 있음.\n",
    "\n",
    "Headlines의 경우 최소 길이가 1, 최대 길이가 16, 그리고 평균 길이가 9로 Text에 비해 상대적으로 길이가 짧음. 그래프로 봤을 때에도 대체적으로 13이하의 길이를 가지고 있음"
   ]
  },
  {
   "cell_type": "code",
   "execution_count": 15,
   "id": "4e39d889",
   "metadata": {},
   "outputs": [],
   "source": [
    "# Text의 최대 길이 임의로 지정\n",
    "text_max_len = 60\n",
    "headlines_max_len = 15\n",
    "\n",
    "def below_threshold_len(max_len, nested_list):\n",
    "  cnt = 0\n",
    "  for s in nested_list:\n",
    "    if(len(s.split()) <= max_len):\n",
    "        cnt = cnt + 1\n",
    "  print('전체 샘플 중 길이가 %s 이하인 샘플의 비율: %s'%(max_len, (cnt / len(nested_list))))\n"
   ]
  },
  {
   "cell_type": "markdown",
   "id": "a309a7f8",
   "metadata": {},
   "source": [
    "각각 60과 15로 정했는데 이 길이를 선택했을 때, 얼마나 많은 샘플들을 자르지 않고 포함할 수 있는지 통계로 확인하는 편이 객관적으로 길이를 결정하는 데 도움이 됨\n",
    "\n",
    "훈련 데이터와 샘플의 길이를 입력하면, 데이터의 몇 %가 해당하는지 계산하는 함수를 만들어서 좀 더 정확하게 판단할 것임"
   ]
  },
  {
   "cell_type": "code",
   "execution_count": 16,
   "id": "77fbd4e5",
   "metadata": {},
   "outputs": [
    {
     "name": "stdout",
     "output_type": "stream",
     "text": [
      "전체 샘플 중 길이가 60 이하인 샘플의 비율: 1.0\n",
      "전체 샘플 중 길이가 15 이하인 샘플의 비율: 0.9999694997966653\n"
     ]
    }
   ],
   "source": [
    "below_threshold_len(text_max_len, data['text'])\n",
    "below_threshold_len(headlines_max_len,  data['headlines'])"
   ]
  },
  {
   "cell_type": "markdown",
   "id": "8fb3cd33",
   "metadata": {},
   "source": [
    "#### 정해진 길이보다 길면 제외하는 방법으로 데이터를 정제"
   ]
  },
  {
   "cell_type": "code",
   "execution_count": 17,
   "id": "b8f78907",
   "metadata": {},
   "outputs": [
    {
     "name": "stdout",
     "output_type": "stream",
     "text": [
      "전체 샘플수 : 98357\n"
     ]
    }
   ],
   "source": [
    "data = data[data['text'].apply(lambda x: len(x.split()) <= text_max_len)]\n",
    "data = data[data['headlines'].apply(lambda x: len(x.split()) <= headlines_max_len)]\n",
    "print('전체 샘플수 :', (len(data)))"
   ]
  },
  {
   "cell_type": "markdown",
   "id": "ac8b835b",
   "metadata": {},
   "source": [
    "### 시작 토큰과 종료 토큰 추가하기\n",
    "\n",
    "시작 토큰은 sostoken, 종료 토큰은 eostoken이라 임의로 명명하고 앞, 뒤로 추가할 것임.\n",
    "\n",
    "디코더의 입력에 해당하면서 시작 토큰이 맨 앞에 있는 문장의 이름을 decoder_input, 디코더의 출력 또는 레이블에 해당되면서 종료 토큰이 맨 뒤에 붙는 문장의 이름을 decoder_target이라고 이름을 정하고 두 개의 문장 모두 Summary 열로부터 만들 거임"
   ]
  },
  {
   "cell_type": "code",
   "execution_count": 18,
   "id": "4a75bb81",
   "metadata": {},
   "outputs": [
    {
     "data": {
      "text/html": [
       "<div>\n",
       "<style scoped>\n",
       "    .dataframe tbody tr th:only-of-type {\n",
       "        vertical-align: middle;\n",
       "    }\n",
       "\n",
       "    .dataframe tbody tr th {\n",
       "        vertical-align: top;\n",
       "    }\n",
       "\n",
       "    .dataframe thead th {\n",
       "        text-align: right;\n",
       "    }\n",
       "</style>\n",
       "<table border=\"1\" class=\"dataframe\">\n",
       "  <thead>\n",
       "    <tr style=\"text-align: right;\">\n",
       "      <th></th>\n",
       "      <th>headlines</th>\n",
       "      <th>text</th>\n",
       "      <th>decoder_input</th>\n",
       "      <th>decoder_target</th>\n",
       "    </tr>\n",
       "  </thead>\n",
       "  <tbody>\n",
       "    <tr>\n",
       "      <th>0</th>\n",
       "      <td>upgrad learner switches to career in ml al wit...</td>\n",
       "      <td>saurav kant alumnus upgrad iiit pg program mac...</td>\n",
       "      <td>sostoken upgrad learner switches to career in ...</td>\n",
       "      <td>upgrad learner switches to career in ml al wit...</td>\n",
       "    </tr>\n",
       "    <tr>\n",
       "      <th>1</th>\n",
       "      <td>delhi techie wins free food from swiggy for on...</td>\n",
       "      <td>kunal shah credit card bill payment platform c...</td>\n",
       "      <td>sostoken delhi techie wins free food from swig...</td>\n",
       "      <td>delhi techie wins free food from swiggy for on...</td>\n",
       "    </tr>\n",
       "    <tr>\n",
       "      <th>2</th>\n",
       "      <td>new zealand end rohit sharma led india match w...</td>\n",
       "      <td>new zealand defeated india wickets fourth odi ...</td>\n",
       "      <td>sostoken new zealand end rohit sharma led indi...</td>\n",
       "      <td>new zealand end rohit sharma led india match w...</td>\n",
       "    </tr>\n",
       "    <tr>\n",
       "      <th>3</th>\n",
       "      <td>aegon life iterm insurance plan helps customer...</td>\n",
       "      <td>aegon life iterm insurance plan customers enjo...</td>\n",
       "      <td>sostoken aegon life iterm insurance plan helps...</td>\n",
       "      <td>aegon life iterm insurance plan helps customer...</td>\n",
       "    </tr>\n",
       "    <tr>\n",
       "      <th>4</th>\n",
       "      <td>have known hirani for yrs what if metoo claims...</td>\n",
       "      <td>speaking sexual harassment allegations rajkuma...</td>\n",
       "      <td>sostoken have known hirani for yrs what if met...</td>\n",
       "      <td>have known hirani for yrs what if metoo claims...</td>\n",
       "    </tr>\n",
       "  </tbody>\n",
       "</table>\n",
       "</div>"
      ],
      "text/plain": [
       "                                           headlines  \\\n",
       "0  upgrad learner switches to career in ml al wit...   \n",
       "1  delhi techie wins free food from swiggy for on...   \n",
       "2  new zealand end rohit sharma led india match w...   \n",
       "3  aegon life iterm insurance plan helps customer...   \n",
       "4  have known hirani for yrs what if metoo claims...   \n",
       "\n",
       "                                                text  \\\n",
       "0  saurav kant alumnus upgrad iiit pg program mac...   \n",
       "1  kunal shah credit card bill payment platform c...   \n",
       "2  new zealand defeated india wickets fourth odi ...   \n",
       "3  aegon life iterm insurance plan customers enjo...   \n",
       "4  speaking sexual harassment allegations rajkuma...   \n",
       "\n",
       "                                       decoder_input  \\\n",
       "0  sostoken upgrad learner switches to career in ...   \n",
       "1  sostoken delhi techie wins free food from swig...   \n",
       "2  sostoken new zealand end rohit sharma led indi...   \n",
       "3  sostoken aegon life iterm insurance plan helps...   \n",
       "4  sostoken have known hirani for yrs what if met...   \n",
       "\n",
       "                                      decoder_target  \n",
       "0  upgrad learner switches to career in ml al wit...  \n",
       "1  delhi techie wins free food from swiggy for on...  \n",
       "2  new zealand end rohit sharma led india match w...  \n",
       "3  aegon life iterm insurance plan helps customer...  \n",
       "4  have known hirani for yrs what if metoo claims...  "
      ]
     },
     "execution_count": 18,
     "metadata": {},
     "output_type": "execute_result"
    }
   ],
   "source": [
    "# 헤드라인 데이터에는 시작 토큰과 종료 토큰을 추가.\n",
    "data['decoder_input'] = data['headlines'].apply(lambda x : 'sostoken '+ x)\n",
    "data['decoder_target'] = data['headlines'].apply(lambda x : x + ' eostoken')\n",
    "data.head()"
   ]
  },
  {
   "cell_type": "code",
   "execution_count": 19,
   "id": "333f18fa",
   "metadata": {},
   "outputs": [],
   "source": [
    "# 인코더의 입력, 디코더의 입력과 레이블을 각각 다시 Numpy 타입으로 저장\n",
    "encoder_input = np.array(data['text']) # 인코더의 입력\n",
    "decoder_input = np.array(data['decoder_input']) # 디코더의 입력\n",
    "decoder_target = np.array(data['decoder_target']) # 디코더의 레이블"
   ]
  },
  {
   "cell_type": "code",
   "execution_count": 20,
   "id": "a5d49703",
   "metadata": {},
   "outputs": [
    {
     "name": "stdout",
     "output_type": "stream",
     "text": [
      "[79682 11644 13584 ... 43168 33958 16414]\n"
     ]
    }
   ],
   "source": [
    "indices = np.arange(encoder_input.shape[0])\n",
    "np.random.shuffle(indices)\n",
    "print(indices)"
   ]
  },
  {
   "cell_type": "code",
   "execution_count": 21,
   "id": "2054b7c0",
   "metadata": {},
   "outputs": [
    {
     "name": "stdout",
     "output_type": "stream",
     "text": [
      "[82858 90556 76168 ... 62576 74713 60929]\n"
     ]
    }
   ],
   "source": [
    "#우선, encoder_input과 크기와 형태가 같은 순서가 섞인 정수 시퀀스를 만들어줌\n",
    "indices = np.arange(encoder_input.shape[0])\n",
    "np.random.shuffle(indices)\n",
    "print(indices)"
   ]
  },
  {
   "cell_type": "code",
   "execution_count": 22,
   "id": "c8709a0d",
   "metadata": {},
   "outputs": [],
   "source": [
    "# 위 정수 시퀀스를 이용하여 다시 데이터의 샘플 순서를 정의\n",
    "#하면 잘 섞인 샘플이 됨\n",
    "encoder_input = encoder_input[indices]\n",
    "decoder_input = decoder_input[indices]\n",
    "decoder_target = decoder_target[indices]"
   ]
  },
  {
   "cell_type": "code",
   "execution_count": 23,
   "id": "09f98cb8",
   "metadata": {},
   "outputs": [
    {
     "name": "stdout",
     "output_type": "stream",
     "text": [
      "테스트 데이터의 수 : 19671\n"
     ]
    }
   ],
   "source": [
    "#데이터를 분리하기 위해서 테스트 데이터의 크기를 정의\n",
    "n_of_val = int(len(encoder_input)*0.2)\n",
    "print('테스트 데이터의 수 :', n_of_val)"
   ]
  },
  {
   "cell_type": "markdown",
   "id": "6377b311",
   "metadata": {},
   "source": [
    "이렇게 정의한 테스트 데이터의 개수를 이용해 전체 데이터를 양분함. \n",
    "\n",
    ":표시의 위치에 주의"
   ]
  },
  {
   "cell_type": "code",
   "execution_count": 24,
   "id": "6a2e0f98",
   "metadata": {},
   "outputs": [
    {
     "name": "stdout",
     "output_type": "stream",
     "text": [
      "훈련 데이터의 개수 : 78686\n",
      "훈련 레이블의 개수 : 78686\n",
      "테스트 데이터의 개수 : 19671\n",
      "테스트 레이블의 개수 : 19671\n"
     ]
    }
   ],
   "source": [
    "encoder_input_train = encoder_input[:-n_of_val]\n",
    "decoder_input_train = decoder_input[:-n_of_val]\n",
    "decoder_target_train = decoder_target[:-n_of_val]\n",
    "\n",
    "encoder_input_test = encoder_input[-n_of_val:]\n",
    "decoder_input_test = decoder_input[-n_of_val:]\n",
    "decoder_target_test = decoder_target[-n_of_val:]\n",
    "\n",
    "print('훈련 데이터의 개수 :', len(encoder_input_train))\n",
    "print('훈련 레이블의 개수 :', len(decoder_input_train))\n",
    "print('테스트 데이터의 개수 :', len(encoder_input_test))\n",
    "print('테스트 레이블의 개수 :', len(decoder_input_test))"
   ]
  },
  {
   "cell_type": "markdown",
   "id": "cbff2e9f",
   "metadata": {},
   "source": [
    "### 단어 집합(vocabulary) 만들기 및 정수 인코딩\n",
    "\n",
    "기계가 텍스트를 숫자로 처리할 수 있도록 훈련 데이터와 테스트 데이터의 단어들을 모두 정수로 바꾸어 주어야하고 이를 위해서 각 단어에 고유한 정수를 맵핑하는 작업이 피요함. 이 과정을 단어 집합(vocabulary)을 만든다고 표현함.\n",
    "\n",
    "keras의 tokenizer를 사용하여 입력된 훈련데이터로부터 단어집합을 형성할 수 있음.(src_tokenizer.word_index에 저장)"
   ]
  },
  {
   "cell_type": "code",
   "execution_count": 25,
   "id": "3e66d559",
   "metadata": {},
   "outputs": [],
   "source": [
    "src_tokenizer = Tokenizer() # 토크나이저 정의\n",
    "src_tokenizer.fit_on_texts(encoder_input_train) # 입력된 데이터로부터 단어 집합 생성"
   ]
  },
  {
   "cell_type": "markdown",
   "id": "4e756388",
   "metadata": {},
   "source": [
    "src_tokenizer.word_counts.items()에는 단어와 각 단어의 등장 빈도수가 저장돼 있는데, 이를 통해서 통계적인 정보를 얻을 수 있음\n",
    "\n",
    "#### 빈도수가 낮은 단어들은 훈련 데이터에서 제외하고 진행"
   ]
  },
  {
   "cell_type": "code",
   "execution_count": 26,
   "id": "27c1ee97",
   "metadata": {},
   "outputs": [
    {
     "name": "stdout",
     "output_type": "stream",
     "text": [
      "단어 집합(vocabulary)의 크기 : 69710\n",
      "등장 빈도가 6번 이하인 희귀 단어의 수: 47505\n",
      "단어 집합에서 희귀 단어를 제외시킬 경우의 단어 집합의 크기 22205\n",
      "단어 집합에서 희귀 단어의 비율: 68.1466073734041\n",
      "전체 등장 빈도에서 희귀 단어 등장 빈도 비율: 3.4862691643586388\n"
     ]
    }
   ],
   "source": [
    "threshold = 7\n",
    "total_cnt = len(src_tokenizer.word_index) # 단어의 수\n",
    "rare_cnt = 0 # 등장 빈도수가 threshold보다 작은 단어의 개수를 카운트\n",
    "total_freq = 0 # 훈련 데이터의 전체 단어 빈도수 총 합\n",
    "rare_freq = 0 # 등장 빈도수가 threshold보다 작은 단어의 등장 빈도수의 총 합\n",
    "\n",
    "# 단어와 빈도수의 쌍(pair)을 key와 value로 받는다.\n",
    "for key, value in src_tokenizer.word_counts.items():\n",
    "    total_freq = total_freq + value\n",
    "\n",
    "    # 단어의 등장 빈도수가 threshold보다 작으면\n",
    "    if(value < threshold):\n",
    "        rare_cnt = rare_cnt + 1\n",
    "        rare_freq = rare_freq + value\n",
    "\n",
    "print('단어 집합(vocabulary)의 크기 :', total_cnt)\n",
    "print('등장 빈도가 %s번 이하인 희귀 단어의 수: %s'%(threshold - 1, rare_cnt))\n",
    "print('단어 집합에서 희귀 단어를 제외시킬 경우의 단어 집합의 크기 %s'%(total_cnt - rare_cnt))\n",
    "print(\"단어 집합에서 희귀 단어의 비율:\", (rare_cnt / total_cnt)*100)\n",
    "print(\"전체 등장 빈도에서 희귀 단어 등장 빈도 비율:\", (rare_freq / total_freq)*100)"
   ]
  },
  {
   "cell_type": "markdown",
   "id": "3a63f444",
   "metadata": {},
   "source": [
    "등장 빈도가 threshold 값인 7회 미만, 즉 6회 이하인 단어들은 단어 집합에서 무려 68% 이상을 차지함 하지만 실제로 훈련 데이터에서 등장 빈도로 차지하는 비중은 상대적으로 적은 수치인 3.49%밖에 되지 않음\n",
    "\n",
    "그래서 등장 빈도가 6회 이하인 단어들은 정수 인코딩 과정에서 빼고, 훈련 데이터에서 제거하고자 함.\n",
    "\n",
    "위에서 이를 제외한 단어 집합의 크기를 8천여 개로 계산했는데, 이와 비슷한 값으로 어림잡아 단어 집합의 크기를 8,000으로 제한해봄\n",
    "\n",
    "토크나이저를 정의할 때 num_words의 값을 정해주면, 단어 집합의 크기를 제한할 수 있음"
   ]
  },
  {
   "cell_type": "code",
   "execution_count": 27,
   "id": "9a82bde8",
   "metadata": {},
   "outputs": [],
   "source": [
    "src_vocab = 8000 # 8,000이 넘는 숫자들은 정수 인코딩 후에는 데이터에 존재하지 않음\n",
    "src_tokenizer = Tokenizer(num_words=src_vocab) # 단어 집합의 크기를 8,000으로 제한\n",
    "src_tokenizer.fit_on_texts(encoder_input_train) # 단어 집합 재생성"
   ]
  },
  {
   "cell_type": "code",
   "execution_count": 28,
   "id": "295069fd",
   "metadata": {},
   "outputs": [
    {
     "name": "stdout",
     "output_type": "stream",
     "text": [
      "[[2, 759, 419, 3648, 722, 200, 91, 215, 211, 599, 1162, 51, 19, 182, 2832, 7060, 299, 597, 11, 303, 4802, 2572, 4253, 1237, 1505, 2743, 51, 19, 182, 503, 4253, 1237, 600, 285, 1072, 116, 1376, 322, 3585], [2, 2498, 104, 281, 547, 1265, 247, 46, 6481, 729, 610, 2972, 2499, 1, 58, 34, 42, 641, 4132, 1, 1265, 19, 713, 731, 265, 494, 3880], [268, 1418, 128, 483, 867, 1211, 2405, 7263, 532, 3628, 39, 437, 223, 1, 6098, 887, 1923, 1120, 423, 3145, 7171, 128, 4288, 223, 4, 60, 370, 2275, 2500, 156, 240, 400, 2681, 964, 1001]]\n"
     ]
    }
   ],
   "source": [
    "# 텍스트 시퀀스를 정수 시퀀스로 변환\n",
    "encoder_input_train = src_tokenizer.texts_to_sequences(encoder_input_train) \n",
    "encoder_input_test = src_tokenizer.texts_to_sequences(encoder_input_test)\n",
    "\n",
    "# 잘 진행되었는지 샘플 출력\n",
    "print(encoder_input_train[:3])"
   ]
  },
  {
   "cell_type": "code",
   "execution_count": 29,
   "id": "afbd42aa",
   "metadata": {},
   "outputs": [],
   "source": [
    "# summary데이터에 대해서도 동일한 작업 적용\n",
    "tar_tokenizer = Tokenizer()\n",
    "tar_tokenizer.fit_on_texts(decoder_input_train)"
   ]
  },
  {
   "cell_type": "code",
   "execution_count": 30,
   "id": "6ee4b102",
   "metadata": {},
   "outputs": [
    {
     "name": "stdout",
     "output_type": "stream",
     "text": [
      "단어 집합(vocabulary)의 크기 : 30090\n",
      "등장 빈도가 5번 이하인 희귀 단어의 수: 19663\n",
      "단어 집합에서 희귀 단어를 제외시킬 경우의 단어 집합의 크기 10427\n",
      "단어 집합에서 희귀 단어의 비율: 65.34729145895646\n",
      "전체 등장 빈도에서 희귀 단어 등장 빈도 비율: 4.6375344815882205\n"
     ]
    }
   ],
   "source": [
    "threshold = 6\n",
    "total_cnt = len(tar_tokenizer.word_index) # 단어의 수\n",
    "rare_cnt = 0 # 등장 빈도수가 threshold보다 작은 단어의 개수를 카운트\n",
    "total_freq = 0 # 훈련 데이터의 전체 단어 빈도수 총 합\n",
    "rare_freq = 0 # 등장 빈도수가 threshold보다 작은 단어의 등장 빈도수의 총 합\n",
    "\n",
    "# 단어와 빈도수의 쌍(pair)을 key와 value로 받는다.\n",
    "for key, value in tar_tokenizer.word_counts.items():\n",
    "    total_freq = total_freq + value\n",
    "\n",
    "    # 단어의 등장 빈도수가 threshold보다 작으면\n",
    "    if(value < threshold):\n",
    "        rare_cnt = rare_cnt + 1\n",
    "        rare_freq = rare_freq + value\n",
    "\n",
    "print('단어 집합(vocabulary)의 크기 :', total_cnt)\n",
    "print('등장 빈도가 %s번 이하인 희귀 단어의 수: %s'%(threshold - 1, rare_cnt))\n",
    "print('단어 집합에서 희귀 단어를 제외시킬 경우의 단어 집합의 크기 %s'%(total_cnt - rare_cnt))\n",
    "print(\"단어 집합에서 희귀 단어의 비율:\", (rare_cnt / total_cnt)*100)\n",
    "print(\"전체 등장 빈도에서 희귀 단어 등장 빈도 비율:\", (rare_freq / total_freq)*100)"
   ]
  },
  {
   "cell_type": "code",
   "execution_count": 31,
   "id": "d1aee156",
   "metadata": {},
   "outputs": [
    {
     "name": "stdout",
     "output_type": "stream",
     "text": [
      "input\n",
      "input  [[1, 222, 87, 28, 3, 161, 862, 4, 17, 9, 436], [1, 9, 3, 120, 999, 1355, 3, 56], [1, 60, 249, 338, 115], [1, 117, 6, 796, 103, 84, 5, 1851, 486], [1, 1014, 1081, 1724, 64, 41, 27]]\n",
      "target\n",
      "decoder  [[222, 87, 28, 3, 161, 862, 4, 17, 9, 436, 2], [9, 3, 120, 999, 1355, 3, 56, 2], [60, 249, 338, 115, 2], [117, 6, 796, 103, 84, 5, 1851, 486, 2], [1014, 1081, 1724, 64, 41, 27, 2]]\n"
     ]
    }
   ],
   "source": [
    "tar_vocab = 2000\n",
    "tar_tokenizer = Tokenizer(num_words=tar_vocab) \n",
    "tar_tokenizer.fit_on_texts(decoder_input_train)\n",
    "tar_tokenizer.fit_on_texts(decoder_target_train)\n",
    "\n",
    "# 텍스트 시퀀스를 정수 시퀀스로 변환\n",
    "decoder_input_train = tar_tokenizer.texts_to_sequences(decoder_input_train) \n",
    "decoder_target_train = tar_tokenizer.texts_to_sequences(decoder_target_train)\n",
    "decoder_input_test = tar_tokenizer.texts_to_sequences(decoder_input_test)\n",
    "decoder_target_test = tar_tokenizer.texts_to_sequences(decoder_target_test)\n",
    "\n",
    "# 잘 변환되었는지 확인\n",
    "print('input')\n",
    "print('input ',decoder_input_train[:5])\n",
    "print('target')\n",
    "print('decoder ',decoder_target_train[:5])"
   ]
  },
  {
   "cell_type": "code",
   "execution_count": 32,
   "id": "0d3c1929",
   "metadata": {},
   "outputs": [
    {
     "name": "stdout",
     "output_type": "stream",
     "text": [
      "삭제할 훈련 데이터의 개수 : 12\n",
      "삭제할 테스트 데이터의 개수 : 2\n",
      "훈련 데이터의 개수 : 78674\n",
      "훈련 레이블의 개수 : 78674\n",
      "테스트 데이터의 개수 : 19669\n",
      "테스트 레이블의 개수 : 19669\n"
     ]
    }
   ],
   "source": [
    "drop_train = [index for index, sentence in enumerate(decoder_input_train) if len(sentence) == 1]\n",
    "drop_test = [index for index, sentence in enumerate(decoder_input_test) if len(sentence) == 1]\n",
    "\n",
    "print('삭제할 훈련 데이터의 개수 :', len(drop_train))\n",
    "print('삭제할 테스트 데이터의 개수 :', len(drop_test))\n",
    "\n",
    "encoder_input_train = [sentence for index, sentence in enumerate(encoder_input_train) if index not in drop_train]\n",
    "decoder_input_train = [sentence for index, sentence in enumerate(decoder_input_train) if index not in drop_train]\n",
    "decoder_target_train = [sentence for index, sentence in enumerate(decoder_target_train) if index not in drop_train]\n",
    "\n",
    "encoder_input_test = [sentence for index, sentence in enumerate(encoder_input_test) if index not in drop_test]\n",
    "decoder_input_test = [sentence for index, sentence in enumerate(decoder_input_test) if index not in drop_test]\n",
    "decoder_target_test = [sentence for index, sentence in enumerate(decoder_target_test) if index not in drop_test]\n",
    "\n",
    "print('훈련 데이터의 개수 :', len(encoder_input_train))\n",
    "print('훈련 레이블의 개수 :', len(decoder_input_train))\n",
    "print('테스트 데이터의 개수 :', len(encoder_input_test))\n",
    "print('테스트 레이블의 개수 :', len(decoder_input_test))"
   ]
  },
  {
   "cell_type": "markdown",
   "id": "0b67357f",
   "metadata": {},
   "source": [
    "전체 데이터에서 빈도수가 낮은 단어가 삭제되었다는 것은 빈도수가 낮은 단어만으로 구성되었던 샘플들은 이제 빈(empty) 샘플이 되었을 가능성이 있음\n",
    "\n",
    "길이가 상대적으로 길었던 원문(Text)의 경우에는 문제가 별로 없겠지만, 애초에 평균 길이가 4밖에 되지 않았던 요약문(Summary)의 경우에는 이 현상이 굉장히 두드러졌을 가능성이 높음\n",
    "\n",
    "요약문에서 길이가 0이 된 샘플들의 인덱스를 받아옴.\n",
    "\n",
    "여기서 주의할 점은 요약문인 decoder_input에는 sostoken 또는 decoder_target에는 eostoken이 추가된 상태이고, 이 두 토큰은 모든 샘플에서 등장하므로 빈도수가 샘플 수와 동일하게 매우 높으므로 단어 집합 제한에도 삭제되지 않음 그래서 이제 길이가 0이 된 요약문의 실제 길이는 1로 나옴. (길이 0이 된 decoder_input에는 sostoken, decoder_target에는 eostoken만 남아 있기 때문)\n",
    "\n",
    "훈련 데이터와 테스트 데이터에 대해서 요약문의 길이가 1인 경우의 인덱스를 각각 drop_train과 drop_test에 라는 변수에 저장하고 이 샘플들은 모두 삭제"
   ]
  },
  {
   "cell_type": "markdown",
   "id": "941e2fea",
   "metadata": {},
   "source": [
    "### 패딩하기"
   ]
  },
  {
   "cell_type": "code",
   "execution_count": 35,
   "id": "6ab48494",
   "metadata": {},
   "outputs": [],
   "source": [
    "encoder_input_train = pad_sequences(encoder_input_train, maxlen=text_max_len, padding='post')\n",
    "encoder_input_test = pad_sequences(encoder_input_test, maxlen=text_max_len, padding='post')\n",
    "decoder_input_train = pad_sequences(decoder_input_train, maxlen=headlines_max_len, padding='post')\n",
    "decoder_target_train = pad_sequences(decoder_target_train, maxlen=headlines_max_len, padding='post')\n",
    "decoder_input_test = pad_sequences(decoder_input_test, maxlen=headlines_max_len, padding='post')\n",
    "decoder_target_test = pad_sequences(decoder_target_test, maxlen=headlines_max_len, padding='post')\n"
   ]
  },
  {
   "cell_type": "markdown",
   "id": "d45dfdee",
   "metadata": {},
   "source": [
    "## 모델 설계하기\n",
    "\n",
    "(1) 인코더"
   ]
  },
  {
   "cell_type": "code",
   "execution_count": 36,
   "id": "6d5c54b8",
   "metadata": {
    "scrolled": true
   },
   "outputs": [
    {
     "name": "stdout",
     "output_type": "stream",
     "text": [
      "WARNING:tensorflow:Layer lstm will not use cuDNN kernels since it doesn't meet the criteria. It will use a generic GPU kernel as fallback when running on GPU.\n",
      "WARNING:tensorflow:Layer lstm_1 will not use cuDNN kernels since it doesn't meet the criteria. It will use a generic GPU kernel as fallback when running on GPU.\n",
      "WARNING:tensorflow:Layer lstm_2 will not use cuDNN kernels since it doesn't meet the criteria. It will use a generic GPU kernel as fallback when running on GPU.\n"
     ]
    }
   ],
   "source": [
    "from tensorflow.keras.layers import Input, LSTM, Embedding, Dense, Concatenate, TimeDistributed\n",
    "from tensorflow.keras.models import Model\n",
    "from tensorflow.keras.callbacks import EarlyStopping, ModelCheckpoint\n",
    "\n",
    "\n",
    "# 인코더 설계 시작\n",
    "embedding_dim = 128\n",
    "hidden_size = 256 #  LSTM에서 얼만큼의 수용력(capacity)를 가질지를 정하는 파라미터\n",
    "\n",
    "# 인코더\n",
    "encoder_inputs = Input(shape=(text_max_len,))\n",
    "\n",
    "# 인코더의 임베딩 층\n",
    "enc_emb = Embedding(src_vocab, embedding_dim)(encoder_inputs)\n",
    "\n",
    "# 인코더의 LSTM 1\n",
    "encoder_lstm1 = LSTM(hidden_size, return_sequences=True, return_state=True ,dropout = 0.4, recurrent_dropout = 0.4)\n",
    "encoder_output1, state_h1, state_c1 = encoder_lstm1(enc_emb)\n",
    "\n",
    "# 인코더의 LSTM 2\n",
    "encoder_lstm2 = LSTM(hidden_size, return_sequences=True, return_state=True, dropout=0.4, recurrent_dropout=0.4)\n",
    "encoder_output2, state_h2, state_c2 = encoder_lstm2(encoder_output1)\n",
    "\n",
    "# 인코더의 LSTM 3\n",
    "encoder_lstm3 = LSTM(hidden_size, return_state=True, return_sequences=True, dropout=0.4, recurrent_dropout=0.4)\n",
    "encoder_outputs, state_h, state_c= encoder_lstm3(encoder_output2)"
   ]
  },
  {
   "cell_type": "markdown",
   "id": "e54d6e0e",
   "metadata": {},
   "source": [
    "인코더의 LSTM은 총 3개의 층으로 구성해서 모델의 복잡도를 높였어요. hidden state의 크기를 늘리는 것이 LSTM 층 1개의 용량을 늘린다면, 3개의 층을 사용하는 것은 모델의 용량을 늘린다고 볼 수 있음.\n",
    "\n",
    "\n",
    "(2) 디코더 설계"
   ]
  },
  {
   "cell_type": "code",
   "execution_count": 37,
   "id": "babc23bf",
   "metadata": {},
   "outputs": [
    {
     "name": "stdout",
     "output_type": "stream",
     "text": [
      "WARNING:tensorflow:Layer lstm_3 will not use cuDNN kernels since it doesn't meet the criteria. It will use a generic GPU kernel as fallback when running on GPU.\n"
     ]
    }
   ],
   "source": [
    "# 디코더 설계\n",
    "decoder_inputs = Input(shape=(None,))\n",
    "\n",
    "# 디코더의 임베딩 층\n",
    "dec_emb_layer = Embedding(tar_vocab, embedding_dim)\n",
    "dec_emb = dec_emb_layer(decoder_inputs)\n",
    "\n",
    "# 디코더의 LSTM\n",
    "decoder_lstm = LSTM(hidden_size, return_sequences=True, return_state=True, dropout=0.4, recurrent_dropout=0.2)\n",
    "decoder_outputs, _, _ = decoder_lstm(dec_emb, initial_state=[state_h, state_c])"
   ]
  },
  {
   "cell_type": "markdown",
   "id": "c8bb837a",
   "metadata": {},
   "source": [
    "디코더의 임베딩 층과 LSTM을 설계하는 것은 인코더와 거의 동일함. 하지만 LSTM의 입력을 정의할 때, initial_state의 인자값으로 인코더의 hidden state와 cell state의 값을 넣어줘야함."
   ]
  },
  {
   "cell_type": "code",
   "execution_count": 38,
   "id": "f8491717",
   "metadata": {},
   "outputs": [
    {
     "name": "stdout",
     "output_type": "stream",
     "text": [
      "Model: \"model\"\n",
      "__________________________________________________________________________________________________\n",
      "Layer (type)                    Output Shape         Param #     Connected to                     \n",
      "==================================================================================================\n",
      "input_1 (InputLayer)            [(None, 60)]         0                                            \n",
      "__________________________________________________________________________________________________\n",
      "embedding (Embedding)           (None, 60, 128)      1024000     input_1[0][0]                    \n",
      "__________________________________________________________________________________________________\n",
      "lstm (LSTM)                     [(None, 60, 256), (N 394240      embedding[0][0]                  \n",
      "__________________________________________________________________________________________________\n",
      "input_2 (InputLayer)            [(None, None)]       0                                            \n",
      "__________________________________________________________________________________________________\n",
      "lstm_1 (LSTM)                   [(None, 60, 256), (N 525312      lstm[0][0]                       \n",
      "__________________________________________________________________________________________________\n",
      "embedding_1 (Embedding)         (None, None, 128)    256000      input_2[0][0]                    \n",
      "__________________________________________________________________________________________________\n",
      "lstm_2 (LSTM)                   [(None, 60, 256), (N 525312      lstm_1[0][0]                     \n",
      "__________________________________________________________________________________________________\n",
      "lstm_3 (LSTM)                   [(None, None, 256),  394240      embedding_1[0][0]                \n",
      "                                                                 lstm_2[0][1]                     \n",
      "                                                                 lstm_2[0][2]                     \n",
      "__________________________________________________________________________________________________\n",
      "dense (Dense)                   (None, None, 2000)   514000      lstm_3[0][0]                     \n",
      "==================================================================================================\n",
      "Total params: 3,633,104\n",
      "Trainable params: 3,633,104\n",
      "Non-trainable params: 0\n",
      "__________________________________________________________________________________________________\n"
     ]
    }
   ],
   "source": [
    "# 디코더의 출력층\n",
    "decoder_softmax_layer = Dense(tar_vocab, activation='softmax')\n",
    "decoder_softmax_outputs = decoder_softmax_layer(decoder_outputs) \n",
    "\n",
    "# 모델 정의\n",
    "model = Model([encoder_inputs, decoder_inputs], decoder_softmax_outputs)\n",
    "model.summary()"
   ]
  },
  {
   "cell_type": "markdown",
   "id": "5f94991c",
   "metadata": {},
   "source": [
    "디코더의 출력층에서는 Summary의 단어장인 tar_vocab의 수많은 선택지 중 하나의 단어를 선택하는 다중 클래스 분류 문제를 풀어야 함.\n",
    "\n",
    "그렇기 때문에 Dense의 인자로 tar_vocab을 주고, 활성화 함수로 소프트맥스 함수를 사용하고 함\n",
    "\n",
    "# Step 3. 어텐션 메커니즘 사용하기 (추상적 요약)\n",
    "\n",
    "텐서플로우에 이미 구현된 어텐션함수를 가져와 디코더의 출력층에 결합할려고 함"
   ]
  },
  {
   "cell_type": "code",
   "execution_count": 41,
   "id": "a2f68f1b",
   "metadata": {},
   "outputs": [
    {
     "name": "stdout",
     "output_type": "stream",
     "text": [
      "Model: \"model_1\"\n",
      "__________________________________________________________________________________________________\n",
      "Layer (type)                    Output Shape         Param #     Connected to                     \n",
      "==================================================================================================\n",
      "input_1 (InputLayer)            [(None, 60)]         0                                            \n",
      "__________________________________________________________________________________________________\n",
      "embedding (Embedding)           (None, 60, 128)      1024000     input_1[0][0]                    \n",
      "__________________________________________________________________________________________________\n",
      "lstm (LSTM)                     [(None, 60, 256), (N 394240      embedding[0][0]                  \n",
      "__________________________________________________________________________________________________\n",
      "input_2 (InputLayer)            [(None, None)]       0                                            \n",
      "__________________________________________________________________________________________________\n",
      "lstm_1 (LSTM)                   [(None, 60, 256), (N 525312      lstm[0][0]                       \n",
      "__________________________________________________________________________________________________\n",
      "embedding_1 (Embedding)         (None, None, 128)    256000      input_2[0][0]                    \n",
      "__________________________________________________________________________________________________\n",
      "lstm_2 (LSTM)                   [(None, 60, 256), (N 525312      lstm_1[0][0]                     \n",
      "__________________________________________________________________________________________________\n",
      "lstm_3 (LSTM)                   [(None, None, 256),  394240      embedding_1[0][0]                \n",
      "                                                                 lstm_2[0][1]                     \n",
      "                                                                 lstm_2[0][2]                     \n",
      "__________________________________________________________________________________________________\n",
      "attention_layer (AdditiveAttent (None, None, 256)    256         lstm_3[0][0]                     \n",
      "                                                                 lstm_2[0][0]                     \n",
      "__________________________________________________________________________________________________\n",
      "concat_layer (Concatenate)      (None, None, 512)    0           lstm_3[0][0]                     \n",
      "                                                                 attention_layer[0][0]            \n",
      "__________________________________________________________________________________________________\n",
      "dense_1 (Dense)                 (None, None, 2000)   1026000     concat_layer[0][0]               \n",
      "==================================================================================================\n",
      "Total params: 4,145,360\n",
      "Trainable params: 4,145,360\n",
      "Non-trainable params: 0\n",
      "__________________________________________________________________________________________________\n"
     ]
    }
   ],
   "source": [
    "from tensorflow.keras.layers import AdditiveAttention\n",
    "\n",
    "# 어텐션 층(어텐션 함수)\n",
    "attn_layer = AdditiveAttention(name='attention_layer')\n",
    "\n",
    "# 인코더와 디코더의 모든 time step의 hidden state를 어텐션 층에 전달하고 결과를 리턴\n",
    "attn_out = attn_layer([decoder_outputs, encoder_outputs])\n",
    "\n",
    "\n",
    "# 어텐션의 결과와 디코더의 hidden state들을 연결\n",
    "decoder_concat_input = Concatenate(axis=-1, name='concat_layer')([decoder_outputs, attn_out])\n",
    "\n",
    "# 디코더의 출력층\n",
    "decoder_softmax_layer = Dense(tar_vocab, activation='softmax')\n",
    "decoder_softmax_outputs = decoder_softmax_layer(decoder_concat_input)\n",
    "\n",
    "# 모델 정의\n",
    "model = Model([encoder_inputs, decoder_inputs], decoder_softmax_outputs)\n",
    "model.summary()"
   ]
  },
  {
   "cell_type": "markdown",
   "id": "a834bd2e",
   "metadata": {},
   "source": [
    "위의 코드는 인코더의 hidden state들과 디코더의 hidden state들을 어텐션 함수의 입력으로 사용하고, 어텐션 함수가 리턴한 값을 예측 시에 디코더의 hidden state와 함께 활용하는 형태로 작동하고 있음"
   ]
  },
  {
   "cell_type": "markdown",
   "id": "eea2c992",
   "metadata": {},
   "source": [
    "## 모델 훈련하기"
   ]
  },
  {
   "cell_type": "code",
   "execution_count": 42,
   "id": "04380318",
   "metadata": {},
   "outputs": [
    {
     "name": "stdout",
     "output_type": "stream",
     "text": [
      "Epoch 1/50\n",
      "308/308 [==============================] - 249s 783ms/step - loss: 3.1348 - val_loss: 2.8618\n",
      "Epoch 2/50\n",
      "308/308 [==============================] - 241s 781ms/step - loss: 2.7231 - val_loss: 2.5949\n",
      "Epoch 3/50\n",
      "308/308 [==============================] - 244s 792ms/step - loss: 2.5129 - val_loss: 2.4472\n",
      "Epoch 4/50\n",
      "308/308 [==============================] - 257s 834ms/step - loss: 2.3710 - val_loss: 2.3345\n",
      "Epoch 5/50\n",
      "308/308 [==============================] - 246s 799ms/step - loss: 2.2634 - val_loss: 2.2540\n",
      "Epoch 6/50\n",
      "308/308 [==============================] - 241s 783ms/step - loss: 2.1759 - val_loss: 2.1893\n",
      "Epoch 7/50\n",
      "308/308 [==============================] - 246s 800ms/step - loss: 2.1006 - val_loss: 2.1363\n",
      "Epoch 8/50\n",
      "308/308 [==============================] - 242s 786ms/step - loss: 2.0362 - val_loss: 2.0941\n",
      "Epoch 9/50\n",
      "308/308 [==============================] - 241s 782ms/step - loss: 1.9805 - val_loss: 2.0600\n",
      "Epoch 10/50\n",
      "308/308 [==============================] - 238s 774ms/step - loss: 1.9319 - val_loss: 2.0349\n",
      "Epoch 11/50\n",
      "308/308 [==============================] - 239s 774ms/step - loss: 1.8877 - val_loss: 2.0045\n",
      "Epoch 12/50\n",
      "308/308 [==============================] - 239s 777ms/step - loss: 1.8489 - val_loss: 1.9871\n",
      "Epoch 13/50\n",
      "308/308 [==============================] - 239s 776ms/step - loss: 1.8131 - val_loss: 1.9744\n",
      "Epoch 14/50\n",
      "308/308 [==============================] - 238s 774ms/step - loss: 1.7799 - val_loss: 1.9707\n",
      "Epoch 15/50\n",
      "308/308 [==============================] - 238s 772ms/step - loss: 1.7506 - val_loss: 1.9470\n",
      "Epoch 16/50\n",
      "308/308 [==============================] - 238s 772ms/step - loss: 1.7231 - val_loss: 1.9383\n",
      "Epoch 17/50\n",
      "308/308 [==============================] - 238s 773ms/step - loss: 1.6972 - val_loss: 1.9325\n",
      "Epoch 18/50\n",
      "308/308 [==============================] - 238s 773ms/step - loss: 1.6734 - val_loss: 1.9198\n",
      "Epoch 19/50\n",
      "308/308 [==============================] - 237s 770ms/step - loss: 1.6511 - val_loss: 1.9150\n",
      "Epoch 20/50\n",
      "308/308 [==============================] - 237s 770ms/step - loss: 1.6302 - val_loss: 1.9151\n",
      "Epoch 21/50\n",
      "308/308 [==============================] - 238s 772ms/step - loss: 1.6095 - val_loss: 1.9010\n",
      "Epoch 22/50\n",
      "308/308 [==============================] - 244s 791ms/step - loss: 1.5919 - val_loss: 1.9131\n",
      "Epoch 23/50\n",
      "308/308 [==============================] - 237s 768ms/step - loss: 1.5749 - val_loss: 1.8988\n",
      "Epoch 24/50\n",
      "308/308 [==============================] - 240s 779ms/step - loss: 1.5582 - val_loss: 1.8982\n",
      "Epoch 25/50\n",
      "308/308 [==============================] - 242s 787ms/step - loss: 1.5422 - val_loss: 1.9017\n",
      "Epoch 26/50\n",
      "308/308 [==============================] - 245s 794ms/step - loss: 1.5268 - val_loss: 1.8987\n",
      "Epoch 00026: early stopping\n"
     ]
    }
   ],
   "source": [
    "model.compile(optimizer='rmsprop', loss='sparse_categorical_crossentropy')\n",
    "es = EarlyStopping(monitor='val_loss', patience=2, verbose=1)\n",
    "history = model.fit(x=[encoder_input_train, decoder_input_train], y=decoder_target_train, \\\n",
    "          validation_data=([encoder_input_test, decoder_input_test], decoder_target_test), \\\n",
    "          batch_size=256, callbacks=[es], epochs=50)"
   ]
  },
  {
   "cell_type": "markdown",
   "id": "faea475d",
   "metadata": {},
   "source": [
    "위 코드에서는 val_loss(검증 데이터의 손실)을 관찰하다가, 검증 데이터의 손실이 줄어들지 않고 증가하는 현상이 2회(patience=2) 관측되면 학습을 멈추도록 설정한다는 뜻임.\n",
    "\n",
    "EarlyStopping이 작동한다면 epochs가 아무리 크게 설정되어 있어도 모델 훈련을 최적점에서 멈출 수 있음"
   ]
  },
  {
   "cell_type": "code",
   "execution_count": 43,
   "id": "d2582e25",
   "metadata": {},
   "outputs": [
    {
     "data": {
      "image/png": "[encoded data removed]",
      "text/plain": [
       "<Figure size 432x288 with 1 Axes>"
      ]
     },
     "metadata": {
      "needs_background": "light"
     },
     "output_type": "display_data"
    }
   ],
   "source": [
    "plt.plot(history.history['loss'], label='train')\n",
    "plt.plot(history.history['val_loss'], label='test')\n",
    "plt.legend()\n",
    "plt.show()"
   ]
  },
  {
   "cell_type": "markdown",
   "id": "c452f567",
   "metadata": {},
   "source": [
    "### 인퍼런스 모델 구현하기\n",
    "\n",
    "seq2seq는 훈련할 때와 실제 동작할 때(인퍼런스 단계)의 방식이 다르므로 그에 맞게 모델 설계를 별개로 진행해야 됨.\n",
    "\n",
    "테스트 단계에서는 정수 인덱스 행렬로 존재하던 텍스트 데이터를 실제 데이터로 복원해야 하므로, 필요한 3개의 사전을 아래와 같이 미리 준비해야됨.\n",
    "\n",
    "훈련 단계에서는 디코더의 입력부에 정답이 되는 문장 전체를 한꺼번에 넣고 디코더의 출력과 한 번에 비교할 수 있으므로, 인코더와 디코더를 엮은 통짜 모델 하나만 준비했음\n",
    "\n",
    "그러나 정답 문장이 없는 인퍼런스 단계에서는 만들어야 할 문장의 길이만큼 디코더가 반복 구조로 동작해야 하기 때문에 부득이하게 인퍼런스를 위한 모델 설계를 별도로 해주어야 함. 이때는 인코더 모델과 디코더 모델을 분리해서 설계함."
   ]
  },
  {
   "cell_type": "code",
   "execution_count": 44,
   "id": "8b733bf3",
   "metadata": {},
   "outputs": [],
   "source": [
    "src_index_to_word = src_tokenizer.index_word # 원문 단어 집합에서 정수 -> 단어를 얻음\n",
    "tar_word_to_index = tar_tokenizer.word_index # 요약 단어 집합에서 단어 -> 정수를 얻음\n",
    "tar_index_to_word = tar_tokenizer.index_word # 요약 단어 집합에서 정수 -> 단어를 얻음"
   ]
  },
  {
   "cell_type": "code",
   "execution_count": 45,
   "id": "65bb5b63",
   "metadata": {},
   "outputs": [],
   "source": [
    "# 인코더 설계\n",
    "encoder_model = Model(inputs=encoder_inputs, outputs=[encoder_outputs, state_h, state_c])\n",
    "\n",
    "# 이전 시점의 상태들을 저장하는 텐서\n",
    "decoder_state_input_h = Input(shape=(hidden_size,))\n",
    "decoder_state_input_c = Input(shape=(hidden_size,))\n",
    "\n",
    "dec_emb2 = dec_emb_layer(decoder_inputs)\n",
    "\n",
    "# 문장의 다음 단어를 예측하기 위해서 초기 상태(initial_state)를 이전 시점의 상태로 사용. 이는 뒤의 함수 decode_sequence()에 구현\n",
    "# 훈련 과정에서와 달리 LSTM의 리턴하는 은닉 상태와 셀 상태인 state_h와 state_c를 버리지 않음.\n",
    "decoder_outputs2, state_h2, state_c2 = decoder_lstm(dec_emb2, initial_state=[decoder_state_input_h, decoder_state_input_c])\n"
   ]
  },
  {
   "cell_type": "code",
   "execution_count": 46,
   "id": "98c579ef",
   "metadata": {},
   "outputs": [],
   "source": [
    "# 어텐션 함수\n",
    "decoder_hidden_state_input = Input(shape=(text_max_len, hidden_size))\n",
    "attn_out_inf = attn_layer([decoder_outputs2, decoder_hidden_state_input])\n",
    "decoder_inf_concat = Concatenate(axis=-1, name='concat')([decoder_outputs2, attn_out_inf])\n",
    "\n",
    "# 디코더의 출력층\n",
    "decoder_outputs2 = decoder_softmax_layer(decoder_inf_concat) \n",
    "\n",
    "# 최종 디코더 모델\n",
    "decoder_model = Model(\n",
    "    [decoder_inputs] + [decoder_hidden_state_input,decoder_state_input_h, decoder_state_input_c],\n",
    "    [decoder_outputs2] + [state_h2, state_c2])"
   ]
  },
  {
   "cell_type": "code",
   "execution_count": 55,
   "id": "2208ea4d",
   "metadata": {},
   "outputs": [],
   "source": [
    "#인퍼런스 단계에서 단어 시퀀스를 완성하는 함수 형성\n",
    "def decode_sequence(input_seq):\n",
    "    # 입력으로부터 인코더의 상태를 얻음\n",
    "    e_out, e_h, e_c = encoder_model.predict(input_seq)\n",
    "\n",
    "     # <SOS>에 해당하는 토큰 생성\n",
    "    target_seq = np.zeros((1,1))\n",
    "    target_seq[0, 0] = tar_word_to_index['sostoken']\n",
    "\n",
    "    stop_condition = False\n",
    "    decoded_sentence = ''\n",
    "    while not stop_condition: # stop_condition이 True가 될 때까지 루프 반복\n",
    "\n",
    "        output_tokens, h, c = decoder_model.predict([target_seq] + [e_out, e_h, e_c])\n",
    "        sampled_token_index = np.argmax(output_tokens[0, -1, :])\n",
    "        sampled_token = tar_index_to_word[sampled_token_index]\n",
    "\n",
    "        if (sampled_token!='eostoken'):\n",
    "            decoded_sentence += ' '+sampled_token\n",
    "\n",
    "        #  <eos>에 도달하거나 최대 길이를 넘으면 중단.\n",
    "        if (sampled_token == 'eostoken'  or len(decoded_sentence.split()) >= (headlines_max_len-1)):\n",
    "            stop_condition = True\n",
    "\n",
    "        # 길이가 1인 타겟 시퀀스를 업데이트\n",
    "        target_seq = np.zeros((1,1))\n",
    "        target_seq[0, 0] = sampled_token_index\n",
    "\n",
    "        # 상태를 업데이트 합니다.\n",
    "        e_h, e_c = h, c\n",
    "\n",
    "    return decoded_sentence"
   ]
  },
  {
   "cell_type": "markdown",
   "id": "1f0e4e13",
   "metadata": {},
   "source": [
    "## 모델 테스트하기"
   ]
  },
  {
   "cell_type": "code",
   "execution_count": 56,
   "id": "bad2bcd0",
   "metadata": {},
   "outputs": [],
   "source": [
    "# 원문의 정수 시퀀스를 텍스트 시퀀스로 변환\n",
    "def seq2text(input_seq):\n",
    "    temp=''\n",
    "    for i in input_seq:\n",
    "        if (i!=0):\n",
    "            temp = temp + src_index_to_word[i]+' '\n",
    "    return temp\n",
    "\n",
    "# 요약문의 정수 시퀀스를 텍스트 시퀀스로 변환\n",
    "def seq2summary(input_seq):\n",
    "    temp=''\n",
    "    for i in input_seq:\n",
    "        if ((i!=0 and i!=tar_word_to_index['sostoken']) and i!=tar_word_to_index['eostoken']):\n",
    "            temp = temp + tar_index_to_word[i] + ' '\n",
    "    return temp"
   ]
  },
  {
   "cell_type": "markdown",
   "id": "7a26d902",
   "metadata": {},
   "source": [
    "주어진 정수 시퀀스를 텍스트 시퀀스로 변환하는 함수를 만듬\n",
    "함수를 만들 때, Text의 정수 시퀀스에서는 패딩을 위해 사용되는 숫자 0을 제외하고 Summary의 정수 시퀀스에서는 숫자 0, 시작 토큰의 인덱스, 종료 토큰의 인덱스를 출력에서 제외하도록 함"
   ]
  },
  {
   "cell_type": "markdown",
   "id": "f36dacdb",
   "metadata": {},
   "source": [
    "# Step 4. 실제 결과와 요약문 비교하기 (추상적 요약)"
   ]
  },
  {
   "cell_type": "code",
   "execution_count": 57,
   "id": "47c6f834",
   "metadata": {},
   "outputs": [
    {
     "name": "stdout",
     "output_type": "stream",
     "text": [
      "원문 : us maker ceo jeff resign settlement two company investors comes duo hold stake court order temporarily block billion takeover japan based court ruled deal ceo interests major shareholders \n",
      "실제 요약 : ceo quits in with top \n",
      "예측 요약 :  ceo resigns amid merger with bn\n",
      "\n",
      "\n",
      "원문 : india oldest pending civil case rajasthan high court since union mos law justice chaudhary said wednesday allahabad jammu kashmir high courts oldest pending criminal cases filed oldest pending civil criminal cases supreme court respectively \n",
      "실제 요약 : india oldest case in rajasthan hc since \n",
      "예측 요약 :  india oldest woman in sc st act case\n",
      "\n",
      "\n",
      "원문 : facebook coo sandberg monday announced program student cover financial needs outside launched collaboration knowledge power program select graduates named late husband program also connect throughout duration \n",
      "실제 요약 : facebook announces to honour late husband \n",
      "예측 요약 :  facebook to launch in\n",
      "\n",
      "\n",
      "원문 : american astronaut jack currently aboard international space station shared high definition time video earth video shot iss usa speeds kmph always fast around planet wrote launched iss april \n",
      "실제 요약 : shares time video of earth from space \n",
      "예측 요약 :  space station hits the first time\n",
      "\n",
      "\n",
      "원문 : bcci announced member squad play two ireland part team india first tour country years two held country capital june june squad face england three july july \n",
      "실제 요약 : bcci announces india squad for st tour in years \n",
      "예측 요약 :  bcci to play cricket in cricket\n",
      "\n",
      "\n",
      "원문 : french president emmanuel macron wife adopted dog named following tradition french presidents first dog presidential couple adopted dog cross animal shelter reportedly paid dog \n",
      "실제 요약 : france gets its first dog as president \n",
      "예측 요약 :  french prez wife husband dog\n",
      "\n",
      "\n",
      "원문 : bottom placed delhi daredevils already place ipl registered run victory defending champions mumbai indians eliminate race sunday second time last nine seasons three time champions mi failed qualify \n",
      "실제 요약 : out of ipl \n",
      "예측 요약 :  delhi beat delhi to register th straight win\n",
      "\n",
      "\n",
      "원문 : bharatiya janata party himachal pradesh assembly elections seats vote share whereas congress secured seats vote share bjp earlier declared prem kumar chief ministerial candidate election member assembly witnessed record voter turnout \n",
      "실제 요약 : bjp wins seats in himachal elections cong bags seats \n",
      "예측 요약 :  bjp himachal himachal poll win in himachal\n",
      "\n",
      "\n",
      "원문 : bjp worker rajasthan named killed allegedly bike borne men saturday first shot slit throat sword police said men escaped soon attacking worker died spot worked backward classes cell bjp nn \n",
      "실제 요약 : bjp worker shot at with in rajasthan \n",
      "예측 요약 :  bjp worker dies in bike in uttar pradesh\n",
      "\n",
      "\n",
      "원문 : retired year old japanese created gaming app based japanese festival oldest person attend apple worldwide developers conference year started using computer age took online apple annual conference new software technologies \n",
      "실제 요약 : yr old woman app maker oldest to attend apple \n",
      "예측 요약 :  man who to be oldest to apple\n",
      "\n",
      "\n",
      "원문 : pakistan financial regulatory body banned mumbai terror attack mastermind hafiz saeed collecting donations ban imposed saeed led jamaat ud organisations listed banned outfits united nations security council comes amid us calls pakistan act terrorist soil \n",
      "실제 요약 : pak bans saeed from \n",
      "예측 요약 :  pakistan bans saeed saeed\n",
      "\n",
      "\n",
      "원문 : passengers cabin crew got argument tuesday delhi bengaluru spicejet flight repeatedly delayed passengers including children reportedly sat inside aircraft hours reason given delay flight scheduled pm passengers reportedly different aircraft \n",
      "실제 요약 : passengers crew face off over delay \n",
      "예측 요약 :  passenger passenger on flight\n",
      "\n",
      "\n",
      "원문 : several supreme court judges reportedly upset government notification three new sc judges claiming newly elevated judge km joseph according notification indira banerjee take oath joseph thereby making senior judges joseph take oath first since name recommended first \n",
      "실제 요약 : sc claim govt report \n",
      "예측 요약 :  sc centre to review of\n",
      "\n",
      "\n",
      "원문 : haryana deputy advocate general singh suspended video carrying rape convict gurmeet ram rahim singh luggage following latter conviction surfaced online singh currently lodged haryana rohtak jail taken prison special chopper self godman quantum punishment monday \n",
      "실제 요약 : haryana dy sacked for carrying ram rahim bag \n",
      "예측 요약 :  haryana govt suspends for ram rahim\n",
      "\n",
      "\n",
      "원문 : number bangladeshi migrants india come lakh since stands lakh un report stated claimed lakh people bangladesh living india meanwhile report also revealed number migrants countries living india currently lakh \n",
      "실제 요약 : in india reduce by in yrs un \n",
      "예측 요약 :  india to lakh lakh in un\n",
      "\n",
      "\n",
      "원문 : year old doctor west bengal collapsed died heart attack minutes newborn girl life labour room newborn showed movement delivery following doctor reportedly placed managed revive collapsed declared brought dead nearby hospital \n",
      "실제 요약 : minutes after to life doctor dies in room \n",
      "예측 요약 :  dies of heart attack girl in bengal\n",
      "\n",
      "\n",
      "원문 : around people evacuated apple store switzerland due smoke iphone battery swiss police said incident occurred battery removed repair worker got injured due heat police said forensic incident \n",
      "실제 요약 : swiss apple store after iphone \n",
      "예측 요약 :  apple store in store in store\n",
      "\n",
      "\n",
      "원문 : nawazuddin siddiqui said revealing details relationships ex singh sunita ordinary life biggest mistake life taken names added sunita accused nawazuddin making false claims relationships publicity \n",
      "실제 요약 : biggest mistake of my life nawazuddin on his \n",
      "예측 요약 :  my life is my life nawazuddin\n",
      "\n",
      "\n",
      "원문 : bahujan samaj party chief mayawati samajwadi party chief akhilesh yadav saturday announced parties contest upcoming lok sabha elections alliance parties contest seats uttar pradesh mayawati said two seats left allies constituencies alliance \n",
      "실제 요약 : sp bsp alliance for polls to contest seats each in up \n",
      "예측 요약 :  bsp sp alliance for polls akhilesh\n",
      "\n",
      "\n",
      "원문 : runner competing first marathon finished first among british participants ahead professional runners london marathon sunday finished th overall timing also sealed qualification british team upcoming world championships london new expecting said \n",
      "실제 요약 : st time before for ship \n",
      "예측 요약 :  st female to win at\n",
      "\n",
      "\n",
      "원문 : russian president vladimir putin called russia us engage cooperation new year greetings us president donald trump russian president added russia us dialogue necessary maintain global stability comes russia said relationship two countries biggest \n",
      "실제 요약 : putin urges with us in new year wishes \n",
      "예측 요약 :  putin on putin summit with russia\n",
      "\n",
      "\n",
      "원문 : priyanka chopra thanked variety including magazine list business leaders entertainment industry production house pictures also mentioned list would possible without team feels like miles go truly grateful every step take wrote instagram \n",
      "실제 요약 : to go priyanka on being among top leaders \n",
      "예측 요약 :  priyanka chopra to be at magazine\n",
      "\n",
      "\n",
      "원문 : dangal actress sanya malhotra made ramp walk debut fashion week winter brand project sanya wore black shirt featured collection little heart designs collection inspired children stick figures \n",
      "실제 요약 : actress makes her debut at fashion week \n",
      "예측 요약 :  wears for\n",
      "\n",
      "\n",
      "원문 : low cost carrier spicejet monday signed initial pact us aircraft maker boeing new max planes agreement aircraft valued billion current list prices spicejet become inaugural customer aircraft designed cut strong sales boeing rival airbus \n",
      "실제 요약 : to buy planes from in billion deal \n",
      "예측 요약 :  air india firm to buy planes for billion\n",
      "\n",
      "\n",
      "원문 : talking never offered hollywood films shah rukh khan said even know good enough jokingly added think english little weak srk said look cannot look look moon every day reach \n",
      "실제 요약 : do not even know if am good enough to do wood films srk \n",
      "예측 요약 :  will not have good if am actor srk\n",
      "\n",
      "\n",
      "원문 : police filed case people including congress mla connection nearly voter recovered bengaluru flat however fir affect upcoming karnataka assembly elections chief electoral officer kumar said congress earlier alleged flat owned bjp leader \n",
      "실제 요약 : congress mla others booked in fake id card case \n",
      "예측 요약 :  fir against congress mla over congress mlas\n",
      "\n",
      "\n",
      "원문 : chennai based online acquired online startup cash stock deal nearly million deal fully team technology platform founded iit graduates abhishek kumar singh connects patients doctors country via online consultation \n",
      "실제 요약 : chennai based acquires health tech startup \n",
      "예측 요약 :  chennai based buys startup\n",
      "\n",
      "\n",
      "원문 : cbi conducted raids former union minister chidambaram son karti chennai tuesday per reports cbi raided least properties cities including mumbai delhi raids reportedly linked given media owned media baron peter chidambaram finance minister \n",
      "실제 요약 : cbi raids of former union minister chidambaram \n",
      "예측 요약 :  cbi raids chidambaram son in noida\n",
      "\n",
      "\n",
      "원문 : government school west bengal reportedly distributed maps showing parts kashmir pakistan examination bjp state general secretary raju banerjee claimed map also showed arunachal pradesh outside indian border alleging map circulated trinamool congress led teachers bjp said party supported terrorists \n",
      "실제 요약 : wb govt school gives showing of kashmir in pak \n",
      "예측 요약 :  west bengal govt to mamata\n",
      "\n",
      "\n",
      "원문 : farmers gujarat sought right die state government gujarat power corporation limited trying forcibly acquire land farmers body member said letters pm narendra modi farmers asked army kill forced acquisition making feel like terrorists \n",
      "실제 요약 : guj farmers seek right to die over forced \n",
      "예측 요약 :  farmers suicide due to govt in delhi\n",
      "\n",
      "\n",
      "원문 : air india largest pilot union wednesday asked centre clear salary national carrier indian commercial pilots association demanded illegally flying related air india salary cuts part plan reportedly owes crore employees \n",
      "실제 요약 : clear salary before air india pilots \n",
      "예측 요약 :  air india debt will not be air india debt\n",
      "\n",
      "\n",
      "원문 : actress said wrong blame ousted central board film certification chairman pahlaj nihalani board tenure think combination people make board equally responsible whatever happened chairperson added \n",
      "실제 요약 : wrong to only for how cbfc says \n",
      "예측 요약 :  cbfc slams for\n",
      "\n",
      "\n",
      "원문 : indian cricketer harbhajan singh set make singing debut single composed song celebrate contribution real life heroes towards welfare nation sung hindi english combined premiere december year \n",
      "실제 요약 : harbhajan singh to debut as singer with \n",
      "예측 요약 :  harbhajan singh to make debut with\n",
      "\n",
      "\n",
      "원문 : us president donald trump tuesday denied kissing woman forcibly trump tower years ago would public space live security cameras running trump tweeted trump came washington post published front page story woman claimed trump kissed two minutes maybe less \n",
      "실제 요약 : trump denies woman in of trump tower \n",
      "예측 요약 :  trump denies pregnant woman not to walk pregnant woman\n",
      "\n",
      "\n",
      "원문 : union minister dharmendra pradhan sunday said odisha chief minister naveen patnaik bjp rise added patnaik spreading speculations may support bjp fearing pm narendra modi state said sure number one party also get majority assembly \n",
      "실제 요약 : with bjp rise \n",
      "예측 요약 :  bjp minister calls for cabinet\n",
      "\n",
      "\n",
      "원문 : germany based researchers developed augmented reality system virtual image skin patient exact position ar system based use data glasses helps locate aid virtual created patient \n",
      "실제 요약 : to help doctors in surgery made \n",
      "예측 요약 :  scientists develop to videos\n",
      "\n",
      "\n",
      "원문 : bahrain sheikh sued businessman crore allegedly deal meet bollywood celebrities meeting srk salman khan ranbir kapoor aditya roy kapur businessman claimed sheikh ali al bahrain king cousin agreed meet actors broke exclusive deal \n",
      "실제 요약 : sued for cr on deal to meet wood stars \n",
      "예측 요약 :  sues crore for srk kareena\n",
      "\n",
      "\n",
      "원문 : sending thousands soldiers leave next month country run money feed pay essential bills defence ministry facing financial crisis due cut budget government also banned public officials travelling abroad \n",
      "실제 요약 : runs out of cash to army sends troops on leave \n",
      "예측 요약 :  soldiers to pay lakh to pak\n",
      "\n",
      "\n",
      "원문 : bsf jawan sunday allegedly shot dead three colleagues including head constable committed suicide tripura police said head constable died spot two colleagues succumbed injuries later matter investigated bsf official said \n",
      "실제 요약 : bsf jawan shoots dead kills self in tripura \n",
      "예측 요약 :  jawan jawan shot dead by in tripura\n",
      "\n",
      "\n",
      "원문 : secret project us central intelligence agency allows federal agency secretly biometric data services fbi according documents released organisation wikileaks comes part wikileaks ongoing series intelligence agency alleged hacking capabilities \n",
      "실제 요약 : secret project data from fbi \n",
      "예측 요약 :  us secret report\n",
      "\n",
      "\n",
      "원문 : two samajwadi party one bahujan samaj party resigned uttar pradesh legislative council respective parties could allow cm yogi adityanath four bjp ministers nominated legislative body without contesting elections reports said adityanath ministers need join one two state september \n",
      "실제 요약 : bsp sp resign from up council \n",
      "예측 요약 :  bsp bsp sp bsp chief mayawati\n",
      "\n",
      "\n",
      "원문 : actor nawazuddin siddiqui said happy aamir khan played character film secret superstar think actors image able play character earlier actors image added nawazuddin said good thing actors trying experiment character choices \n",
      "실제 요약 : happy on aamir role in secret nawazuddin \n",
      "예측 요약 :  aamir aamir aamir khan to star in upcoming film\n",
      "\n",
      "\n",
      "원문 : hardik pandya criticised comments koffee karan rounder issued apology saying got bit carried away show nature way mean hurt anyone sentiments wrote one instance pandya said parents proud scene multiple girls \n",
      "실제 요약 : got away pandya apologises for remarks on with karan \n",
      "예측 요약 :  hardik pandya asked me to win him\n",
      "\n",
      "\n",
      "원문 : independent survey tennis players claimed first hand knowledge match fixing alleging tsunami corruption lower levels sport report found male female players able break even without accounting coaching costs possibly making lower level players vulnerable \n",
      "실제 요약 : of at of tennis claims report \n",
      "예측 요약 :  world no match in\n",
      "\n",
      "\n",
      "원문 : talking husband sanjay dutt serving time prison violating law dutt said twins know father wrong worry two things might able happened might start thinking whatever dad back cool added \n",
      "실제 요약 : should know sanjay law was wrong says wife \n",
      "예측 요약 :  dutt has not on sister\n",
      "\n",
      "\n",
      "원문 : indian air force singh laid rest state funeral full delhi square monday iaf star ranked officer honoured gun salute fly past funeral attended three forces along defence minister among others \n",
      "실제 요약 : iaf singh to after state funeral \n",
      "예측 요약 :  iaf iaf member in honour to honour\n",
      "\n",
      "\n",
      "원문 : several political parties darjeeling including ruling party morcha reached decision fight separate state party meeting west bengal ruling party tmc ally also attended meet showing support separate state india league jan party expressed support despite meeting \n",
      "실제 요약 : political parties to demand state \n",
      "예측 요약 :  party to hold party in\n",
      "\n",
      "\n",
      "원문 : delhi captain iyer last played odi february get play single match india last two series said someone says team team kuch added hai want selection issues rule happiness said \n",
      "실제 요약 : am now on india \n",
      "예측 요약 :  would play to play in cricket in my cricket\n",
      "\n",
      "\n",
      "원문 : large began faster smaller counterparts least years ago africa due hunting burning forests humans us based study found fossil records researchers warned currently listed vulnerable went within next years cows would largest left earth \n",
      "실제 요약 : humans big to study \n",
      "예측 요약 :  in years ago study\n",
      "\n",
      "\n",
      "원문 : bangladesh defeated australia favour australia second odi series england june mohammad maiden odi ton helped bangladesh chase final defeat called defeat sport history sydney daily \n",
      "실제 요약 : desh beat to win against australia yrs ago \n",
      "예측 요약 :  desh beat desh to win odi series against bangladesh\n",
      "\n",
      "\n"
     ]
    }
   ],
   "source": [
    "for i in range(50, 100):\n",
    "    print(\"원문 :\", seq2text(encoder_input_test[i]))\n",
    "    print(\"실제 요약 :\", seq2summary(decoder_input_test[i]))\n",
    "    print(\"예측 요약 :\", decode_sequence(encoder_input_test[i].reshape(1, text_max_len)))\n",
    "    print(\"\\n\")"
   ]
  },
  {
   "cell_type": "markdown",
   "id": "e176fb31",
   "metadata": {},
   "source": [
    "# Step 5. Summa을 이용해서 추출적 요약해보기"
   ]
  },
  {
   "cell_type": "code",
   "execution_count": 59,
   "id": "c443ebb9",
   "metadata": {},
   "outputs": [
    {
     "name": "stdout",
     "output_type": "stream",
     "text": [
      "The screen is filled with green, cascading code which gives way to the title, The Matrix.\r\n",
      "\r\n",
      "A phone rings and text appears on the screen: \"Call trans opt: received. 2-19-98 13:24:18 REC: Log>\" As a conversation takes place between Trinity (Carrie-Anne Moss) and Cypher (Joe Pantoliano), two free humans, a table of random green numbers are being scanned and individual numbers selected, creating a series of digits not unlike an ordinary phone number, as if a code is being deciphered or a call is being traced.\r\n",
      "\r\n",
      "Trinity discusses some unknown person. Cypher taunts Trinity, suggesting she enjoys watching him. Trinity counters that \"Morpheus (Laurence Fishburne) says he may be 'the One',\" just as the sound of a number being selected alerts Trinity that someone may be tracing their call. She ends the call.\r\n",
      "\r\n",
      "Armed policemen move down a darkened, decrepit hallway in the Heart O' the City Hotel, their flashlight beam bouncing just ahead of them. They come to room 303, kick down the door and find a woman dressed in black, facing away from them. It's Trinity. She brings her hands up from the laptop she's working on at their command.\r\n",
      "\r\n",
      "Outside the hotel a car drives up and three agents appear in neatly pressed black suits. They are Agent Smith (Hugo Weaving), Agent Brown (Paul Goddard), and Agent Jones (Robert Taylor). Agent Smith and the presiding police lieutenant argue. Agent Smith admonishes the policeman that they were given specific orders to contact the agents first, for their\n"
     ]
    }
   ],
   "source": [
    "import requests\n",
    "from summa.summarizer import summarize\n",
    "\n",
    "text = requests.get('http://rare-technologies.com/the_matrix_synopsis.txt').text\n",
    "\n",
    "print(text[:1500])"
   ]
  },
  {
   "cell_type": "markdown",
   "id": "32001b48",
   "metadata": {},
   "source": [
    "####  summarize()의 인자\n",
    "\n",
    "- text (str) : 요약할 테스트.\n",
    "- ratio (float, optional) – 요약문에서 원본에서 선택되는 문장 비율. 0~1 사이값\n",
    "- words (int or None, optional) – 출력에 포함할 단어 수.\n",
    "- 만약, ratio와 함께 두 파라미터가 모두 제공되는 경우 ratio는 무시한다.\n",
    "- split (bool, optional) – True면 문장 list / False는 조인(join)된 문자열을 반환"
   ]
  },
  {
   "cell_type": "markdown",
   "id": "cf0d9c21",
   "metadata": {},
   "source": [
    "Summa의 summarize는 문장 토큰화를 별도로 하지 않더라도 내부적으로 문장 토큰화를 수행함. 그렇기 때문에 문장 구분이 되어있지 않은 원문을 바로 입력으로 넣을 수 있음. \n",
    "\n",
    "원문의 0.005%만을 출력하도록 설정함."
   ]
  },
  {
   "cell_type": "code",
   "execution_count": 60,
   "id": "86010ae5",
   "metadata": {},
   "outputs": [
    {
     "name": "stdout",
     "output_type": "stream",
     "text": [
      "Summary:\n",
      "Morpheus, Trinity, Neo, Apoc, Switch, Mouse and Cypher are jacked into the Matrix.\n",
      "Trinity brings the helicopter down to the floor that Morpheus is on and Neo opens fire on the three Agents.\n"
     ]
    }
   ],
   "source": [
    "print('Summary:')\n",
    "print(summarize(text, ratio=0.005))"
   ]
  },
  {
   "cell_type": "code",
   "execution_count": 61,
   "id": "48fdac4f",
   "metadata": {},
   "outputs": [
    {
     "name": "stdout",
     "output_type": "stream",
     "text": [
      "Summary:\n",
      "['Morpheus, Trinity, Neo, Apoc, Switch, Mouse and Cypher are jacked into the Matrix.', 'Trinity brings the helicopter down to the floor that Morpheus is on and Neo opens fire on the three Agents.']\n"
     ]
    }
   ],
   "source": [
    "print('Summary:')\n",
    "print(summarize(text, ratio=0.005, split=True))"
   ]
  },
  {
   "cell_type": "code",
   "execution_count": 62,
   "id": "75fc68e2",
   "metadata": {},
   "outputs": [
    {
     "name": "stdout",
     "output_type": "stream",
     "text": [
      "Summary:\n",
      "Trinity takes Neo to Morpheus.\n",
      "Morpheus, Trinity, Neo, Apoc, Switch, Mouse and Cypher are jacked into the Matrix.\n",
      "Trinity brings the helicopter down to the floor that Morpheus is on and Neo opens fire on the three Agents.\n"
     ]
    }
   ],
   "source": [
    "print('Summary:')\n",
    "print(summarize(text, words=50))"
   ]
  },
  {
   "cell_type": "markdown",
   "id": "4c227321",
   "metadata": {},
   "source": [
    "추상적 요약은 추출적 요약과는 달리 문장의 표현력을 다양하게 가져갈 수 있지만, 추출적 요약에 비해서 난이도가 높음. 반대로 말하면 추출적 요약은 추상적 요약에 비해 난이도가 낮고 기존 문장에서 문장을 꺼내오는 것이므로 잘못된 요약이 나올 가능성이 낮음"
   ]
  },
  {
   "cell_type": "markdown",
   "id": "f0046444",
   "metadata": {},
   "source": [
    "# Report\n",
    "\n"
   ]
  },
  {
   "cell_type": "markdown",
   "id": "0f08236e",
   "metadata": {},
   "source": [
    "앞서 seq2seq를 통한 추상적 요약과 패키지 summa를 활용해 추출적 요약을 실습해보았음.\n",
    "\n",
    "패키지 Summa에서는 추출적 요약을 위한 모듈인 summarize를 제공하고 있어 아주 간단하게 실습을 해볼 수 있었음.\n",
    "\n",
    "추상적 요약은 추출적 요약과는 달리 문장의 표현력을 다양하게 가져 올 수 있었으나, 표현이 어색하게 표현될 수 있는 반면에, 추출적 요약은 말 그대로 기존 문장에서 문장을 꺼내오는 것이므로 잘못된 요약으로 나올 가능성이 낮은 것을 확인 할 수 있었음.\n",
    "\n",
    "추출적 요약의 단점으로는 중요한 상위 몇개의 문장들만 뽑아낸거지, 이 문장들이 전체 내용을 요약해준 것은 아니다는 점임."
   ]
  }
 ],
 "metadata": {
  "kernelspec": {
   "display_name": "Python 3 (ipykernel)",
   "language": "python",
   "name": "python3"
  },
  "language_info": {
   "codemirror_mode": {
    "name": "ipython",
    "version": 3
   },
   "file_extension": ".py",
   "mimetype": "text/x-python",
   "name": "python",
   "nbconvert_exporter": "python",
   "pygments_lexer": "ipython3",
   "version": "3.9.7"
  }
 },
 "nbformat": 4,
 "nbformat_minor": 5
}
